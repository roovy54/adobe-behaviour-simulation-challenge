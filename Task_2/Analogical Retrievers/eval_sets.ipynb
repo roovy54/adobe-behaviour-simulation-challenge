{
 "cells": [
  {
   "cell_type": "code",
   "execution_count": 3,
   "metadata": {},
   "outputs": [],
   "source": [
    "import pandas as pd\n",
    "import numpy as np\n",
    "from datetime import datetime, timedelta\n",
    "# import pickle\n",
    "import json\n",
    "pd.options.mode.chained_assignment = None"
   ]
  },
  {
   "cell_type": "code",
   "execution_count": 4,
   "metadata": {},
   "outputs": [],
   "source": [
    "with open('companies.json', 'r') as json_file:\n",
    "    companies_arr = json.load(json_file)\n",
    "\n",
    "with open('seen_brands.json', 'r') as json_file:\n",
    "    seen_brands = json.load(json_file)\n",
    "\n",
    "with open('unseen_brands.json', 'r') as json_file:\n",
    "    unseen_brands = json.load(json_file)"
   ]
  },
  {
   "cell_type": "code",
   "execution_count": 5,
   "metadata": {},
   "outputs": [],
   "source": [
    "train = pd.read_excel(\"content_simulation_train.xlsx\")\n",
    "test_time = pd.read_excel(\"content_simulation_test_time.xlsx\")\n",
    "test_company = pd.read_excel(\"content_simulation_test_company.xlsx\")"
   ]
  },
  {
   "cell_type": "markdown",
   "metadata": {},
   "source": [
    "## For unseen periods (test_time)"
   ]
  },
  {
   "cell_type": "code",
   "execution_count": 8,
   "metadata": {},
   "outputs": [],
   "source": [
    "def unseen_brand(likes, input_date, inp_unseen_brand, k=5):\n",
    "    input_date = datetime.strptime(input_date, '%Y-%m-%d %H:%M:%S')\n",
    "    train['date'] = pd.to_datetime(train['date'])\n",
    "    \n",
    "    filtered_df = train.copy()\n",
    "    \n",
    "    companies = []\n",
    "    for row in companies_arr:\n",
    "        if inp_unseen_brand in row:\n",
    "            companies = row\n",
    "    \n",
    "    filtered2_df = filtered_df[filtered_df['inferred company'].isin(companies)]\n",
    "    filtered2_df['date_distance'] = abs(filtered2_df['date'] - input_date)\n",
    "    filtered2_df['likes_distance'] = abs(filtered2_df['likes'] - likes)\n",
    "    \n",
    "    sorted_df = filtered2_df.sort_values(by=['date_distance', 'likes_distance'])\n",
    "    top_k_df = sorted_df.head(k)\n",
    "    top_k_df = top_k_df.drop(columns=['date_distance']).reset_index(drop=True)\n",
    "    top_k_df = top_k_df.drop(columns=['likes_distance']).reset_index(drop=True)\n",
    "    \n",
    "    return top_k_df"
   ]
  },
  {
   "cell_type": "code",
   "execution_count": 7,
   "metadata": {},
   "outputs": [],
   "source": [
    "def unseen_period(input_company_name,input_likes,k=5):\n",
    "    matching_rows = train[train['inferred company'] == input_company_name]\n",
    "\n",
    "    if matching_rows.empty:\n",
    "        print(f\"No matching rows found for {input_company_name}\")\n",
    "        return None\n",
    "\n",
    "    df_new = matching_rows.copy()\n",
    "\n",
    "    df_new['likes_diff'] = abs(train['likes'] - input_likes)\n",
    "\n",
    "    df_sorted = df_new.sort_values(by='likes_diff')\n",
    "\n",
    "    if(len(df_sorted)>=k):\n",
    "        return df_sorted[:k]\n",
    "    else:\n",
    "        return df_sorted"
   ]
  },
  {
   "cell_type": "code",
   "execution_count": 106,
   "metadata": {},
   "outputs": [
    {
     "data": {
      "text/plain": [
       "(list, list)"
      ]
     },
     "execution_count": 106,
     "metadata": {},
     "output_type": "execute_result"
    }
   ],
   "source": [
    "type(unseen_brands),type(seen_brands)"
   ]
  },
  {
   "cell_type": "code",
   "execution_count": 6,
   "metadata": {},
   "outputs": [
    {
     "data": {
      "text/plain": [
       "('mcafee', 'eaton', 'sky')"
      ]
     },
     "execution_count": 6,
     "metadata": {},
     "output_type": "execute_result"
    }
   ],
   "source": [
    "train['inferred company'][10],test_time['inferred company'][5],test_company['inferred company'][100]"
   ]
  },
  {
   "cell_type": "code",
   "execution_count": 26,
   "metadata": {},
   "outputs": [],
   "source": [
    "test_time['KNN 1'] = \"\"\n",
    "test_time['KNN 2'] = \"\"\n",
    "test_time['KNN 3'] = \"\""
   ]
  },
  {
   "cell_type": "code",
   "execution_count": 27,
   "metadata": {},
   "outputs": [
    {
     "name": "stdout",
     "output_type": "stream",
     "text": [
      "0\n",
      "500\n",
      "1000\n",
      "1500\n",
      "No matching rows found for bulgari\n",
      "1538\n",
      "Series([], dtype: float64)\n",
      "No matching rows found for bulgari\n",
      "1978\n",
      "Series([], dtype: float64)\n",
      "2000\n",
      "2500\n",
      "No matching rows found for radioshack\n",
      "2542\n",
      "Series([], dtype: float64)\n",
      "3000\n",
      "3500\n",
      "4000\n",
      "4500\n",
      "5000\n",
      "No matching rows found for bulgari\n",
      "5020\n",
      "Series([], dtype: float64)\n",
      "5500\n",
      "6000\n",
      "6500\n",
      "No matching rows found for bulgari\n",
      "6692\n",
      "Series([], dtype: float64)\n",
      "7000\n",
      "No matching rows found for bulgari\n",
      "7189\n",
      "Series([], dtype: float64)\n",
      "7500\n",
      "No matching rows found for bulgari\n",
      "7781\n",
      "Series([], dtype: float64)\n",
      "8000\n",
      "8500\n",
      "No matching rows found for radioshack\n",
      "8616\n",
      "Series([], dtype: float64)\n",
      "9000\n",
      "9500\n"
     ]
    }
   ],
   "source": [
    "for i in range(len(test_time)):\n",
    "    brand = test_time['inferred company'][i]\n",
    "    if(i%500==0):\n",
    "        print(i)\n",
    "    likes = test_time['likes'][i]\n",
    "    df_output = unseen_period(brand,likes,3)\n",
    "\n",
    "    try:\n",
    "        triplet = df_output['content'].reset_index(drop=True).tolist()\n",
    "        test_time['KNN 1'][i] = triplet[0]\n",
    "        test_time['KNN 2'][i] = triplet[1]\n",
    "        test_time['KNN 3'][i] = triplet[2]\n",
    "    except:\n",
    "        print(i)\n",
    "        print(pd.Series(triplet,dtype='float64'))\n",
    "    triplet = pd.Series([],dtype='float64')"
   ]
  },
  {
   "cell_type": "code",
   "execution_count": 28,
   "metadata": {},
   "outputs": [],
   "source": [
    "test_company['KNN 1'] = \"\"\n",
    "test_company['KNN 2'] = \"\"\n",
    "test_company['KNN 3'] = \"\""
   ]
  },
  {
   "cell_type": "code",
   "execution_count": 29,
   "metadata": {},
   "outputs": [
    {
     "data": {
      "text/plain": [
       "0          2\n",
       "1          1\n",
       "2        502\n",
       "3        151\n",
       "4        362\n",
       "        ... \n",
       "9995     380\n",
       "9996    2563\n",
       "9997       1\n",
       "9998     324\n",
       "9999     167\n",
       "Name: likes, Length: 10000, dtype: int64"
      ]
     },
     "execution_count": 29,
     "metadata": {},
     "output_type": "execute_result"
    }
   ],
   "source": [
    "test_company['likes']"
   ]
  },
  {
   "cell_type": "code",
   "execution_count": 30,
   "metadata": {},
   "outputs": [
    {
     "name": "stdout",
     "output_type": "stream",
     "text": [
      "0\n",
      "500\n",
      "1000\n",
      "1500\n",
      "2000\n",
      "2500\n"
     ]
    }
   ],
   "source": [
    "not_working =[]\n",
    "for i in range(len(test_company)):\n",
    "    brand = test_company['inferred company'][i]\n",
    "    if(i%500==0):    \n",
    "        print(i)\n",
    "    likes = test_company['likes'][i]\n",
    "    date = test_company['date'][i]\n",
    "    df_output = unseen_brand(likes, date, brand, 3)\n",
    "    triplet = df_output['content'].reset_index(drop=True)\n",
    "    try:\n",
    "        test_company['KNN 1'][i] = triplet[0]\n",
    "        test_company['KNN 2'][i] = triplet[1]\n",
    "        test_company['KNN 3'][i] = triplet[2]\n",
    "    except:\n",
    "        print(i)\n",
    "        not_working.append(i)\n",
    "        print(pd.Series(triplet))"
   ]
  },
  {
   "cell_type": "code",
   "execution_count": 24,
   "metadata": {},
   "outputs": [
    {
     "data": {
      "text/plain": [
       "array([], dtype=float64)"
      ]
     },
     "execution_count": 24,
     "metadata": {},
     "output_type": "execute_result"
    }
   ],
   "source": [
    "arr=[]\n",
    "for i in not_working:\n",
    "    arr.append(test_company['inferred company'][i])\n",
    "arr2 = np.array(arr)\n",
    "np.unique(arr2)"
   ]
  },
  {
   "cell_type": "code",
   "execution_count": 25,
   "metadata": {},
   "outputs": [],
   "source": [
    "test_company.to_csv(\"test_company.csv\")"
   ]
  },
  {
   "cell_type": "code",
   "execution_count": 22,
   "metadata": {},
   "outputs": [],
   "source": [
    "test_time.to_csv(\"test_time.csv\")"
   ]
  },
  {
   "cell_type": "code",
   "execution_count": null,
   "metadata": {},
   "outputs": [],
   "source": []
  }
 ],
 "metadata": {
  "interpreter": {
   "hash": "8ff1e3bcc722a39238b6a7f93d00740f2997fe4fe04527d6796cad45df3c0deb"
  },
  "kernelspec": {
   "display_name": "Python 3.11.5 64-bit ('mne': conda)",
   "name": "python3"
  },
  "language_info": {
   "codemirror_mode": {
    "name": "ipython",
    "version": 3
   },
   "file_extension": ".py",
   "mimetype": "text/x-python",
   "name": "python",
   "nbconvert_exporter": "python",
   "pygments_lexer": "ipython3",
   "version": "3.11.5"
  },
  "orig_nbformat": 4
 },
 "nbformat": 4,
 "nbformat_minor": 2
}
