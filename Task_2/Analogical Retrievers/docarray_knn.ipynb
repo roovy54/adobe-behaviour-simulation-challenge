{
 "cells": [
  {
   "cell_type": "code",
   "execution_count": 49,
   "metadata": {},
   "outputs": [],
   "source": [
    "from docarray import BaseDoc\n",
    "from docarray.typing import TorchTensor, ImageUrl\n",
    "import torch\n",
    "from docarray import DocVec\n",
    "import numpy as np\n",
    "from sklearn.cluster import KMeans\n",
    "from numpy.linalg import norm\n",
    "from datetime import datetime,timedelta\n",
    "import pandas as pd"
   ]
  },
  {
   "cell_type": "markdown",
   "metadata": {},
   "source": [
    "## Load df and define docvec"
   ]
  },
  {
   "cell_type": "code",
   "execution_count": 50,
   "metadata": {},
   "outputs": [],
   "source": [
    "df_1 = pd.read_csv(\"50klangbind_imgvid_embeddings.csv\")"
   ]
  },
  {
   "cell_type": "code",
   "execution_count": 51,
   "metadata": {},
   "outputs": [
    {
     "data": {
      "text/plain": [
       "(768.667120278388, 4717.11668830317)"
      ]
     },
     "execution_count": 51,
     "metadata": {},
     "output_type": "execute_result"
    }
   ],
   "source": [
    "MEAN_LIKES = np.mean(df_1['likes'].to_numpy())\n",
    "STD_LIKES = np.std(df_1['likes'].to_numpy())\n",
    "MEAN_LIKES,STD_LIKES"
   ]
  },
  {
   "cell_type": "code",
   "execution_count": 52,
   "metadata": {},
   "outputs": [],
   "source": [
    "class TrainDoc(BaseDoc):\n",
    "    id:int\n",
    "    likes:float\n",
    "    embeddings:str\n",
    "    inferred_company: str\n",
    "    date: str"
   ]
  },
  {
   "cell_type": "code",
   "execution_count": 6,
   "metadata": {},
   "outputs": [],
   "source": [
    "vec = DocVec[TrainDoc](\n",
    "    [\n",
    "        TrainDoc(\n",
    "            id = df_1['id'][i],\n",
    "            likes = 1+(df_1['likes'][i]-MEAN_LIKES)/STD_LIKES,\n",
    "            embeddings = df_1['embeddings'][i],\n",
    "            inferred_company = df_1['inferred company'][i],\n",
    "            date = df_1['date'][i]\n",
    "        )\n",
    "        for i in range(len(df_1))\n",
    "    ]\n",
    ")"
   ]
  }
 ],
 "metadata": {
  "interpreter": {
   "hash": "8ff1e3bcc722a39238b6a7f93d00740f2997fe4fe04527d6796cad45df3c0deb"
  },
  "kernelspec": {
   "display_name": "Python 3.11.5 64-bit ('mne': conda)",
   "name": "python3"
  },
  "language_info": {
   "codemirror_mode": {
    "name": "ipython",
    "version": 3
   },
   "file_extension": ".py",
   "mimetype": "text/x-python",
   "name": "python",
   "nbconvert_exporter": "python",
   "pygments_lexer": "ipython3",
   "version": "3.11.5"
  },
  "orig_nbformat": 4
 },
 "nbformat": 4,
 "nbformat_minor": 2
}
