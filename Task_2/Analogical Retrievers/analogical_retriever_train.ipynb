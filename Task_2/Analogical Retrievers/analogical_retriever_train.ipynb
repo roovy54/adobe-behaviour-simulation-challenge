{
 "cells": [
  {
   "cell_type": "code",
   "execution_count": 1,
   "metadata": {},
   "outputs": [],
   "source": [
    "import pandas as pd\n",
    "import numpy as np\n",
    "from datetime import datetime, timedelta\n",
    "# import pickle\n",
    "import json\n",
    "pd.options.mode.chained_assignment = None"
   ]
  },
  {
   "cell_type": "markdown",
   "metadata": {},
   "source": [
    "Companies_arr, seen_brands and unseen_brands json files"
   ]
  },
  {
   "cell_type": "code",
   "execution_count": 2,
   "metadata": {},
   "outputs": [],
   "source": [
    "df = pd.read_csv(\"60k_df_Task2.csv\")"
   ]
  },
  {
   "cell_type": "code",
   "execution_count": null,
   "metadata": {},
   "outputs": [],
   "source": [
    "with open('companies.json', 'r') as json_file:\n",
    "    companies_arr = json.load(json_file)\n",
    "\n",
    "with open('seen_brands.json', 'r') as json_file:\n",
    "    seen_brands = json.load(json_file)\n",
    "\n",
    "with open('unseen_brands.json', 'r') as json_file:\n",
    "    unseen_brands = json.load(json_file)"
   ]
  },
  {
   "cell_type": "markdown",
   "metadata": {},
   "source": [
    "unseen_period returns a dataframe containing all elements of the input_company_name and having likes close to input_likes. k is a hyperparameter and can be tuned."
   ]
  },
  {
   "cell_type": "code",
   "execution_count": null,
   "metadata": {},
   "outputs": [],
   "source": [
    "def unseen_period(input_company_name,input_likes,k=5):\n",
    "    matching_rows = final_df[final_df['inferred company'] == input_company_name]\n",
    "\n",
    "    if matching_rows.empty:\n",
    "        print(f\"No matching rows found for {input_company_name}\")\n",
    "        return None\n",
    "\n",
    "    df_new = matching_rows.copy()\n",
    "\n",
    "    df_new['likes_diff'] = abs(final_df['likes'] - input_likes)\n",
    "\n",
    "    df_sorted = df_new.sort_values(by='likes_diff')\n",
    "\n",
    "    if(len(df_sorted)>=k):\n",
    "        return df_sorted[:k]\n",
    "    else:\n",
    "        return df_sorted"
   ]
  },
  {
   "cell_type": "code",
   "execution_count": null,
   "metadata": {},
   "outputs": [],
   "source": [
    "for i in range(len(df)):\n",
    "    brand = df['inferred company'][i]\n",
    "    if(i%500==0):    \n",
    "        print(i)\n",
    "    \n",
    "    likes = df['likes'][i]\n",
    "    df_output = unseen_period(brand,likes,4)\n",
    "    quadruplet = df_output['content'].reset_index(drop=True).tolist()\n",
    "    content = df['content'][i]\n",
    "    # print(quadruplet)\n",
    "    triplet = []\n",
    "    for q in quadruplet:\n",
    "        if(q!=content):\n",
    "            triplet.append(q)\n",
    "    # print(triplet)\n",
    "    try:\n",
    "        df['KNN 1'][i] = triplet[0]\n",
    "        df['KNN 2'][i] = triplet[1]\n",
    "        df['KNN 3'][i] = triplet[2]\n",
    "    except:\n",
    "        print(i)\n",
    "        print(pd.Series(triplet))\n",
    "    # break"
   ]
  },
  {
   "cell_type": "code",
   "execution_count": null,
   "metadata": {},
   "outputs": [],
   "source": [
    "df.to_csv(\"with_knn_columns.csv\")"
   ]
  }
 ],
 "metadata": {
  "interpreter": {
   "hash": "8ff1e3bcc722a39238b6a7f93d00740f2997fe4fe04527d6796cad45df3c0deb"
  },
  "kernelspec": {
   "display_name": "Python 3.11.5 64-bit ('mne': conda)",
   "name": "python3"
  },
  "language_info": {
   "codemirror_mode": {
    "name": "ipython",
    "version": 3
   },
   "file_extension": ".py",
   "mimetype": "text/x-python",
   "name": "python",
   "nbconvert_exporter": "python",
   "pygments_lexer": "ipython3",
   "version": "3.11.5"
  },
  "orig_nbformat": 4
 },
 "nbformat": 4,
 "nbformat_minor": 2
}