{
 "cells": [
  {
   "cell_type": "code",
   "execution_count": null,
   "metadata": {},
   "outputs": [],
   "source": [
    "%pip install einops peft decord pytorchvideo"
   ]
  },
  {
   "cell_type": "markdown",
   "metadata": {},
   "source": [
    "# Encoder"
   ]
  },
  {
   "cell_type": "code",
   "execution_count": 1,
   "metadata": {},
   "outputs": [],
   "source": [
    "# %pip install einops peft decord pytorchvideo"
   ]
  },
  {
   "cell_type": "code",
   "execution_count": 1,
   "metadata": {},
   "outputs": [
    {
     "name": "stderr",
     "output_type": "stream",
     "text": [
      "/opt/conda/lib/python3.10/site-packages/torchvision/transforms/_functional_video.py:6: UserWarning: The 'torchvision.transforms._functional_video' module is deprecated since 0.12 and will be removed in the future. Please use the 'torchvision.transforms.functional' module instead.\n",
      "  warnings.warn(\n",
      "/opt/conda/lib/python3.10/site-packages/torchvision/transforms/_transforms_video.py:22: UserWarning: The 'torchvision.transforms._transforms_video' module is deprecated since 0.12 and will be removed in the future. Please use the 'torchvision.transforms' module instead.\n",
      "  warnings.warn(\n",
      "/opt/conda/lib/python3.10/site-packages/torchvision/transforms/functional_tensor.py:5: UserWarning: The torchvision.transforms.functional_tensor module is deprecated in 0.15 and will be **removed in 0.17**. Please don't rely on it. You probably just need to use APIs in torchvision.transforms.functional or in torchvision.transforms.v2.functional.\n",
      "  warnings.warn(\n",
      "/home/runs/LangBind/languagebind/audio/processing_audio.py:17: UserWarning: torchaudio._backend.set_audio_backend has been deprecated. With dispatcher enabled, this function is no-op. You can remove the function call.\n",
      "  torchaudio.set_audio_backend(\"soundfile\")\n",
      "Some weights of LanguageBindAudio were not initialized from the model checkpoint at LanguageBind/LanguageBind_Audio and are newly initialized: ['vision_model.encoder.base_model.model.layers.20.self_attn.out_proj.base_layer.weight', 'vision_model.encoder.base_model.model.layers.14.self_attn.q_proj.base_layer.weight', 'vision_model.encoder.base_model.model.layers.7.self_attn.k_proj.base_layer.weight', 'vision_model.encoder.base_model.model.layers.21.self_attn.v_proj.base_layer.weight', 'vision_model.encoder.base_model.model.layers.8.self_attn.v_proj.base_layer.bias', 'vision_model.encoder.base_model.model.layers.6.self_attn.v_proj.base_layer.bias', 'vision_model.encoder.base_model.model.layers.10.self_attn.q_proj.base_layer.weight', 'vision_model.encoder.base_model.model.layers.12.self_attn.v_proj.base_layer.weight', 'vision_model.encoder.base_model.model.layers.17.self_attn.v_proj.base_layer.bias', 'vision_model.encoder.base_model.model.layers.10.self_attn.v_proj.base_layer.weight', 'vision_model.encoder.base_model.model.layers.3.self_attn.k_proj.base_layer.weight', 'vision_model.encoder.base_model.model.layers.23.self_attn.q_proj.base_layer.bias', 'vision_model.encoder.base_model.model.layers.16.self_attn.k_proj.base_layer.weight', 'vision_model.encoder.base_model.model.layers.8.self_attn.v_proj.base_layer.weight', 'vision_model.encoder.base_model.model.layers.15.self_attn.k_proj.base_layer.weight', 'vision_model.encoder.base_model.model.layers.4.self_attn.k_proj.base_layer.bias', 'vision_model.encoder.base_model.model.layers.3.self_attn.v_proj.base_layer.bias', 'vision_model.encoder.base_model.model.layers.5.self_attn.out_proj.base_layer.weight', 'vision_model.encoder.base_model.model.layers.11.self_attn.q_proj.base_layer.weight', 'vision_model.encoder.base_model.model.layers.2.self_attn.k_proj.base_layer.weight', 'vision_model.encoder.base_model.model.layers.0.self_attn.k_proj.base_layer.bias', 'vision_model.encoder.base_model.model.layers.9.self_attn.q_proj.base_layer.weight', 'vision_model.encoder.base_model.model.layers.12.self_attn.q_proj.base_layer.weight', 'vision_model.encoder.base_model.model.layers.12.self_attn.k_proj.base_layer.weight', 'vision_model.encoder.base_model.model.layers.6.self_attn.out_proj.base_layer.weight', 'vision_model.encoder.base_model.model.layers.17.self_attn.v_proj.base_layer.weight', 'vision_model.encoder.base_model.model.layers.8.self_attn.q_proj.base_layer.bias', 'vision_model.encoder.base_model.model.layers.3.self_attn.v_proj.base_layer.weight', 'vision_model.encoder.base_model.model.layers.14.self_attn.q_proj.base_layer.bias', 'vision_model.encoder.base_model.model.layers.15.self_attn.q_proj.base_layer.bias', 'vision_model.encoder.base_model.model.layers.22.self_attn.out_proj.base_layer.bias', 'vision_model.encoder.base_model.model.layers.18.self_attn.out_proj.base_layer.weight', 'vision_model.encoder.base_model.model.layers.19.self_attn.q_proj.base_layer.bias', 'vision_model.encoder.base_model.model.layers.13.self_attn.v_proj.base_layer.weight', 'vision_model.encoder.base_model.model.layers.20.self_attn.out_proj.base_layer.bias', 'vision_model.encoder.base_model.model.layers.1.self_attn.v_proj.base_layer.bias', 'vision_model.encoder.base_model.model.layers.17.self_attn.k_proj.base_layer.bias', 'vision_model.encoder.base_model.model.layers.21.self_attn.out_proj.base_layer.weight', 'vision_model.encoder.base_model.model.layers.17.self_attn.out_proj.base_layer.weight', 'vision_model.encoder.base_model.model.layers.5.self_attn.k_proj.base_layer.weight', 'vision_model.encoder.base_model.model.layers.17.self_attn.q_proj.base_layer.weight', 'vision_model.encoder.base_model.model.layers.17.self_attn.out_proj.base_layer.bias', 'vision_model.encoder.base_model.model.layers.6.self_attn.k_proj.base_layer.weight', 'vision_model.encoder.base_model.model.layers.3.self_attn.q_proj.base_layer.bias', 'vision_model.encoder.base_model.model.layers.16.self_attn.v_proj.base_layer.weight', 'vision_model.encoder.base_model.model.layers.16.self_attn.q_proj.base_layer.weight', 'vision_model.encoder.base_model.model.layers.3.self_attn.k_proj.base_layer.bias', 'vision_model.encoder.base_model.model.layers.16.self_attn.out_proj.base_layer.bias', 'vision_model.encoder.base_model.model.layers.7.self_attn.k_proj.base_layer.bias', 'vision_model.encoder.base_model.model.layers.19.self_attn.out_proj.base_layer.bias', 'vision_model.encoder.base_model.model.layers.19.self_attn.v_proj.base_layer.bias', 'vision_model.encoder.base_model.model.layers.15.self_attn.out_proj.base_layer.bias', 'vision_model.encoder.base_model.model.layers.18.self_attn.v_proj.base_layer.bias', 'vision_model.encoder.base_model.model.layers.18.self_attn.q_proj.base_layer.bias', 'vision_model.encoder.base_model.model.layers.20.self_attn.v_proj.base_layer.weight', 'vision_model.encoder.base_model.model.layers.8.self_attn.k_proj.base_layer.weight', 'vision_model.encoder.base_model.model.layers.2.self_attn.out_proj.base_layer.bias', 'vision_model.encoder.base_model.model.layers.13.self_attn.q_proj.base_layer.bias', 'vision_model.encoder.base_model.model.layers.19.self_attn.v_proj.base_layer.weight', 'vision_model.encoder.base_model.model.layers.11.self_attn.out_proj.base_layer.weight', 'vision_model.encoder.base_model.model.layers.12.self_attn.v_proj.base_layer.bias', 'vision_model.encoder.base_model.model.layers.15.self_attn.v_proj.base_layer.bias', 'vision_model.encoder.base_model.model.layers.16.self_attn.v_proj.base_layer.bias', 'vision_model.encoder.base_model.model.layers.6.self_attn.q_proj.base_layer.bias', 'vision_model.encoder.base_model.model.layers.0.self_attn.v_proj.base_layer.bias', 'vision_model.encoder.base_model.model.layers.5.self_attn.out_proj.base_layer.bias', 'vision_model.encoder.base_model.model.layers.10.self_attn.out_proj.base_layer.weight', 'vision_model.encoder.base_model.model.layers.10.self_attn.v_proj.base_layer.bias', 'vision_model.encoder.base_model.model.layers.6.self_attn.v_proj.base_layer.weight', 'vision_model.encoder.base_model.model.layers.22.self_attn.k_proj.base_layer.weight', 'vision_model.encoder.base_model.model.layers.6.self_attn.k_proj.base_layer.bias', 'vision_model.encoder.base_model.model.layers.0.self_attn.q_proj.base_layer.bias', 'vision_model.encoder.base_model.model.layers.0.self_attn.k_proj.base_layer.weight', 'vision_model.encoder.base_model.model.layers.14.self_attn.v_proj.base_layer.bias', 'vision_model.encoder.base_model.model.layers.1.self_attn.k_proj.base_layer.bias', 'vision_model.encoder.base_model.model.layers.4.self_attn.q_proj.base_layer.bias', 'vision_model.encoder.base_model.model.layers.5.self_attn.q_proj.base_layer.bias', 'vision_model.encoder.base_model.model.layers.7.self_attn.v_proj.base_layer.bias', 'vision_model.encoder.base_model.model.layers.2.self_attn.k_proj.base_layer.bias', 'vision_model.encoder.base_model.model.layers.8.self_attn.out_proj.base_layer.bias', 'vision_model.encoder.base_model.model.layers.0.self_attn.out_proj.base_layer.weight', 'vision_model.encoder.base_model.model.layers.13.self_attn.v_proj.base_layer.bias', 'vision_model.encoder.base_model.model.layers.7.self_attn.v_proj.base_layer.weight', 'vision_model.encoder.base_model.model.layers.13.self_attn.out_proj.base_layer.weight', 'vision_model.encoder.base_model.model.layers.22.self_attn.q_proj.base_layer.bias', 'vision_model.encoder.base_model.model.layers.21.self_attn.q_proj.base_layer.bias', 'vision_model.encoder.base_model.model.layers.11.self_attn.k_proj.base_layer.bias', 'vision_model.encoder.base_model.model.layers.23.self_attn.k_proj.base_layer.weight', 'vision_model.encoder.base_model.model.layers.9.self_attn.out_proj.base_layer.weight', 'vision_model.encoder.base_model.model.layers.5.self_attn.k_proj.base_layer.bias', 'vision_model.encoder.base_model.model.layers.2.self_attn.out_proj.base_layer.weight', 'vision_model.encoder.base_model.model.layers.11.self_attn.out_proj.base_layer.bias', 'vision_model.encoder.base_model.model.layers.23.self_attn.out_proj.base_layer.weight', 'vision_model.encoder.base_model.model.layers.13.self_attn.k_proj.base_layer.bias', 'vision_model.encoder.base_model.model.layers.11.self_attn.v_proj.base_layer.bias', 'vision_model.encoder.base_model.model.layers.4.self_attn.v_proj.base_layer.bias', 'vision_model.encoder.base_model.model.layers.15.self_attn.out_proj.base_layer.weight', 'vision_model.encoder.base_model.model.layers.13.self_attn.k_proj.base_layer.weight', 'vision_model.encoder.base_model.model.layers.22.self_attn.v_proj.base_layer.bias', 'vision_model.encoder.base_model.model.layers.10.self_attn.k_proj.base_layer.bias', 'vision_model.encoder.base_model.model.layers.20.self_attn.k_proj.base_layer.bias', 'vision_model.encoder.base_model.model.layers.20.self_attn.q_proj.base_layer.weight', 'vision_model.encoder.base_model.model.layers.19.self_attn.out_proj.base_layer.weight', 'vision_model.encoder.base_model.model.layers.5.self_attn.v_proj.base_layer.weight', 'vision_model.encoder.base_model.model.layers.8.self_attn.out_proj.base_layer.weight', 'vision_model.encoder.base_model.model.layers.19.self_attn.q_proj.base_layer.weight', 'vision_model.encoder.base_model.model.layers.10.self_attn.out_proj.base_layer.bias', 'vision_model.encoder.base_model.model.layers.1.self_attn.out_proj.base_layer.weight', 'vision_model.encoder.base_model.model.layers.5.self_attn.v_proj.base_layer.bias', 'vision_model.encoder.base_model.model.layers.0.self_attn.out_proj.base_layer.bias', 'vision_model.encoder.base_model.model.layers.1.self_attn.v_proj.base_layer.weight', 'vision_model.encoder.base_model.model.layers.18.self_attn.v_proj.base_layer.weight', 'vision_model.encoder.base_model.model.layers.9.self_attn.k_proj.base_layer.bias', 'vision_model.encoder.base_model.model.layers.21.self_attn.out_proj.base_layer.bias', 'vision_model.encoder.base_model.model.layers.8.self_attn.q_proj.base_layer.weight', 'vision_model.encoder.base_model.model.layers.23.self_attn.out_proj.base_layer.bias', 'vision_model.encoder.base_model.model.layers.8.self_attn.k_proj.base_layer.bias', 'vision_model.encoder.base_model.model.layers.3.self_attn.out_proj.base_layer.bias', 'vision_model.encoder.base_model.model.layers.4.self_attn.v_proj.base_layer.weight', 'vision_model.encoder.base_model.model.layers.4.self_attn.out_proj.base_layer.weight', 'vision_model.encoder.base_model.model.layers.6.self_attn.q_proj.base_layer.weight', 'vision_model.encoder.base_model.model.layers.14.self_attn.v_proj.base_layer.weight', 'vision_model.encoder.base_model.model.layers.10.self_attn.k_proj.base_layer.weight', 'vision_model.encoder.base_model.model.layers.9.self_attn.v_proj.base_layer.weight', 'vision_model.encoder.base_model.model.layers.4.self_attn.out_proj.base_layer.bias', 'vision_model.encoder.base_model.model.layers.18.self_attn.k_proj.base_layer.weight', 'vision_model.encoder.base_model.model.layers.20.self_attn.v_proj.base_layer.bias', 'vision_model.encoder.base_model.model.layers.13.self_attn.q_proj.base_layer.weight', 'vision_model.encoder.base_model.model.layers.21.self_attn.k_proj.base_layer.weight', 'vision_model.encoder.base_model.model.layers.10.self_attn.q_proj.base_layer.bias', 'vision_model.encoder.base_model.model.layers.22.self_attn.v_proj.base_layer.weight', 'vision_model.encoder.base_model.model.layers.15.self_attn.v_proj.base_layer.weight', 'vision_model.encoder.base_model.model.layers.16.self_attn.out_proj.base_layer.weight', 'vision_model.encoder.base_model.model.layers.7.self_attn.out_proj.base_layer.bias', 'vision_model.encoder.base_model.model.layers.0.self_attn.v_proj.base_layer.weight', 'vision_model.encoder.base_model.model.layers.18.self_attn.k_proj.base_layer.bias', 'vision_model.encoder.base_model.model.layers.18.self_attn.q_proj.base_layer.weight', 'vision_model.encoder.base_model.model.layers.12.self_attn.out_proj.base_layer.weight', 'vision_model.encoder.base_model.model.layers.21.self_attn.k_proj.base_layer.bias', 'vision_model.encoder.base_model.model.layers.6.self_attn.out_proj.base_layer.bias', 'vision_model.encoder.base_model.model.layers.19.self_attn.k_proj.base_layer.bias', 'vision_model.encoder.base_model.model.layers.2.self_attn.v_proj.base_layer.weight', 'vision_model.encoder.base_model.model.layers.5.self_attn.q_proj.base_layer.weight', 'vision_model.encoder.base_model.model.layers.12.self_attn.q_proj.base_layer.bias', 'vision_model.encoder.base_model.model.layers.19.self_attn.k_proj.base_layer.weight', 'vision_model.encoder.base_model.model.layers.20.self_attn.k_proj.base_layer.weight', 'vision_model.encoder.base_model.model.layers.11.self_attn.k_proj.base_layer.weight', 'vision_model.encoder.base_model.model.layers.9.self_attn.v_proj.base_layer.bias', 'vision_model.encoder.base_model.model.layers.2.self_attn.v_proj.base_layer.bias', 'vision_model.encoder.base_model.model.layers.1.self_attn.k_proj.base_layer.weight', 'vision_model.encoder.base_model.model.layers.2.self_attn.q_proj.base_layer.weight', 'vision_model.encoder.base_model.model.layers.16.self_attn.k_proj.base_layer.bias', 'vision_model.encoder.base_model.model.layers.9.self_attn.q_proj.base_layer.bias', 'vision_model.encoder.base_model.model.layers.13.self_attn.out_proj.base_layer.bias', 'vision_model.encoder.base_model.model.layers.17.self_attn.q_proj.base_layer.bias', 'vision_model.encoder.base_model.model.layers.15.self_attn.q_proj.base_layer.weight', 'vision_model.encoder.base_model.model.layers.0.self_attn.q_proj.base_layer.weight', 'vision_model.encoder.base_model.model.layers.12.self_attn.k_proj.base_layer.bias', 'vision_model.encoder.base_model.model.layers.1.self_attn.out_proj.base_layer.bias', 'vision_model.encoder.base_model.model.layers.23.self_attn.v_proj.base_layer.bias', 'vision_model.encoder.base_model.model.layers.3.self_attn.out_proj.base_layer.weight', 'vision_model.encoder.base_model.model.layers.17.self_attn.k_proj.base_layer.weight', 'vision_model.encoder.base_model.model.layers.21.self_attn.v_proj.base_layer.bias', 'vision_model.encoder.base_model.model.layers.22.self_attn.out_proj.base_layer.weight', 'vision_model.encoder.base_model.model.layers.11.self_attn.v_proj.base_layer.weight', 'vision_model.encoder.base_model.model.layers.9.self_attn.k_proj.base_layer.weight', 'vision_model.encoder.base_model.model.layers.7.self_attn.q_proj.base_layer.weight', 'vision_model.encoder.base_model.model.layers.4.self_attn.k_proj.base_layer.weight', 'vision_model.encoder.base_model.model.layers.20.self_attn.q_proj.base_layer.bias', 'vision_model.encoder.base_model.model.layers.12.self_attn.out_proj.base_layer.bias', 'vision_model.encoder.base_model.model.layers.18.self_attn.out_proj.base_layer.bias', 'vision_model.encoder.base_model.model.layers.23.self_attn.v_proj.base_layer.weight', 'vision_model.encoder.base_model.model.layers.1.self_attn.q_proj.base_layer.bias', 'vision_model.encoder.base_model.model.layers.4.self_attn.q_proj.base_layer.weight', 'vision_model.encoder.base_model.model.layers.2.self_attn.q_proj.base_layer.bias', 'vision_model.encoder.base_model.model.layers.23.self_attn.q_proj.base_layer.weight', 'vision_model.encoder.base_model.model.layers.16.self_attn.q_proj.base_layer.bias', 'vision_model.encoder.base_model.model.layers.7.self_attn.q_proj.base_layer.bias', 'vision_model.encoder.base_model.model.layers.22.self_attn.q_proj.base_layer.weight', 'vision_model.encoder.base_model.model.layers.14.self_attn.out_proj.base_layer.bias', 'vision_model.encoder.base_model.model.layers.7.self_attn.out_proj.base_layer.weight', 'vision_model.encoder.base_model.model.layers.21.self_attn.q_proj.base_layer.weight', 'vision_model.encoder.base_model.model.layers.14.self_attn.k_proj.base_layer.weight', 'vision_model.encoder.base_model.model.layers.15.self_attn.k_proj.base_layer.bias', 'vision_model.encoder.base_model.model.layers.3.self_attn.q_proj.base_layer.weight', 'vision_model.encoder.base_model.model.layers.23.self_attn.k_proj.base_layer.bias', 'vision_model.encoder.base_model.model.layers.1.self_attn.q_proj.base_layer.weight', 'vision_model.encoder.base_model.model.layers.11.self_attn.q_proj.base_layer.bias', 'vision_model.encoder.base_model.model.layers.14.self_attn.k_proj.base_layer.bias', 'vision_model.encoder.base_model.model.layers.9.self_attn.out_proj.base_layer.bias', 'vision_model.encoder.base_model.model.layers.14.self_attn.out_proj.base_layer.weight', 'vision_model.encoder.base_model.model.layers.22.self_attn.k_proj.base_layer.bias']\n",
      "You should probably TRAIN this model on a down-stream task to be able to use it for predictions and inference.\n",
      "Some weights of LanguageBindVideo were not initialized from the model checkpoint at LanguageBind/LanguageBind_Video and are newly initialized: ['vision_model.encoder.base_model.model.layers.9.temporal_attn.v_proj.base_layer.weight', 'vision_model.encoder.base_model.model.layers.3.temporal_attn.out_proj.base_layer.bias', 'vision_model.encoder.base_model.model.layers.22.temporal_attn.out_proj.base_layer.weight', 'vision_model.encoder.base_model.model.layers.7.temporal_attn.out_proj.base_layer.bias', 'vision_model.encoder.base_model.model.layers.8.temporal_attn.out_proj.base_layer.weight', 'vision_model.encoder.base_model.model.layers.19.temporal_attn.out_proj.base_layer.weight', 'vision_model.encoder.base_model.model.layers.14.temporal_attn.k_proj.base_layer.weight', 'vision_model.encoder.base_model.model.layers.14.temporal_attn.out_proj.base_layer.weight', 'vision_model.encoder.base_model.model.layers.15.temporal_attn.q_proj.base_layer.weight', 'vision_model.encoder.base_model.model.layers.15.temporal_attn.out_proj.base_layer.bias', 'vision_model.encoder.base_model.model.layers.0.temporal_attn.q_proj.base_layer.bias', 'vision_model.encoder.base_model.model.layers.20.temporal_attn.k_proj.base_layer.bias', 'vision_model.encoder.base_model.model.layers.19.temporal_attn.k_proj.base_layer.bias', 'vision_model.encoder.base_model.model.layers.7.temporal_attn.k_proj.base_layer.weight', 'vision_model.encoder.base_model.model.layers.10.temporal_attn.v_proj.base_layer.bias', 'vision_model.encoder.base_model.model.layers.13.temporal_attn.q_proj.base_layer.bias', 'vision_model.encoder.base_model.model.layers.13.temporal_attn.k_proj.base_layer.weight', 'vision_model.encoder.base_model.model.layers.1.temporal_attn.q_proj.base_layer.weight', 'vision_model.encoder.base_model.model.layers.6.temporal_attn.k_proj.base_layer.bias', 'vision_model.encoder.base_model.model.layers.17.temporal_attn.k_proj.base_layer.weight', 'vision_model.encoder.base_model.model.layers.18.temporal_attn.v_proj.base_layer.bias', 'vision_model.encoder.base_model.model.layers.18.temporal_attn.q_proj.base_layer.weight', 'vision_model.encoder.base_model.model.layers.7.temporal_attn.out_proj.base_layer.weight', 'vision_model.encoder.base_model.model.layers.12.temporal_attn.v_proj.base_layer.bias', 'vision_model.encoder.base_model.model.layers.0.temporal_attn.v_proj.base_layer.weight', 'vision_model.encoder.base_model.model.layers.0.temporal_attn.out_proj.base_layer.weight', 'vision_model.encoder.base_model.model.layers.4.temporal_attn.q_proj.base_layer.bias', 'vision_model.encoder.base_model.model.layers.8.temporal_attn.q_proj.base_layer.bias', 'vision_model.encoder.base_model.model.layers.10.temporal_attn.q_proj.base_layer.weight', 'vision_model.encoder.base_model.model.layers.1.temporal_attn.k_proj.base_layer.weight', 'vision_model.encoder.base_model.model.layers.11.temporal_attn.out_proj.base_layer.weight', 'vision_model.encoder.base_model.model.layers.11.temporal_attn.v_proj.base_layer.weight', 'vision_model.encoder.base_model.model.layers.2.temporal_attn.v_proj.base_layer.bias', 'vision_model.encoder.base_model.model.layers.19.temporal_attn.q_proj.base_layer.bias', 'vision_model.encoder.base_model.model.layers.10.temporal_attn.out_proj.base_layer.weight', 'vision_model.encoder.base_model.model.layers.3.temporal_attn.v_proj.base_layer.weight', 'vision_model.encoder.base_model.model.layers.3.temporal_attn.k_proj.base_layer.weight', 'vision_model.encoder.base_model.model.layers.7.temporal_attn.v_proj.base_layer.weight', 'vision_model.encoder.base_model.model.layers.21.temporal_attn.out_proj.base_layer.weight', 'vision_model.encoder.base_model.model.layers.17.temporal_attn.out_proj.base_layer.weight', 'vision_model.encoder.base_model.model.layers.21.temporal_attn.q_proj.base_layer.bias', 'vision_model.encoder.base_model.model.layers.2.temporal_attn.k_proj.base_layer.bias', 'vision_model.encoder.base_model.model.layers.16.temporal_attn.q_proj.base_layer.bias', 'vision_model.encoder.base_model.model.layers.18.temporal_attn.v_proj.base_layer.weight', 'vision_model.encoder.base_model.model.layers.16.temporal_attn.q_proj.base_layer.weight', 'vision_model.encoder.base_model.model.layers.3.temporal_attn.out_proj.base_layer.weight', 'vision_model.encoder.base_model.model.layers.4.temporal_attn.k_proj.base_layer.bias', 'vision_model.encoder.base_model.model.layers.21.temporal_attn.out_proj.base_layer.bias', 'vision_model.encoder.base_model.model.layers.16.temporal_attn.out_proj.base_layer.weight', 'vision_model.encoder.base_model.model.layers.14.temporal_attn.v_proj.base_layer.weight', 'vision_model.encoder.base_model.model.layers.13.temporal_attn.out_proj.base_layer.weight', 'vision_model.encoder.base_model.model.layers.23.temporal_attn.v_proj.base_layer.bias', 'vision_model.encoder.base_model.model.layers.8.temporal_attn.out_proj.base_layer.bias', 'vision_model.encoder.base_model.model.layers.17.temporal_attn.k_proj.base_layer.bias', 'vision_model.encoder.base_model.model.layers.12.temporal_attn.out_proj.base_layer.bias', 'vision_model.encoder.base_model.model.layers.6.temporal_attn.k_proj.base_layer.weight', 'vision_model.encoder.base_model.model.layers.14.temporal_attn.v_proj.base_layer.bias', 'vision_model.encoder.base_model.model.layers.22.temporal_attn.k_proj.base_layer.weight', 'vision_model.encoder.base_model.model.layers.20.temporal_attn.v_proj.base_layer.weight', 'vision_model.encoder.base_model.model.layers.4.temporal_attn.k_proj.base_layer.weight', 'vision_model.encoder.base_model.model.layers.10.temporal_attn.k_proj.base_layer.bias', 'vision_model.encoder.base_model.model.layers.19.temporal_attn.v_proj.base_layer.weight', 'vision_model.encoder.base_model.model.layers.8.temporal_attn.k_proj.base_layer.weight', 'vision_model.encoder.base_model.model.layers.9.temporal_attn.v_proj.base_layer.bias', 'vision_model.encoder.base_model.model.layers.23.temporal_attn.q_proj.base_layer.bias', 'vision_model.encoder.base_model.model.layers.22.temporal_attn.v_proj.base_layer.weight', 'vision_model.encoder.base_model.model.layers.5.temporal_attn.v_proj.base_layer.weight', 'vision_model.encoder.base_model.model.layers.6.temporal_attn.out_proj.base_layer.weight', 'vision_model.encoder.base_model.model.layers.1.temporal_attn.v_proj.base_layer.weight', 'vision_model.encoder.base_model.model.layers.14.temporal_attn.out_proj.base_layer.bias', 'vision_model.encoder.base_model.model.layers.6.temporal_attn.v_proj.base_layer.bias', 'vision_model.encoder.base_model.model.layers.19.temporal_attn.k_proj.base_layer.weight', 'vision_model.encoder.base_model.model.layers.17.temporal_attn.v_proj.base_layer.bias', 'vision_model.encoder.base_model.model.layers.16.temporal_attn.out_proj.base_layer.bias', 'vision_model.encoder.base_model.model.layers.19.temporal_attn.out_proj.base_layer.bias', 'vision_model.encoder.base_model.model.layers.6.temporal_attn.out_proj.base_layer.bias', 'vision_model.encoder.base_model.model.layers.15.temporal_attn.q_proj.base_layer.bias', 'vision_model.encoder.base_model.model.layers.12.temporal_attn.k_proj.base_layer.bias', 'vision_model.encoder.base_model.model.layers.9.temporal_attn.k_proj.base_layer.weight', 'vision_model.encoder.base_model.model.layers.3.temporal_attn.q_proj.base_layer.bias', 'vision_model.encoder.base_model.model.layers.9.temporal_attn.q_proj.base_layer.bias', 'vision_model.encoder.base_model.model.layers.3.temporal_attn.v_proj.base_layer.bias', 'vision_model.encoder.base_model.model.layers.16.temporal_attn.k_proj.base_layer.bias', 'vision_model.encoder.base_model.model.layers.20.temporal_attn.q_proj.base_layer.bias', 'vision_model.encoder.base_model.model.layers.2.temporal_attn.v_proj.base_layer.weight', 'vision_model.encoder.base_model.model.layers.4.temporal_attn.v_proj.base_layer.bias', 'vision_model.encoder.base_model.model.layers.20.temporal_attn.out_proj.base_layer.bias', 'vision_model.encoder.base_model.model.layers.15.temporal_attn.out_proj.base_layer.weight', 'vision_model.encoder.base_model.model.layers.10.temporal_attn.k_proj.base_layer.weight', 'vision_model.encoder.base_model.model.layers.21.temporal_attn.k_proj.base_layer.weight', 'vision_model.encoder.base_model.model.layers.18.temporal_attn.out_proj.base_layer.bias', 'vision_model.encoder.base_model.model.layers.9.temporal_attn.out_proj.base_layer.weight', 'vision_model.encoder.base_model.model.layers.1.temporal_attn.v_proj.base_layer.bias', 'vision_model.encoder.base_model.model.layers.6.temporal_attn.v_proj.base_layer.weight', 'vision_model.encoder.base_model.model.layers.7.temporal_attn.v_proj.base_layer.bias', 'vision_model.encoder.base_model.model.layers.9.temporal_attn.out_proj.base_layer.bias', 'vision_model.encoder.base_model.model.layers.11.temporal_attn.q_proj.base_layer.weight', 'vision_model.encoder.base_model.model.layers.19.temporal_attn.v_proj.base_layer.bias', 'vision_model.encoder.base_model.model.layers.13.temporal_attn.v_proj.base_layer.bias', 'vision_model.encoder.base_model.model.layers.21.temporal_attn.q_proj.base_layer.weight', 'vision_model.encoder.base_model.model.layers.17.temporal_attn.q_proj.base_layer.bias', 'vision_model.encoder.base_model.model.layers.18.temporal_attn.out_proj.base_layer.weight', 'vision_model.encoder.base_model.model.layers.21.temporal_attn.v_proj.base_layer.weight', 'vision_model.encoder.base_model.model.layers.22.temporal_attn.q_proj.base_layer.weight', 'vision_model.encoder.base_model.model.layers.14.temporal_attn.q_proj.base_layer.bias', 'vision_model.encoder.base_model.model.layers.9.temporal_attn.k_proj.base_layer.bias', 'vision_model.encoder.base_model.model.layers.23.temporal_attn.out_proj.base_layer.bias', 'vision_model.encoder.base_model.model.layers.1.temporal_attn.out_proj.base_layer.weight', 'vision_model.encoder.base_model.model.layers.11.temporal_attn.k_proj.base_layer.weight', 'vision_model.encoder.base_model.model.layers.10.temporal_attn.v_proj.base_layer.weight', 'vision_model.encoder.base_model.model.layers.20.temporal_attn.k_proj.base_layer.weight', 'vision_model.encoder.base_model.model.layers.5.temporal_attn.q_proj.base_layer.bias', 'vision_model.encoder.base_model.model.layers.13.temporal_attn.v_proj.base_layer.weight', 'vision_model.encoder.base_model.model.layers.3.temporal_attn.k_proj.base_layer.bias', 'vision_model.encoder.base_model.model.layers.19.temporal_attn.q_proj.base_layer.weight', 'vision_model.encoder.base_model.model.layers.8.temporal_attn.v_proj.base_layer.weight', 'vision_model.encoder.base_model.model.layers.20.temporal_attn.v_proj.base_layer.bias', 'vision_model.encoder.base_model.model.layers.5.temporal_attn.out_proj.base_layer.bias', 'vision_model.encoder.base_model.model.layers.0.temporal_attn.out_proj.base_layer.bias', 'vision_model.encoder.base_model.model.layers.12.temporal_attn.v_proj.base_layer.weight', 'vision_model.encoder.base_model.model.layers.0.temporal_attn.q_proj.base_layer.weight', 'vision_model.encoder.base_model.model.layers.1.temporal_attn.k_proj.base_layer.bias', 'vision_model.encoder.base_model.model.layers.10.temporal_attn.out_proj.base_layer.bias', 'vision_model.encoder.base_model.model.layers.18.temporal_attn.k_proj.base_layer.bias', 'vision_model.encoder.base_model.model.layers.11.temporal_attn.k_proj.base_layer.bias', 'vision_model.encoder.base_model.model.layers.18.temporal_attn.k_proj.base_layer.weight', 'vision_model.encoder.base_model.model.layers.1.temporal_attn.out_proj.base_layer.bias', 'vision_model.encoder.base_model.model.layers.13.temporal_attn.q_proj.base_layer.weight', 'vision_model.encoder.base_model.model.layers.6.temporal_attn.q_proj.base_layer.weight', 'vision_model.encoder.base_model.model.layers.0.temporal_attn.k_proj.base_layer.weight', 'vision_model.encoder.base_model.model.layers.6.temporal_attn.q_proj.base_layer.bias', 'vision_model.encoder.base_model.model.layers.9.temporal_attn.q_proj.base_layer.weight', 'vision_model.encoder.base_model.model.layers.17.temporal_attn.out_proj.base_layer.bias', 'vision_model.encoder.base_model.model.layers.11.temporal_attn.v_proj.base_layer.bias', 'vision_model.encoder.base_model.model.layers.2.temporal_attn.q_proj.base_layer.bias', 'vision_model.encoder.base_model.model.layers.15.temporal_attn.v_proj.base_layer.bias', 'vision_model.encoder.base_model.model.layers.8.temporal_attn.k_proj.base_layer.bias', 'vision_model.encoder.base_model.model.layers.23.temporal_attn.out_proj.base_layer.weight', 'vision_model.encoder.base_model.model.layers.5.temporal_attn.q_proj.base_layer.weight', 'vision_model.encoder.base_model.model.layers.13.temporal_attn.k_proj.base_layer.bias', 'vision_model.encoder.base_model.model.layers.21.temporal_attn.k_proj.base_layer.bias', 'vision_model.encoder.base_model.model.layers.21.temporal_attn.v_proj.base_layer.bias', 'vision_model.encoder.base_model.model.layers.3.temporal_attn.q_proj.base_layer.weight', 'vision_model.encoder.base_model.model.layers.1.temporal_attn.q_proj.base_layer.bias', 'vision_model.encoder.base_model.model.layers.11.temporal_attn.out_proj.base_layer.bias', 'vision_model.encoder.base_model.model.layers.23.temporal_attn.q_proj.base_layer.weight', 'vision_model.encoder.base_model.model.layers.10.temporal_attn.q_proj.base_layer.bias', 'vision_model.encoder.base_model.model.layers.4.temporal_attn.q_proj.base_layer.weight', 'vision_model.encoder.base_model.model.layers.4.temporal_attn.out_proj.base_layer.weight', 'vision_model.encoder.base_model.model.layers.5.temporal_attn.v_proj.base_layer.bias', 'vision_model.encoder.base_model.model.layers.13.temporal_attn.out_proj.base_layer.bias', 'vision_model.encoder.base_model.model.layers.16.temporal_attn.k_proj.base_layer.weight', 'vision_model.encoder.base_model.model.layers.7.temporal_attn.q_proj.base_layer.bias', 'vision_model.encoder.base_model.model.layers.5.temporal_attn.out_proj.base_layer.weight', 'vision_model.encoder.base_model.model.layers.5.temporal_attn.k_proj.base_layer.weight', 'vision_model.encoder.base_model.model.layers.0.temporal_attn.k_proj.base_layer.bias', 'vision_model.encoder.base_model.model.layers.2.temporal_attn.k_proj.base_layer.weight', 'vision_model.encoder.base_model.model.layers.2.temporal_attn.out_proj.base_layer.weight', 'vision_model.encoder.base_model.model.layers.23.temporal_attn.k_proj.base_layer.weight', 'vision_model.encoder.base_model.model.layers.22.temporal_attn.out_proj.base_layer.bias', 'vision_model.encoder.base_model.model.layers.4.temporal_attn.out_proj.base_layer.bias', 'vision_model.encoder.base_model.model.layers.7.temporal_attn.q_proj.base_layer.weight', 'vision_model.encoder.base_model.model.layers.5.temporal_attn.k_proj.base_layer.bias', 'vision_model.encoder.base_model.model.layers.8.temporal_attn.q_proj.base_layer.weight', 'vision_model.encoder.base_model.model.layers.16.temporal_attn.v_proj.base_layer.bias', 'vision_model.encoder.base_model.model.layers.14.temporal_attn.k_proj.base_layer.bias', 'vision_model.encoder.base_model.model.layers.18.temporal_attn.q_proj.base_layer.bias', 'vision_model.encoder.base_model.model.layers.23.temporal_attn.k_proj.base_layer.bias', 'vision_model.encoder.base_model.model.layers.2.temporal_attn.out_proj.base_layer.bias', 'vision_model.encoder.base_model.model.layers.20.temporal_attn.q_proj.base_layer.weight', 'vision_model.encoder.base_model.model.layers.8.temporal_attn.v_proj.base_layer.bias', 'vision_model.encoder.base_model.model.layers.15.temporal_attn.v_proj.base_layer.weight', 'vision_model.encoder.base_model.model.layers.22.temporal_attn.q_proj.base_layer.bias', 'vision_model.encoder.base_model.model.layers.12.temporal_attn.out_proj.base_layer.weight', 'vision_model.encoder.base_model.model.layers.15.temporal_attn.k_proj.base_layer.bias', 'vision_model.encoder.base_model.model.layers.22.temporal_attn.v_proj.base_layer.bias', 'vision_model.encoder.base_model.model.layers.14.temporal_attn.q_proj.base_layer.weight', 'vision_model.encoder.base_model.model.layers.12.temporal_attn.q_proj.base_layer.weight', 'vision_model.encoder.base_model.model.layers.16.temporal_attn.v_proj.base_layer.weight', 'vision_model.encoder.base_model.model.layers.15.temporal_attn.k_proj.base_layer.weight', 'vision_model.encoder.base_model.model.layers.12.temporal_attn.k_proj.base_layer.weight', 'vision_model.encoder.base_model.model.layers.11.temporal_attn.q_proj.base_layer.bias', 'vision_model.encoder.base_model.model.layers.23.temporal_attn.v_proj.base_layer.weight', 'vision_model.encoder.base_model.model.layers.17.temporal_attn.q_proj.base_layer.weight', 'vision_model.encoder.base_model.model.layers.22.temporal_attn.k_proj.base_layer.bias', 'vision_model.encoder.base_model.model.layers.12.temporal_attn.q_proj.base_layer.bias', 'vision_model.encoder.base_model.model.layers.0.temporal_attn.v_proj.base_layer.bias', 'vision_model.encoder.base_model.model.layers.4.temporal_attn.v_proj.base_layer.weight', 'vision_model.encoder.base_model.model.layers.7.temporal_attn.k_proj.base_layer.bias', 'vision_model.encoder.base_model.model.layers.20.temporal_attn.out_proj.base_layer.weight', 'vision_model.encoder.base_model.model.layers.2.temporal_attn.q_proj.base_layer.weight', 'vision_model.encoder.base_model.model.layers.17.temporal_attn.v_proj.base_layer.weight']\n",
      "You should probably TRAIN this model on a down-stream task to be able to use it for predictions and inference.\n",
      "/opt/conda/lib/python3.10/site-packages/torchvision/transforms/functional.py:1603: UserWarning: The default value of the antialias parameter of all the resizing transforms (Resize(), RandomResizedCrop(), etc.) will change from None to True in v0.17, in order to be consistent across the PIL and Tensor backends. To suppress this warning, directly pass antialias=True (recommended, future default), antialias=None (current default, which means False for Tensors and True for PIL), or antialias=False (only works on Tensors - PIL will still use antialiasing). This also applies if you are using the inference transforms from the models weights: update the call to weights.transforms(antialias=True).\n",
      "  warnings.warn(\n"
     ]
    }
   ],
   "source": [
    "from encoder import MultiModalEncoder\n",
    "import torch\n",
    "import torch.nn as nn\n",
    "\n",
    "# Usage of the MultiModalEncoder\n",
    "device = torch.device('cuda' if torch.cuda.is_available() else 'cpu')\n",
    "encoder = MultiModalEncoder(device=device)\n",
    "\n",
    "# Example input dictionary\n",
    "input_dict = {\n",
    "    'audio': './samples/0.wav',\n",
    "    'image': './LanguageBind/assets/image/0.jpg',\n",
    "    'video': './samples/0.mp4'\n",
    "}\n",
    "\n",
    "# Forward pass\n",
    "encoding = encoder(input_dict)"
   ]
  },
  {
   "cell_type": "code",
   "execution_count": 4,
   "metadata": {},
   "outputs": [],
   "source": [
    "media_embeds = encoding['concatenated_encodings']"
   ]
  },
  {
   "cell_type": "code",
   "execution_count": 5,
   "metadata": {},
   "outputs": [
    {
     "data": {
      "text/plain": [
       "torch.Size([1, 1187, 2560])"
      ]
     },
     "execution_count": 5,
     "metadata": {},
     "output_type": "execute_result"
    }
   ],
   "source": [
    "media_embeds.shape"
   ]
  },
  {
   "cell_type": "code",
   "execution_count": 4,
   "metadata": {},
   "outputs": [],
   "source": [
    "# %pip install --upgrade transformers "
   ]
  },
  {
   "cell_type": "code",
   "execution_count": 1,
   "metadata": {},
   "outputs": [
    {
     "name": "stderr",
     "output_type": "stream",
     "text": [
      "/opt/conda/lib/python3.10/site-packages/torchvision/transforms/_functional_video.py:6: UserWarning: The 'torchvision.transforms._functional_video' module is deprecated since 0.12 and will be removed in the future. Please use the 'torchvision.transforms.functional' module instead.\n",
      "  warnings.warn(\n",
      "/opt/conda/lib/python3.10/site-packages/torchvision/transforms/_transforms_video.py:22: UserWarning: The 'torchvision.transforms._transforms_video' module is deprecated since 0.12 and will be removed in the future. Please use the 'torchvision.transforms' module instead.\n",
      "  warnings.warn(\n",
      "/opt/conda/lib/python3.10/site-packages/torchvision/transforms/functional_tensor.py:5: UserWarning: The torchvision.transforms.functional_tensor module is deprecated in 0.15 and will be **removed in 0.17**. Please don't rely on it. You probably just need to use APIs in torchvision.transforms.functional or in torchvision.transforms.v2.functional.\n",
      "  warnings.warn(\n",
      "/home/runs/LangBind/languagebind/audio/processing_audio.py:17: UserWarning: torchaudio._backend.set_audio_backend has been deprecated. With dispatcher enabled, this function is no-op. You can remove the function call.\n",
      "  torchaudio.set_audio_backend(\"soundfile\")\n"
     ]
    }
   ],
   "source": [
    "from transformers import AutoTokenizer\n",
    "from modeling_phi import PhiForCausalLM\n",
    "from languagebind import to_device\n",
    "import torch\n",
    "from encoder import MultiModalEncoder\n",
    "import torch\n",
    "import torch.nn as nn\n",
    "\n",
    "torch.set_default_device(\"cuda\")\n",
    "\n",
    "class Pipeline(nn.Module):\n",
    "    def __init__(self,torch_dtype=torch.float16,device='cuda'):\n",
    "        super().__init__()\n",
    "        self.encoder = MultiModalEncoder(device,torch_dtype=torch_dtype)\n",
    "        self.encoder.freeze_encoders()\n",
    "        self.llm = PhiForCausalLM.from_pretrained(\"microsoft/phi-2\", torch_dtype=torch_dtype, trust_remote_code=True).to(device)\n",
    "        self.tokenizer = AutoTokenizer.from_pretrained(\"microsoft/phi-2\", trust_remote_code=True,torch_dtype=torch_dtype)\n",
    "        self.device = device\n",
    "    \n",
    "    def forward(self, inputs):\n",
    "        encoding = self.encoder(inputs) # text is ignored internally\n",
    "        prompt = self.tokenizer(inputs['prompt'], return_tensors=\"pt\")\n",
    "        prompt = to_device(prompt, self.device)\n",
    "        prompt_embeds = self.llm.transformer.embd(prompt['input_ids'])\n",
    "        if encoding['concatenated_encodings'] is not None:\n",
    "            input_embeds = torch.concat([encoding['concatenated_encodings'],prompt_embeds],dim=1)\n",
    "        else:\n",
    "            input_embeds = prompt_embeds\n",
    "        outputs = self.llm(input_embeds=input_embeds,input_ids=None,bos_token_id=self.tokenizer.bos_token_id)\n",
    "        return outputs\n",
    "\n",
    "    def generate(self,inputs,max_length=10):\n",
    "        encoding = self.encoder(inputs) # text is ignored internally\n",
    "        prompt = self.tokenizer(inputs['prompt'], return_tensors=\"pt\")\n",
    "        prompt = to_device(prompt, self.device)\n",
    "        prompt_embeds = self.llm.transformer.embd(prompt['input_ids'])\n",
    "        if encoding['concatenated_encodings'] is not None:\n",
    "            input_embeds = torch.concat([encoding['concatenated_encodings'],prompt_embeds],dim=1)\n",
    "        else:\n",
    "            input_embeds = prompt_embeds\n",
    "\n",
    "        # Initialize past_key_values\n",
    "        past_key_values = None\n",
    "        generated_tokens = []\n",
    "\n",
    "        returns = self.llm(input_embeds=input_embeds,inputs=None, past_key_values=past_key_values,input_ids=None)\n",
    "        next_token_logits = returns.logits[:, -1, :]\n",
    "        next_token = torch.argmax(next_token_logits, dim=-1).unsqueeze(0)\n",
    "        generated_tokens.append(next_token)\n",
    "        for step in range(max_length):\n",
    "            returns = self.llm(inputs=next_token,input_ids=None)\n",
    "            next_token_logits = returns.logits[:, -1, :]\n",
    "            next_token = torch.argmax(next_token_logits, dim=-1).unsqueeze(0)\n",
    "            generated_tokens.append(next_token)\n",
    "            # Check if the generation has finished\n",
    "            if next_token.item() == self.tokenizer.eos_token_id:\n",
    "                break\n",
    "            break\n",
    "\n",
    "        # Concatenate all generated tokens and decode into text\n",
    "        generated_tokens = torch.cat(generated_tokens, dim=0)\n",
    "        generated_text = self.tokenizer.decode(generated_tokens, skip_special_tokens=True)\n",
    "        return generated_text"
   ]
  },
  {
   "cell_type": "code",
   "execution_count": null,
   "metadata": {},
   "outputs": [],
   "source": [
    "def generate(self,inputs,max_length=10):\n",
    "    encoding = self.encoder(inputs) # text is ignored internally\n",
    "    prompt = self.tokenizer(inputs['prompt'], return_tensors=\"pt\")\n",
    "    prompt = to_device(prompt, self.device)\n",
    "    prompt_embeds = self.llm.transformer.embd(prompt['input_ids'])\n",
    "    if encoding['concatenated_encodings'] is not None:\n",
    "        input_embeds = torch.concat([encoding['concatenated_encodings'],prompt_embeds],dim=1)\n",
    "    else:\n",
    "        input_embeds = prompt_embeds\n",
    "\n",
    "    # Initialize past_key_values\n",
    "    past_key_values = None\n",
    "    generated_tokens = []\n",
    "\n",
    "    returns = self.llm(input_embeds=input_embeds,inputs=None, past_key_values=past_key_values,input_ids=None)\n",
    "    next_token_logits = returns.logits[:, -1, :]\n",
    "    next_token = torch.argmax(next_token_logits, dim=-1).unsqueeze(0)\n",
    "    generated_tokens.append(next_token)\n",
    "    for step in range(max_length):\n",
    "        returns = self.llm(inputs=next_token,input_ids=None)\n",
    "        next_token_logits = returns.logits[:, -1, :]\n",
    "        next_token = torch.argmax(next_token_logits, dim=-1).unsqueeze(0)\n",
    "        generated_tokens.append(next_token)\n",
    "        # Check if the generation has finished\n",
    "        if next_token.item() == self.tokenizer.eos_token_id:\n",
    "            break\n",
    "        break\n",
    "\n",
    "    # Concatenate all generated tokens and decode into text\n",
    "    generated_tokens = torch.cat(generated_tokens, dim=0)\n",
    "    generated_text = self.tokenizer.decode(generated_tokens, skip_special_tokens=True)\n",
    "    return generated_text"
   ]
  },
  {
   "cell_type": "code",
   "execution_count": 2,
   "metadata": {},
   "outputs": [],
   "source": [
    "pipe = Pipeline()"
   ]
  },
  {
   "cell_type": "code",
   "execution_count": 1,
   "metadata": {},
   "outputs": [],
   "source": [
    "input_dict = {\n",
    "    'audio': './samples/0.wav',\n",
    "    'video': './samples/0.mp4',\n",
    "    'prompt': 'Apple, Orange, Pineapple, '\n",
    "}\n",
    "output = pipe.generate(input_dict)"
   ]
  }
 ],
 "metadata": {
  "kernelspec": {
   "display_name": "Python 3",
   "language": "python",
   "name": "python3"
  },
  "language_info": {
   "codemirror_mode": {
    "name": "ipython",
    "version": 3
   },
   "file_extension": ".py",
   "mimetype": "text/x-python",
   "name": "python",
   "nbconvert_exporter": "python",
   "pygments_lexer": "ipython3",
   "version": "3.9.18"
  }
 },
 "nbformat": 4,
 "nbformat_minor": 2
}
