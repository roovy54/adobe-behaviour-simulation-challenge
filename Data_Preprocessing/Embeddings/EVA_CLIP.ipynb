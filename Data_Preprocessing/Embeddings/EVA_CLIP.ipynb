{
  "cells": [
    {
      "cell_type": "markdown",
      "metadata": {},
      "source": [
        "Generation of image embeddings using EVA_CLIP"
      ]
    },
    {
      "cell_type": "code",
      "execution_count": null,
      "metadata": {
        "colab": {
          "base_uri": "https://localhost:8080/"
        },
        "id": "fosUPLTBkkWc",
        "outputId": "4eb0cd73-4f1b-42f3-e9df-03203bbebda9"
      },
      "outputs": [
        {
          "name": "stdout",
          "output_type": "stream",
          "text": [
            "Mounted at /content/drive/\n"
          ]
        }
      ],
      "source": [
        "# Colab\n",
        "from google.colab import drive\n",
        "drive.mount(\"/content/drive/\")\n",
        "drive_path=\"/content/drive/Mydrive\"\n",
        "import condacolab\n",
        "condacolab.install()"
      ]
    },
    {
      "cell_type": "code",
      "execution_count": null,
      "metadata": {},
      "outputs": [],
      "source": [
        "!git clone https://github.com/baaivision/EVA\n",
        "!cd EVA/EVA-CLIP"
      ]
    },
    {
      "cell_type": "code",
      "execution_count": null,
      "metadata": {
        "colab": {
          "base_uri": "https://localhost:8080/"
        },
        "id": "uenmwmfPvYaq",
        "outputId": "6aaf53aa-1f00-4879-ffe6-9b8fa1c6e973"
      },
      "outputs": [
        {
          "name": "stdout",
          "output_type": "stream",
          "text": [
            "Requirement already satisfied: torch==2.1.0 in /usr/local/lib/python3.10/dist-packages (2.1.0+cu118)\n",
            "Requirement already satisfied: filelock in /usr/local/lib/python3.10/dist-packages (from torch==2.1.0) (3.13.1)\n",
            "Requirement already satisfied: typing-extensions in /usr/local/lib/python3.10/dist-packages (from torch==2.1.0) (4.5.0)\n",
            "Requirement already satisfied: sympy in /usr/local/lib/python3.10/dist-packages (from torch==2.1.0) (1.12)\n",
            "Requirement already satisfied: networkx in /usr/local/lib/python3.10/dist-packages (from torch==2.1.0) (3.2.1)\n",
            "Requirement already satisfied: jinja2 in /usr/local/lib/python3.10/dist-packages (from torch==2.1.0) (3.1.2)\n",
            "Requirement already satisfied: fsspec in /usr/local/lib/python3.10/dist-packages (from torch==2.1.0) (2023.6.0)\n",
            "Requirement already satisfied: triton==2.1.0 in /usr/local/lib/python3.10/dist-packages (from torch==2.1.0) (2.1.0)\n",
            "Requirement already satisfied: MarkupSafe>=2.0 in /usr/local/lib/python3.10/dist-packages (from jinja2->torch==2.1.0) (2.1.3)\n",
            "Requirement already satisfied: mpmath>=0.19 in /usr/local/lib/python3.10/dist-packages (from sympy->torch==2.1.0) (1.3.0)\n",
            "\u001b[31mERROR: Invalid requirement: '2.1.0+cu118'\u001b[0m\u001b[31m\n",
            "\u001b[0mRequirement already satisfied: torchdata in /usr/local/lib/python3.10/dist-packages (0.7.0)\n",
            "\u001b[31mERROR: Could not find a version that satisfies the requirement 0.7.0 (from versions: none)\u001b[0m\u001b[31m\n",
            "\u001b[0m\u001b[31mERROR: No matching distribution found for 0.7.0\u001b[0m\u001b[31m\n",
            "\u001b[0mRequirement already satisfied: torchtext in /usr/local/lib/python3.10/dist-packages (0.16.0)\n",
            "\u001b[31mERROR: Could not find a version that satisfies the requirement 0.16.0 (from versions: none)\u001b[0m\u001b[31m\n",
            "\u001b[0m\u001b[31mERROR: No matching distribution found for 0.16.0\u001b[0m\u001b[31m\n",
            "\u001b[0m"
          ]
        }
      ],
      "source": [
        "!pip install torch==2.1.0\n",
        "!pip install torchaudio 2.1.0+cu118\n",
        "!pip install torchdata 0.7.0\n",
        "!pip install torchtext 0.16.0\n",
        "!pip install -q condacolab\n",
        "!pip install pillow\n",
        "!conda create --name rei python=3.8 -y\n",
        "!conda activate rei\n",
        "!pip install torch==1.12.1+cu116 torchvision==0.13.1+cu116 --extra-index-url https://download.pytorch.org/whl/cu116\n",
        "!pip install -r requirements.txt\n",
        "!pip install urlextract\n",
        "!pip install timm\n",
        "!pip install einops\n",
        "!pip install apex\n",
        "!pip install xformers"
      ]
    },
    {
      "cell_type": "code",
      "execution_count": null,
      "metadata": {},
      "outputs": [],
      "source": [
        "!cd /content/EVA/EVA-CLIP/rei"
      ]
    },
    {
      "cell_type": "code",
      "execution_count": null,
      "metadata": {
        "id": "g2nEBuW8jehX"
      },
      "outputs": [],
      "source": [
        "\n",
        "import pandas as pd\n",
        "import numpy as np\n",
        "from urlextract import URLExtract\n",
        "import urllib.request\n",
        "from PIL import Image"
      ]
    },
    {
      "cell_type": "code",
      "execution_count": null,
      "metadata": {
        "id": "QOM1cQICkZ1q"
      },
      "outputs": [],
      "source": [
        "df = pd.read_excel(\"/content/drive/MyDrive/behaviour_simulation_train.xlsx\")\n",
        "df[\"media\"][0]"
      ]
    },
    {
      "cell_type": "code",
      "execution_count": null,
      "metadata": {
        "colab": {
          "base_uri": "https://localhost:8080/"
        },
        "id": "elQtIii_rLFH",
        "outputId": "41264ff1-87fd-4d4d-c630-00e71162abfb"
      },
      "outputs": [
        {
          "name": "stdout",
          "output_type": "stream",
          "text": [
            "Requirement already satisfied: urlextract in /usr/local/lib/python3.10/site-packages (1.8.0)\n",
            "Requirement already satisfied: platformdirs in /usr/local/lib/python3.10/site-packages (from urlextract) (4.0.0)\n",
            "Requirement already satisfied: filelock in /usr/local/lib/python3.10/site-packages (from urlextract) (3.13.1)\n",
            "Requirement already satisfied: idna in /usr/local/lib/python3.10/site-packages (from urlextract) (3.4)\n",
            "Requirement already satisfied: uritools in /usr/local/lib/python3.10/site-packages (from urlextract) (4.0.2)\n",
            "\u001b[33mWARNING: Running pip as the 'root' user can result in broken permissions and conflicting behaviour with the system package manager. It is recommended to use a virtual environment instead: https://pip.pypa.io/warnings/venv\u001b[0m\u001b[33m\n",
            "\u001b[0mhttps://pbs.twimg.com/media/ESCO6b9WkAUBI1o.jpg\n",
            "https://video.twimg.com/amplify_video/1234143435654868992/pl/nYicdFU2bqnqhT7Q.m3u8?tag=13&v=f4c\n",
            "https://video.twimg.com/amplify_video/1234143435654868992/vid/640x360/6x9561bKICzF89Ur.mp4?tag=13\n",
            "https://video.twimg.com/amplify_video/1234143435654868992/vid/480x270/4gUTJJGGySp_lN0e.mp4?tag=13\n",
            "https://video.twimg.com/amplify_video/1234143435654868992/vid/960x540/0lhTA1u0RQ7IYC-O.mp4?tag=13\n"
          ]
        }
      ],
      "source": [
        "extractor = URLExtract()\n",
        "example_text = df[\"media\"][12]\n",
        "\n",
        "for url in extractor.gen_urls(example_text):\n",
        "    print(url)"
      ]
    },
    {
      "cell_type": "code",
      "execution_count": null,
      "metadata": {
        "colab": {
          "base_uri": "https://localhost:8080/",
          "height": 35
        },
        "id": "IdwKYgkZrn1m",
        "outputId": "bb01b145-f8e9-44b5-9a53-8ab9a486c7b5"
      },
      "outputs": [
        {
          "data": {
            "application/vnd.google.colaboratory.intrinsic+json": {
              "type": "string"
            },
            "text/plain": [
              "'https://pbs.twimg.com/media/D2qiPBTX0AI_13F?format=jpg&name=large'"
            ]
          },
          "execution_count": 30,
          "metadata": {},
          "output_type": "execute_result"
        }
      ],
      "source": [
        "url"
      ]
    },
    {
      "cell_type": "code",
      "execution_count": null,
      "metadata": {
        "id": "mL4MaUgSrbzh"
      },
      "outputs": [],
      "source": [
        "urllib.request.urlretrieve(url,\"img.png\")\n",
        "\n",
        "img = Image.open(\"img.png\")\n",
        "img.show()"
      ]
    },
    {
      "cell_type": "code",
      "execution_count": null,
      "metadata": {
        "colab": {
          "base_uri": "https://localhost:8080/",
          "height": 138,
          "referenced_widgets": [
            "31b49eb8e1eb4afcbcddae7a8d213548",
            "d2fe60565a90499bb1ee953289a6dd23",
            "6d2d8ff74c264d60893f410b9861ddb6",
            "bf3c72e3ea2d4ff2be327c356759f2cb",
            "64f20803572145b79559aa0e785c9466",
            "de456958f4754719b6ca6038e6b1d425",
            "2830bb6b480d4a3097a8c7b591952f29",
            "eeef5d08b1dd42da99d3272e0ba9f3ec",
            "bfcf649ddb644052b0763729904dbb64",
            "7b093e6dc8824270bb38918e152b7f46",
            "d865680f41124b7492faf231904c2bfa"
          ]
        },
        "id": "4h5xEm8ApwPR",
        "outputId": "e73a50df-036d-45a0-9d6c-c5f516e7f92f"
      },
      "outputs": [
        {
          "name": "stderr",
          "output_type": "stream",
          "text": [
            "/usr/local/lib/python3.10/site-packages/torchvision/io/image.py:13: UserWarning: Failed to load image Python extension: libtorch_cuda_cu.so: cannot open shared object file: No such file or directory\n",
            "  warn(f\"Failed to load image Python extension: {e}\")\n"
          ]
        },
        {
          "name": "stdout",
          "output_type": "stream",
          "text": [
            "Please 'pip install apex'\n"
          ]
        },
        {
          "data": {
            "application/vnd.jupyter.widget-view+json": {
              "model_id": "31b49eb8e1eb4afcbcddae7a8d213548",
              "version_major": 2,
              "version_minor": 0
            },
            "text/plain": [
              "EVA02_CLIP_B_psz16_s8B.pt:   0%|          | 0.00/300M [00:00<?, ?B/s]"
            ]
          },
          "metadata": {},
          "output_type": "display_data"
        },
        {
          "name": "stdout",
          "output_type": "stream",
          "text": [
            "Label probs: tensor([[0.9969, 0.0011, 0.0020]], device='cuda:0')\n"
          ]
        }
      ],
      "source": [
        "import torch\n",
        "from eva_clip import create_model_and_transforms, get_tokenizer\n",
        "from PIL import Image\n",
        "\n",
        "model_name = \"EVA02-CLIP-B-16\"\n",
        "pretrained = \"eva_clip\" # or \"/path/to/EVA02_CLIP_B_psz16_s8B.pt\"\n",
        "\n",
        "image_path = \"/content/img.png\"\n",
        "caption = [\"a food\", \"a dog\", \"a cat\"]\n",
        "\n",
        "device = \"cuda\" if torch.cuda.is_available() else \"cpu\"\n",
        "model, _, preprocess = create_model_and_transforms(model_name, pretrained, force_custom_clip=True)\n",
        "tokenizer = get_tokenizer(model_name)\n",
        "model = model.to(device)\n",
        "\n",
        "image = preprocess(Image.open(image_path)).unsqueeze(0).to(device)\n",
        "\n",
        "text = tokenizer([\"a food\", \"a dog\", \"a cat\"]).to(device)\n",
        "\n",
        "with torch.no_grad(), torch.cuda.amp.autocast():\n",
        "    image_features = model.encode_image(image)\n",
        "    text_features = model.encode_text(text)\n",
        "    image_features /= image_features.norm(dim=-1, keepdim=True)\n",
        "    text_features /= text_features.norm(dim=-1, keepdim=True) # Normalization\n",
        "\n",
        "    text_probs = (100.0 * image_features @ text_features.T).softmax(dim=-1)\n",
        "\n",
        "print(\"Label probs:\", text_probs)  # prints: [[0.8275, 0.1372, 0.0352]]"
      ]
    },
    {
      "cell_type": "code",
      "execution_count": null,
      "metadata": {
        "colab": {
          "base_uri": "https://localhost:8080/"
        },
        "id": "J0wIsXeg5tnl",
        "outputId": "f6e1fc60-3516-403b-8f8a-f14c61a44f97"
      },
      "outputs": [
        {
          "data": {
            "text/plain": [
              "tensor([[ 0.0219, -0.0235, -0.0206, -0.0136,  0.1071,  0.0174,  0.0493,  0.0485,\n",
              "          0.0907, -0.0531,  0.0611,  0.0215, -0.0175,  0.0111,  0.0742,  0.0364,\n",
              "          0.0588,  0.0356, -0.0110, -0.0175,  0.0095,  0.0244,  0.0454,  0.0513,\n",
              "         -0.0114, -0.0167,  0.0517, -0.0212, -0.0616, -0.0071,  0.0261, -0.0207,\n",
              "         -0.0814,  0.0308,  0.0374, -0.0246,  0.0500,  0.0323, -0.0030, -0.0542,\n",
              "          0.0341,  0.0211, -0.0520,  0.0593, -0.0605, -0.0136, -0.0616, -0.0264,\n",
              "          0.0691,  0.0442,  0.0426,  0.0395, -0.0025,  0.0980, -0.0202,  0.0007,\n",
              "          0.0025,  0.0492, -0.0036,  0.0653,  0.0289,  0.0162, -0.0288,  0.0117,\n",
              "         -0.0333,  0.0357,  0.0522,  0.0784,  0.0131,  0.0220,  0.0578,  0.0116,\n",
              "         -0.0070, -0.0199,  0.0144, -0.0125,  0.0396,  0.0475,  0.0053,  0.0003,\n",
              "          0.0624, -0.0714, -0.0443, -0.0393, -0.0298, -0.0326,  0.0377, -0.0798,\n",
              "          0.0395,  0.0823,  0.0253, -0.0469,  0.0319, -0.0133, -0.0134,  0.0147,\n",
              "          0.0379,  0.0055,  0.0699, -0.0389,  0.0035, -0.0274,  0.0533,  0.0640,\n",
              "         -0.0301,  0.0655,  0.0322, -0.0206, -0.0246, -0.0446,  0.0061,  0.0030,\n",
              "          0.0011, -0.0452,  0.0247, -0.0368, -0.0010,  0.0111, -0.0749,  0.0249,\n",
              "         -0.0475, -0.0396,  0.0083,  0.0156, -0.1300, -0.0220, -0.0526, -0.0361,\n",
              "          0.0020,  0.0308,  0.0587, -0.0661, -0.0303, -0.0096,  0.0263, -0.0144,\n",
              "         -0.0324, -0.0352,  0.0072, -0.0269,  0.0628, -0.0101, -0.0044,  0.0517,\n",
              "         -0.0425, -0.0065,  0.0404, -0.0741,  0.0340,  0.0035,  0.0073, -0.0244,\n",
              "          0.0123,  0.0482, -0.0269,  0.0812,  0.0717, -0.0210,  0.0527, -0.0621,\n",
              "         -0.0268, -0.0548, -0.0307,  0.0262, -0.0836,  0.0006,  0.0098, -0.0591,\n",
              "          0.0493,  0.0413,  0.0366,  0.0883, -0.0246,  0.0193,  0.0211, -0.0326,\n",
              "          0.0640, -0.0113,  0.0699, -0.0551,  0.0617, -0.0508,  0.0042,  0.0371,\n",
              "          0.0206,  0.0037,  0.0650,  0.0132, -0.0239, -0.0781,  0.0164,  0.1106,\n",
              "          0.0339, -0.0036,  0.0193,  0.0214, -0.0426, -0.0099,  0.0302, -0.0563,\n",
              "         -0.0375, -0.0288,  0.0864, -0.0584, -0.0096, -0.0605,  0.0184,  0.0608,\n",
              "         -0.0052,  0.0787,  0.0722,  0.0011,  0.0166,  0.0031,  0.0034,  0.0058,\n",
              "          0.0461, -0.0170,  0.0372,  0.0506,  0.0291,  0.0652, -0.0097,  0.0211,\n",
              "         -0.1163, -0.0135, -0.0723,  0.0208, -0.0194, -0.0104, -0.0328,  0.0538,\n",
              "          0.0854,  0.0120, -0.0475, -0.0087, -0.0319, -0.0410,  0.0057, -0.0324,\n",
              "          0.0736,  0.0141, -0.0646,  0.0139,  0.0501,  0.0515,  0.0577, -0.0269,\n",
              "         -0.0350, -0.0270,  0.0529, -0.0375,  0.0360, -0.0085,  0.0431, -0.0572,\n",
              "         -0.0073,  0.0907, -0.0384, -0.0458, -0.0339,  0.0816,  0.0042, -0.0850,\n",
              "         -0.0321,  0.0117, -0.0206, -0.0144,  0.0867,  0.0384,  0.0369,  0.0494,\n",
              "         -0.0509, -0.0834, -0.0210, -0.0405,  0.0164, -0.0066,  0.0732,  0.0041,\n",
              "         -0.0098,  0.0552, -0.0576,  0.0561,  0.0645, -0.0168,  0.0754, -0.0239,\n",
              "          0.0071, -0.0038,  0.0217,  0.0477, -0.0436,  0.0344, -0.0538,  0.0099,\n",
              "          0.0497, -0.0034,  0.0372,  0.0453,  0.0997, -0.0215,  0.0396, -0.0119,\n",
              "         -0.0538, -0.0191,  0.0274, -0.0414,  0.0049,  0.0002, -0.0222,  0.0432,\n",
              "          0.0118, -0.0337, -0.0299, -0.0035, -0.0085,  0.0685,  0.0724,  0.0775,\n",
              "         -0.0164,  0.0678, -0.0817, -0.0239,  0.0709, -0.0398,  0.0099,  0.0570,\n",
              "          0.0125,  0.0358, -0.0328,  0.0731,  0.0101, -0.0604, -0.0285,  0.0390,\n",
              "         -0.0335, -0.0250,  0.0068, -0.0277,  0.0259, -0.0291, -0.0160, -0.0495,\n",
              "         -0.0237, -0.0734, -0.0581,  0.0168, -0.0411,  0.0490,  0.0216, -0.0064,\n",
              "         -0.0132, -0.0195,  0.0927,  0.0497,  0.0323, -0.0561, -0.0353, -0.0300,\n",
              "         -0.0884, -0.0140,  0.0012,  0.0448, -0.0264, -0.0058, -0.0374, -0.0500,\n",
              "          0.0905, -0.0238, -0.0305,  0.0087,  0.0316,  0.0147,  0.0101, -0.0127,\n",
              "         -0.0191, -0.0841, -0.0945,  0.0117, -0.0611, -0.0078, -0.0083,  0.0299,\n",
              "         -0.0033,  0.0059, -0.0096, -0.0376,  0.0147,  0.0509,  0.0064,  0.0401,\n",
              "          0.0365,  0.0450,  0.0592,  0.0795, -0.0007,  0.0343, -0.0012, -0.0248,\n",
              "         -0.0075, -0.0295, -0.0324, -0.0221, -0.0235,  0.0670,  0.0462, -0.0603,\n",
              "         -0.0160, -0.0153, -0.0217,  0.0607, -0.0174, -0.0098,  0.0178,  0.0160,\n",
              "         -0.0822,  0.0706, -0.0296, -0.0003, -0.0213,  0.0086,  0.0096,  0.0026,\n",
              "          0.0603, -0.0414, -0.0337, -0.0976,  0.0659,  0.0392, -0.0354, -0.0035,\n",
              "         -0.0831,  0.1042, -0.0584, -0.0144,  0.0024,  0.0623, -0.0313, -0.0277,\n",
              "         -0.0149, -0.0509,  0.0033, -0.0201,  0.0885, -0.0120, -0.0455,  0.0340,\n",
              "         -0.0089,  0.0291, -0.0156,  0.0577, -0.0781, -0.0281,  0.0174,  0.0133,\n",
              "         -0.0110, -0.0774,  0.0460,  0.0209,  0.0096,  0.1306,  0.0809,  0.0800,\n",
              "         -0.0071,  0.0239,  0.0099,  0.0111,  0.0330,  0.0160,  0.0806,  0.0155,\n",
              "         -0.0706, -0.0500, -0.0215, -0.0876,  0.0637,  0.0301, -0.0116, -0.0251,\n",
              "         -0.0089, -0.0052, -0.1100, -0.0110,  0.0476, -0.0712, -0.0479,  0.0389,\n",
              "          0.0154,  0.0329, -0.0143, -0.0200,  0.0153,  0.0036,  0.0754, -0.0156,\n",
              "         -0.0344, -0.0186,  0.0230,  0.0670,  0.0219, -0.0037,  0.0018, -0.0330,\n",
              "         -0.0333, -0.0658,  0.0812, -0.0396,  0.0469, -0.0262, -0.0194, -0.0533]],\n",
              "       device='cuda:0', dtype=torch.float16)"
            ]
          },
          "execution_count": 23,
          "metadata": {},
          "output_type": "execute_result"
        }
      ],
      "source": [
        "image_features"
      ]
    }
  ],
  "metadata": {
    "accelerator": "GPU",
    "colab": {
      "gpuType": "T4",
      "provenance": []
    },
    "kernelspec": {
      "display_name": "Python 3",
      "name": "python3"
    },
    "language_info": {
      "name": "python"
    },
    "widgets": {
      "application/vnd.jupyter.widget-state+json": {
        "2830bb6b480d4a3097a8c7b591952f29": {
          "model_module": "@jupyter-widgets/controls",
          "model_module_version": "1.5.0",
          "model_name": "DescriptionStyleModel",
          "state": {
            "_model_module": "@jupyter-widgets/controls",
            "_model_module_version": "1.5.0",
            "_model_name": "DescriptionStyleModel",
            "_view_count": null,
            "_view_module": "@jupyter-widgets/base",
            "_view_module_version": "1.2.0",
            "_view_name": "StyleView",
            "description_width": ""
          }
        },
        "31b49eb8e1eb4afcbcddae7a8d213548": {
          "model_module": "@jupyter-widgets/controls",
          "model_module_version": "1.5.0",
          "model_name": "HBoxModel",
          "state": {
            "_dom_classes": [],
            "_model_module": "@jupyter-widgets/controls",
            "_model_module_version": "1.5.0",
            "_model_name": "HBoxModel",
            "_view_count": null,
            "_view_module": "@jupyter-widgets/controls",
            "_view_module_version": "1.5.0",
            "_view_name": "HBoxView",
            "box_style": "",
            "children": [
              "IPY_MODEL_d2fe60565a90499bb1ee953289a6dd23",
              "IPY_MODEL_6d2d8ff74c264d60893f410b9861ddb6",
              "IPY_MODEL_bf3c72e3ea2d4ff2be327c356759f2cb"
            ],
            "layout": "IPY_MODEL_64f20803572145b79559aa0e785c9466"
          }
        },
        "64f20803572145b79559aa0e785c9466": {
          "model_module": "@jupyter-widgets/base",
          "model_module_version": "1.2.0",
          "model_name": "LayoutModel",
          "state": {
            "_model_module": "@jupyter-widgets/base",
            "_model_module_version": "1.2.0",
            "_model_name": "LayoutModel",
            "_view_count": null,
            "_view_module": "@jupyter-widgets/base",
            "_view_module_version": "1.2.0",
            "_view_name": "LayoutView",
            "align_content": null,
            "align_items": null,
            "align_self": null,
            "border": null,
            "bottom": null,
            "display": null,
            "flex": null,
            "flex_flow": null,
            "grid_area": null,
            "grid_auto_columns": null,
            "grid_auto_flow": null,
            "grid_auto_rows": null,
            "grid_column": null,
            "grid_gap": null,
            "grid_row": null,
            "grid_template_areas": null,
            "grid_template_columns": null,
            "grid_template_rows": null,
            "height": null,
            "justify_content": null,
            "justify_items": null,
            "left": null,
            "margin": null,
            "max_height": null,
            "max_width": null,
            "min_height": null,
            "min_width": null,
            "object_fit": null,
            "object_position": null,
            "order": null,
            "overflow": null,
            "overflow_x": null,
            "overflow_y": null,
            "padding": null,
            "right": null,
            "top": null,
            "visibility": null,
            "width": null
          }
        },
        "6d2d8ff74c264d60893f410b9861ddb6": {
          "model_module": "@jupyter-widgets/controls",
          "model_module_version": "1.5.0",
          "model_name": "FloatProgressModel",
          "state": {
            "_dom_classes": [],
            "_model_module": "@jupyter-widgets/controls",
            "_model_module_version": "1.5.0",
            "_model_name": "FloatProgressModel",
            "_view_count": null,
            "_view_module": "@jupyter-widgets/controls",
            "_view_module_version": "1.5.0",
            "_view_name": "ProgressView",
            "bar_style": "success",
            "description": "",
            "description_tooltip": null,
            "layout": "IPY_MODEL_eeef5d08b1dd42da99d3272e0ba9f3ec",
            "max": 299522626,
            "min": 0,
            "orientation": "horizontal",
            "style": "IPY_MODEL_bfcf649ddb644052b0763729904dbb64",
            "value": 299522626
          }
        },
        "7b093e6dc8824270bb38918e152b7f46": {
          "model_module": "@jupyter-widgets/base",
          "model_module_version": "1.2.0",
          "model_name": "LayoutModel",
          "state": {
            "_model_module": "@jupyter-widgets/base",
            "_model_module_version": "1.2.0",
            "_model_name": "LayoutModel",
            "_view_count": null,
            "_view_module": "@jupyter-widgets/base",
            "_view_module_version": "1.2.0",
            "_view_name": "LayoutView",
            "align_content": null,
            "align_items": null,
            "align_self": null,
            "border": null,
            "bottom": null,
            "display": null,
            "flex": null,
            "flex_flow": null,
            "grid_area": null,
            "grid_auto_columns": null,
            "grid_auto_flow": null,
            "grid_auto_rows": null,
            "grid_column": null,
            "grid_gap": null,
            "grid_row": null,
            "grid_template_areas": null,
            "grid_template_columns": null,
            "grid_template_rows": null,
            "height": null,
            "justify_content": null,
            "justify_items": null,
            "left": null,
            "margin": null,
            "max_height": null,
            "max_width": null,
            "min_height": null,
            "min_width": null,
            "object_fit": null,
            "object_position": null,
            "order": null,
            "overflow": null,
            "overflow_x": null,
            "overflow_y": null,
            "padding": null,
            "right": null,
            "top": null,
            "visibility": null,
            "width": null
          }
        },
        "bf3c72e3ea2d4ff2be327c356759f2cb": {
          "model_module": "@jupyter-widgets/controls",
          "model_module_version": "1.5.0",
          "model_name": "HTMLModel",
          "state": {
            "_dom_classes": [],
            "_model_module": "@jupyter-widgets/controls",
            "_model_module_version": "1.5.0",
            "_model_name": "HTMLModel",
            "_view_count": null,
            "_view_module": "@jupyter-widgets/controls",
            "_view_module_version": "1.5.0",
            "_view_name": "HTMLView",
            "description": "",
            "description_tooltip": null,
            "layout": "IPY_MODEL_7b093e6dc8824270bb38918e152b7f46",
            "placeholder": "​",
            "style": "IPY_MODEL_d865680f41124b7492faf231904c2bfa",
            "value": " 300M/300M [00:01&lt;00:00, 248MB/s]"
          }
        },
        "bfcf649ddb644052b0763729904dbb64": {
          "model_module": "@jupyter-widgets/controls",
          "model_module_version": "1.5.0",
          "model_name": "ProgressStyleModel",
          "state": {
            "_model_module": "@jupyter-widgets/controls",
            "_model_module_version": "1.5.0",
            "_model_name": "ProgressStyleModel",
            "_view_count": null,
            "_view_module": "@jupyter-widgets/base",
            "_view_module_version": "1.2.0",
            "_view_name": "StyleView",
            "bar_color": null,
            "description_width": ""
          }
        },
        "d2fe60565a90499bb1ee953289a6dd23": {
          "model_module": "@jupyter-widgets/controls",
          "model_module_version": "1.5.0",
          "model_name": "HTMLModel",
          "state": {
            "_dom_classes": [],
            "_model_module": "@jupyter-widgets/controls",
            "_model_module_version": "1.5.0",
            "_model_name": "HTMLModel",
            "_view_count": null,
            "_view_module": "@jupyter-widgets/controls",
            "_view_module_version": "1.5.0",
            "_view_name": "HTMLView",
            "description": "",
            "description_tooltip": null,
            "layout": "IPY_MODEL_de456958f4754719b6ca6038e6b1d425",
            "placeholder": "​",
            "style": "IPY_MODEL_2830bb6b480d4a3097a8c7b591952f29",
            "value": "EVA02_CLIP_B_psz16_s8B.pt: 100%"
          }
        },
        "d865680f41124b7492faf231904c2bfa": {
          "model_module": "@jupyter-widgets/controls",
          "model_module_version": "1.5.0",
          "model_name": "DescriptionStyleModel",
          "state": {
            "_model_module": "@jupyter-widgets/controls",
            "_model_module_version": "1.5.0",
            "_model_name": "DescriptionStyleModel",
            "_view_count": null,
            "_view_module": "@jupyter-widgets/base",
            "_view_module_version": "1.2.0",
            "_view_name": "StyleView",
            "description_width": ""
          }
        },
        "de456958f4754719b6ca6038e6b1d425": {
          "model_module": "@jupyter-widgets/base",
          "model_module_version": "1.2.0",
          "model_name": "LayoutModel",
          "state": {
            "_model_module": "@jupyter-widgets/base",
            "_model_module_version": "1.2.0",
            "_model_name": "LayoutModel",
            "_view_count": null,
            "_view_module": "@jupyter-widgets/base",
            "_view_module_version": "1.2.0",
            "_view_name": "LayoutView",
            "align_content": null,
            "align_items": null,
            "align_self": null,
            "border": null,
            "bottom": null,
            "display": null,
            "flex": null,
            "flex_flow": null,
            "grid_area": null,
            "grid_auto_columns": null,
            "grid_auto_flow": null,
            "grid_auto_rows": null,
            "grid_column": null,
            "grid_gap": null,
            "grid_row": null,
            "grid_template_areas": null,
            "grid_template_columns": null,
            "grid_template_rows": null,
            "height": null,
            "justify_content": null,
            "justify_items": null,
            "left": null,
            "margin": null,
            "max_height": null,
            "max_width": null,
            "min_height": null,
            "min_width": null,
            "object_fit": null,
            "object_position": null,
            "order": null,
            "overflow": null,
            "overflow_x": null,
            "overflow_y": null,
            "padding": null,
            "right": null,
            "top": null,
            "visibility": null,
            "width": null
          }
        },
        "eeef5d08b1dd42da99d3272e0ba9f3ec": {
          "model_module": "@jupyter-widgets/base",
          "model_module_version": "1.2.0",
          "model_name": "LayoutModel",
          "state": {
            "_model_module": "@jupyter-widgets/base",
            "_model_module_version": "1.2.0",
            "_model_name": "LayoutModel",
            "_view_count": null,
            "_view_module": "@jupyter-widgets/base",
            "_view_module_version": "1.2.0",
            "_view_name": "LayoutView",
            "align_content": null,
            "align_items": null,
            "align_self": null,
            "border": null,
            "bottom": null,
            "display": null,
            "flex": null,
            "flex_flow": null,
            "grid_area": null,
            "grid_auto_columns": null,
            "grid_auto_flow": null,
            "grid_auto_rows": null,
            "grid_column": null,
            "grid_gap": null,
            "grid_row": null,
            "grid_template_areas": null,
            "grid_template_columns": null,
            "grid_template_rows": null,
            "height": null,
            "justify_content": null,
            "justify_items": null,
            "left": null,
            "margin": null,
            "max_height": null,
            "max_width": null,
            "min_height": null,
            "min_width": null,
            "object_fit": null,
            "object_position": null,
            "order": null,
            "overflow": null,
            "overflow_x": null,
            "overflow_y": null,
            "padding": null,
            "right": null,
            "top": null,
            "visibility": null,
            "width": null
          }
        }
      }
    }
  },
  "nbformat": 4,
  "nbformat_minor": 0
}
