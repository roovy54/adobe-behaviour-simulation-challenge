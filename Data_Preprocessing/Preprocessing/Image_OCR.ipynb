{
  "cells": [
    {
      "cell_type": "code",
      "execution_count": null,
      "metadata": {
        "colab": {
          "base_uri": "https://localhost:8080/"
        },
        "id": "3nBAzx8i9unu",
        "outputId": "cb135616-ed17-41c4-dc09-644af6f99ae8"
      },
      "outputs": [
        {
          "name": "stdout",
          "output_type": "stream",
          "text": [
            "Mounted at /content/drive\n"
          ]
        }
      ],
      "source": [
        "from google.colab import drive\n",
        "drive.mount('/content/drive')"
      ]
    },
    {
      "cell_type": "code",
      "execution_count": null,
      "metadata": {
        "id": "LGKoPRfKOxIl"
      },
      "outputs": [],
      "source": [
        "import numpy as np\n",
        "import matplotlib.pyplot as plt\n",
        "import os\n",
        "import cv2\n",
        "import pandas as pd\n",
        "import sklearn\n",
        "import shutil"
      ]
    },
    {
      "cell_type": "code",
      "execution_count": null,
      "metadata": {
        "id": "lOuV1z3aO-Dy"
      },
      "outputs": [],
      "source": [
        "!pip install urlextract --quiet\n",
        "from urlextract import URLExtract\n",
        "import requests\n",
        "import torchvision.models as models\n",
        "from torchvision import transforms"
      ]
    },
    {
      "cell_type": "code",
      "execution_count": null,
      "metadata": {
        "id": "bq6hdnCtO96L"
      },
      "outputs": [],
      "source": [
        "# !pip install Katna -q\n",
        "# from Katna.video import Video\n",
        "# from Katna.writer import KeyFrameDiskWriter"
      ]
    },
    {
      "cell_type": "code",
      "execution_count": null,
      "metadata": {
        "id": "jHVKT2unPAvG"
      },
      "outputs": [],
      "source": [
        "!pip install paddlepaddle-gpu -q\n",
        "!pip install paddleocr -q\n",
        "!pip install timeout_decorator"
      ]
    },
    {
      "cell_type": "code",
      "execution_count": null,
      "metadata": {
        "id": "hUnruUGNPDGL"
      },
      "outputs": [],
      "source": [
        "from paddleocr import PaddleOCR, draw_ocr\n",
        "from timeout_decorator import timeout\n",
        "import shutil"
      ]
    },
    {
      "cell_type": "code",
      "execution_count": null,
      "metadata": {
        "id": "_y4ILTks9dm-"
      },
      "outputs": [],
      "source": [
        "def get_content_type(url):\n",
        "    try:\n",
        "        response = requests.head(url)\n",
        "        content_type = response.headers.get('Content-Type')\n",
        "        return content_type\n",
        "    except requests.ConnectionError:\n",
        "        return None\n",
        "\n",
        "def is_image_url(url):\n",
        "    content_type = get_content_type(url)\n",
        "    return content_type and content_type.startswith('image')\n",
        "\n",
        "def is_video_url(url):\n",
        "    content_type = get_content_type(url)\n",
        "    return content_type and content_type.startswith('video')"
      ]
    },
    {
      "cell_type": "code",
      "execution_count": null,
      "metadata": {
        "id": "e5XY6Mn-3eAp"
      },
      "outputs": [],
      "source": [
        "def download_image(url, destination_path):\n",
        "    try:\n",
        "        # Send a GET request to the URL\n",
        "        response = requests.get(url, stream=True)\n",
        "\n",
        "        # Check if the request was successful (status code 200)\n",
        "        if response.status_code == 200:\n",
        "            # Open a temporary file to save the video content\n",
        "            with open('temp_image.jpg', 'wb') as temp_file:\n",
        "                # Copy the content from the response to the temporary file\n",
        "                shutil.copyfileobj(response.raw, temp_file)\n",
        "\n",
        "            # Move the temporary file to the destination path\n",
        "            shutil.move('temp_image.jpg', destination_path)\n",
        "            print(f\"Image downloaded successfully to '{destination_path}'\")\n",
        "        else:\n",
        "            print(f\"Failed to download Image. Status code: {response.status_code}\")\n",
        "    except requests.ConnectionError:\n",
        "        print(\"Connection error. Failed to download image.\")"
      ]
    },
    {
      "cell_type": "code",
      "execution_count": null,
      "metadata": {
        "id": "5DHnbmm77EKT"
      },
      "outputs": [],
      "source": [
        "def download_video(url, destination_path):\n",
        "    try:\n",
        "        # Send a GET request to the URL\n",
        "        response = requests.get(url, stream=True)\n",
        "\n",
        "        # Check if the request was successful (status code 200)\n",
        "        if response.status_code == 200:\n",
        "            # Open a temporary file to save the video content\n",
        "            with open('temp_video.mp4', 'wb') as temp_file:\n",
        "                # Copy the content from the response to the temporary file\n",
        "                shutil.copyfileobj(response.raw, temp_file)\n",
        "\n",
        "            # Move the temporary file to the destination path\n",
        "            shutil.move('temp_video.mp4', destination_path)\n",
        "        else:\n",
        "            print(f\"Failed to download video. Status code: {response.status_code}\")\n",
        "    except requests.ConnectionError:\n",
        "        print(\"Connection error. Failed to download video.\")"
      ]
    },
    {
      "cell_type": "code",
      "execution_count": null,
      "metadata": {
        "colab": {
          "base_uri": "https://localhost:8080/"
        },
        "id": "gDcszhNH50ZR",
        "outputId": "e5fcc721-ce29-443e-aa04-a4c8cb7bc236"
      },
      "outputs": [
        {
          "name": "stdout",
          "output_type": "stream",
          "text": [
            "download https://paddleocr.bj.bcebos.com/PP-OCRv3/english/en_PP-OCRv3_det_infer.tar to /root/.paddleocr/whl/det/en/en_PP-OCRv3_det_infer/en_PP-OCRv3_det_infer.tar\n"
          ]
        },
        {
          "name": "stderr",
          "output_type": "stream",
          "text": [
            "100%|██████████| 4.00M/4.00M [00:13<00:00, 293kiB/s] \n"
          ]
        },
        {
          "name": "stdout",
          "output_type": "stream",
          "text": [
            "download https://paddleocr.bj.bcebos.com/PP-OCRv4/english/en_PP-OCRv4_rec_infer.tar to /root/.paddleocr/whl/rec/en/en_PP-OCRv4_rec_infer/en_PP-OCRv4_rec_infer.tar\n"
          ]
        },
        {
          "name": "stderr",
          "output_type": "stream",
          "text": [
            "100%|██████████| 10.2M/10.2M [00:16<00:00, 603kiB/s] \n"
          ]
        },
        {
          "name": "stdout",
          "output_type": "stream",
          "text": [
            "download https://paddleocr.bj.bcebos.com/dygraph_v2.0/ch/ch_ppocr_mobile_v2.0_cls_infer.tar to /root/.paddleocr/whl/cls/ch_ppocr_mobile_v2.0_cls_infer/ch_ppocr_mobile_v2.0_cls_infer.tar\n"
          ]
        },
        {
          "name": "stderr",
          "output_type": "stream",
          "text": [
            "100%|██████████| 2.19M/2.19M [00:11<00:00, 186kiB/s]"
          ]
        },
        {
          "name": "stdout",
          "output_type": "stream",
          "text": [
            "[2023/12/08 10:17:55] ppocr DEBUG: Namespace(help='==SUPPRESS==', use_gpu=True, use_xpu=False, use_npu=False, ir_optim=True, use_tensorrt=False, min_subgraph_size=15, precision='fp32', gpu_mem=500, gpu_id=0, image_dir=None, page_num=0, det_algorithm='DB', det_model_dir='/root/.paddleocr/whl/det/en/en_PP-OCRv3_det_infer', det_limit_side_len=960, det_limit_type='max', det_box_type='quad', det_db_thresh=0.3, det_db_box_thresh=0.6, det_db_unclip_ratio=1.5, max_batch_size=10, use_dilation=False, det_db_score_mode='fast', det_east_score_thresh=0.8, det_east_cover_thresh=0.1, det_east_nms_thresh=0.2, det_sast_score_thresh=0.5, det_sast_nms_thresh=0.2, det_pse_thresh=0, det_pse_box_thresh=0.85, det_pse_min_area=16, det_pse_scale=1, scales=[8, 16, 32], alpha=1.0, beta=1.0, fourier_degree=5, rec_algorithm='SVTR_LCNet', rec_model_dir='/root/.paddleocr/whl/rec/en/en_PP-OCRv4_rec_infer', rec_image_inverse=True, rec_image_shape='3, 48, 320', rec_batch_num=6, max_text_length=25, rec_char_dict_path='/usr/local/lib/python3.10/dist-packages/paddleocr/ppocr/utils/en_dict.txt', use_space_char=True, vis_font_path='./doc/fonts/simfang.ttf', drop_score=0.5, e2e_algorithm='PGNet', e2e_model_dir=None, e2e_limit_side_len=768, e2e_limit_type='max', e2e_pgnet_score_thresh=0.5, e2e_char_dict_path='./ppocr/utils/ic15_dict.txt', e2e_pgnet_valid_set='totaltext', e2e_pgnet_mode='fast', use_angle_cls=True, cls_model_dir='/root/.paddleocr/whl/cls/ch_ppocr_mobile_v2.0_cls_infer', cls_image_shape='3, 48, 192', label_list=['0', '180'], cls_batch_num=6, cls_thresh=0.9, enable_mkldnn=False, cpu_threads=10, use_pdserving=False, warmup=False, sr_model_dir=None, sr_image_shape='3, 32, 128', sr_batch_num=1, draw_img_save_dir='./inference_results', save_crop_res=False, crop_res_save_dir='./output', use_mp=False, total_process_num=1, process_id=0, benchmark=False, save_log_path='./log_output/', show_log=True, use_onnx=False, output='./output', table_max_len=488, table_algorithm='TableAttn', table_model_dir=None, merge_no_span_structure=True, table_char_dict_path=None, layout_model_dir=None, layout_dict_path=None, layout_score_threshold=0.5, layout_nms_threshold=0.5, kie_algorithm='LayoutXLM', ser_model_dir=None, re_model_dir=None, use_visual_backbone=True, ser_dict_path='../train_data/XFUND/class_list_xfun.txt', ocr_order_method=None, mode='structure', image_orientation=False, layout=True, table=True, ocr=True, recovery=False, use_pdf2docx_api=False, invert=False, binarize=False, alphacolor=(255, 255, 255), lang='en', det=True, rec=True, type='ocr', ocr_version='PP-OCRv4', structure_version='PP-StructureV2')\n"
          ]
        },
        {
          "name": "stderr",
          "output_type": "stream",
          "text": [
            "\n"
          ]
        }
      ],
      "source": [
        "ocr_model = PaddleOCR(lang='en', use_angle_cls=True)"
      ]
    },
    {
      "cell_type": "code",
      "execution_count": null,
      "metadata": {
        "id": "8vAkIsUNGtC9"
      },
      "outputs": [],
      "source": [
        "# def video_text(url):\n",
        "#   download_video(url, \"/content/temp_video.mp4\")\n",
        "#   video_path = \"/content/temp_video.mp4\"\n",
        "#   cap = cv2.VideoCapture(video_path)\n",
        "#   total_frames = int(cap.get(cv2.CAP_PROP_FRAME_COUNT))\n",
        "#   num_frames = 50\n",
        "#   total_frames = int(cap.get(cv2.CAP_PROP_FRAME_COUNT))\n",
        "#   frame_interval = max(1, total_frames // num_frames)\n",
        "#   video_ocr = []\n",
        "\n",
        "#   for frame_count in range(0,total_frames,frame_interval):\n",
        "#     ret, frame = cap.read()\n",
        "#     if not ret:\n",
        "#       break\n",
        "\n",
        "#     result = ocr_model.ocr(frame)\n",
        "#     extracted_text = []\n",
        "\n",
        "#     for sublist in result:\n",
        "#       if sublist is None:\n",
        "#         break\n",
        "#       for subsublist in sublist:\n",
        "#         text = subsublist[1][0]\n",
        "#         extracted_text.append(text)\n",
        "#     text = \"\".join(extracted_text)\n",
        "\n",
        "#     video_ocr.append(text)\n",
        "\n",
        "#   cap.release()\n",
        "#   return ' ' + (' ').join(video_ocr) + ' '"
      ]
    },
    {
      "cell_type": "code",
      "execution_count": null,
      "metadata": {
        "id": "LwihmNJJJ3_0"
      },
      "outputs": [],
      "source": [
        "def image_text(url):\n",
        "  download_image(url, \"/content/temp_image.jpg\")\n",
        "  image_path = \"/content/temp_image.jpg\"\n",
        "  image = cv2.imread(image_path)\n",
        "  result = ocr_model.ocr(image)\n",
        "  extracted_text = []\n",
        "\n",
        "  for sublist in result:\n",
        "    if sublist is None:\n",
        "      break\n",
        "    for subsublist in sublist:\n",
        "      text = subsublist[1][0]\n",
        "      extracted_text.append(text)\n",
        "  text_output = \"\".join(extracted_text)\n",
        "\n",
        "  return text_output"
      ]
    },
    {
      "cell_type": "code",
      "execution_count": null,
      "metadata": {
        "id": "JYWVJz-VzRtS"
      },
      "outputs": [],
      "source": [
        "train_df = pd.read_csv(\"/content/drive/MyDrive/Adobe_PS/all_captions_upto_50k.csv\")"
      ]
    },
    {
      "cell_type": "code",
      "execution_count": null,
      "metadata": {
        "id": "pz439uowLQCX"
      },
      "outputs": [],
      "source": [
        "train_df[\"image_ocr\"] = [\"\"]*len(train_df)"
      ]
    },
    {
      "cell_type": "code",
      "execution_count": null,
      "metadata": {
        "id": "E2iQ3LlN7VlC"
      },
      "outputs": [],
      "source": [
        "count_check = 0\n",
        "for i in range(len(train_df)):\n",
        "  print(\"*************************\",i,\"*****************************\")\n",
        "  url = train_df[\"single_media\"][i]\n",
        "  if is_image_url(url):\n",
        "    count_check += 1\n",
        "    text = image_text(url)\n",
        "    print(text)\n",
        "    train_df[\"image_ocr\"][i] = text\n",
        "  if count_check % 50 == 0:\n",
        "    train_df.to_csv(\"all_captions_upto_50k.csv\")"
      ]
    }
  ],
  "metadata": {
    "accelerator": "GPU",
    "colab": {
      "gpuType": "T4",
      "provenance": []
    },
    "kernelspec": {
      "display_name": "Python 3",
      "name": "python3"
    },
    "language_info": {
      "name": "python"
    }
  },
  "nbformat": 4,
  "nbformat_minor": 0
}
