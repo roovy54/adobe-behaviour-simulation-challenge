{
 "cells": [
  {
   "cell_type": "code",
   "execution_count": 40,
   "metadata": {},
   "outputs": [],
   "source": [
    "import torch\n",
    "from torch.optim.lr_scheduler import StepLR\n",
    "from datetime import datetime\n",
    "import numpy as np\n",
    "import matplotlib.pyplot as plt\n",
    "import pandas as pd\n",
    "import seaborn as sns\n",
    "from sklearn.metrics import mean_squared_error, r2_score\n",
    "import math\n",
    "from scipy.stats import gaussian_kde"
   ]
  },
  {
   "cell_type": "code",
   "execution_count": null,
   "metadata": {},
   "outputs": [],
   "source": [
    "import torch\n",
    "from transformers import RobertaTokenizer, RobertaForSequenceClassification\n",
    "from torch.utils.data import DataLoader, Dataset\n",
    "from sklearn.model_selection import train_test_split\n",
    "import torch.nn as nn\n",
    "import torch.optim as optim\n",
    "from tqdm import tqdm\n",
    "from sklearn.feature_extraction.text import TfidfVectorizer\n",
    "from sklearn.naive_bayes import MultinomialNB\n",
    "from sklearn.pipeline import Pipeline"
   ]
  },
  {
   "cell_type": "code",
   "execution_count": 2,
   "metadata": {
    "id": "3L8DTmNnLmbV"
   },
   "outputs": [],
   "source": [
    "train_df = pd.read_csv(\"train_full.csv\")\n",
    "val_df = pd.read_csv(\"val_full.csv\")"
   ]
  },
  {
   "cell_type": "code",
   "execution_count": 3,
   "metadata": {
    "id": "2o-v3haINCaR"
   },
   "outputs": [],
   "source": [
    "train_content = train_df[\"text\"].values\n",
    "val_content = val_df[\"text\"].values\n",
    "\n",
    "train_views = train_df[\"video_views\"].values\n",
    "val_views = val_df[\"video_views\"].values\n",
    "\n",
    "train_durations = train_df[\"video_duration\"].values\n",
    "val_durations = val_df[\"video_duration\"].values\n",
    "\n",
    "train_users = train_df[\"username\"].values\n",
    "val_users = val_df[\"username\"].values\n",
    "\n",
    "train_labels = train_df[\"likes\"].values\n",
    "val_labels = val_df[\"likes\"].values\n",
    "\n",
    "train_hasvids = np.array(train_df[\"video_url_status\"].values == \"Link exists and is accessible\")\n",
    "val_hasvids = np.array(val_df[\"video_url_status\"].values == \"Link exists and is accessible\")\n",
    "\n",
    "train_hasimgs = np.array(train_df[\"image_url_status\"].values == \"Link exists and is accessible\")\n",
    "val_hasimgs = np.array(val_df[\"image_url_status\"].values == \"Link exists and is accessible\")\n",
    "\n",
    "train_dates = train_df['date'].values\n",
    "val_dates = val_df['date'].values"
   ]
  },
  {
   "cell_type": "code",
   "execution_count": 4,
   "metadata": {
    "colab": {
     "base_uri": "https://localhost:8080/"
    },
    "id": "QzW_TPH2Y8Es",
    "outputId": "774f5bfb-8675-4898-b6bd-59e8ee98e714"
   },
   "outputs": [
    {
     "data": {
      "text/plain": [
       "(array([False, False, False, ..., False, False,  True]),\n",
       " array([ True,  True,  True, ...,  True,  True, False]),\n",
       " array(['2020-12-12 00:47:00', '2018-06-30 10:04:20',\n",
       "        '2020-09-29 19:47:28', ..., '2019-09-07 16:18:10',\n",
       "        '2020-11-11 20:18:15', '2019-10-29 10:44:00'], dtype=object))"
      ]
     },
     "execution_count": 4,
     "metadata": {},
     "output_type": "execute_result"
    }
   ],
   "source": [
    "train_hasvids,train_hasimgs,train_dates"
   ]
  },
  {
   "cell_type": "code",
   "execution_count": 5,
   "metadata": {},
   "outputs": [
    {
     "data": {
      "text/html": [
       "<div>\n",
       "<style scoped>\n",
       "    .dataframe tbody tr th:only-of-type {\n",
       "        vertical-align: middle;\n",
       "    }\n",
       "\n",
       "    .dataframe tbody tr th {\n",
       "        vertical-align: top;\n",
       "    }\n",
       "\n",
       "    .dataframe thead th {\n",
       "        text-align: right;\n",
       "    }\n",
       "</style>\n",
       "<table border=\"1\" class=\"dataframe\">\n",
       "  <thead>\n",
       "    <tr style=\"text-align: right;\">\n",
       "      <th></th>\n",
       "      <th>text_status</th>\n",
       "      <th>text</th>\n",
       "      <th>languages</th>\n",
       "      <th>image_url_status</th>\n",
       "      <th>image_url</th>\n",
       "      <th>video_thumbnail_status</th>\n",
       "      <th>video_thumbnail_url</th>\n",
       "      <th>video_url_status</th>\n",
       "      <th>video_url</th>\n",
       "      <th>video_bitrate</th>\n",
       "      <th>...</th>\n",
       "      <th>gif_url</th>\n",
       "      <th>gif_bitrate</th>\n",
       "      <th>year</th>\n",
       "      <th>month</th>\n",
       "      <th>day_of_year</th>\n",
       "      <th>day_of_week</th>\n",
       "      <th>date</th>\n",
       "      <th>username</th>\n",
       "      <th>inferred company</th>\n",
       "      <th>likes</th>\n",
       "    </tr>\n",
       "  </thead>\n",
       "  <tbody>\n",
       "    <tr>\n",
       "      <th>0</th>\n",
       "      <td>Has text</td>\n",
       "      <td>LASU Celebrates New Dawn Of Unbroken Peace As ...</td>\n",
       "      <td>['ENGLISH']</td>\n",
       "      <td>Link exists and is accessible</td>\n",
       "      <td>https://pbs.twimg.com/media/EHo1yZyU0AIBW8N?fo...</td>\n",
       "      <td>Link does not exist</td>\n",
       "      <td>Video thumbnail does not exist</td>\n",
       "      <td>Link does not exist</td>\n",
       "      <td>Video does not exist</td>\n",
       "      <td>Does not exist</td>\n",
       "      <td>...</td>\n",
       "      <td>GIF does not exist</td>\n",
       "      <td>Does not exist</td>\n",
       "      <td>2019</td>\n",
       "      <td>October</td>\n",
       "      <td>297</td>\n",
       "      <td>Thursday</td>\n",
       "      <td>2019-10-24 10:51:03</td>\n",
       "      <td>IndependentNGR</td>\n",
       "      <td>independent</td>\n",
       "      <td>0</td>\n",
       "    </tr>\n",
       "    <tr>\n",
       "      <th>1</th>\n",
       "      <td>Has text</td>\n",
       "      <td>The US-Taliban agreement, which sets into moti...</td>\n",
       "      <td>['ENGLISH']</td>\n",
       "      <td>Link does not exist</td>\n",
       "      <td>Image does not exist</td>\n",
       "      <td>Link exists and is accessible</td>\n",
       "      <td>https://pbs.twimg.com/media/ESCO6b9WkAUBI1o.jpg</td>\n",
       "      <td>Link exists and is accessible</td>\n",
       "      <td>https://video.twimg.com/amplify_video/12341434...</td>\n",
       "      <td>288000</td>\n",
       "      <td>...</td>\n",
       "      <td>GIF does not exist</td>\n",
       "      <td>Does not exist</td>\n",
       "      <td>2020</td>\n",
       "      <td>March</td>\n",
       "      <td>61</td>\n",
       "      <td>Sunday</td>\n",
       "      <td>2020-03-01 15:48:46</td>\n",
       "      <td>CNN</td>\n",
       "      <td>cnn</td>\n",
       "      <td>672</td>\n",
       "    </tr>\n",
       "    <tr>\n",
       "      <th>2</th>\n",
       "      <td>Has text</td>\n",
       "      <td>Many people are understandably anxious to get ...</td>\n",
       "      <td>['ENGLISH']</td>\n",
       "      <td>Link exists and is accessible</td>\n",
       "      <td>https://pbs.twimg.com/media/EdP2C8RXYAAEkdX?fo...</td>\n",
       "      <td>Link does not exist</td>\n",
       "      <td>Video thumbnail does not exist</td>\n",
       "      <td>Link does not exist</td>\n",
       "      <td>Video does not exist</td>\n",
       "      <td>Does not exist</td>\n",
       "      <td>...</td>\n",
       "      <td>GIF does not exist</td>\n",
       "      <td>Does not exist</td>\n",
       "      <td>2020</td>\n",
       "      <td>July</td>\n",
       "      <td>201</td>\n",
       "      <td>Sunday</td>\n",
       "      <td>2020-07-19 00:07:00</td>\n",
       "      <td>MayoClinic</td>\n",
       "      <td>mayo clinic</td>\n",
       "      <td>78</td>\n",
       "    </tr>\n",
       "    <tr>\n",
       "      <th>3</th>\n",
       "      <td>Has text</td>\n",
       "      <td>ALSO NOW (yes it's wild here today): Sen Merkl...</td>\n",
       "      <td>['ENGLISH']</td>\n",
       "      <td>Link exists and is accessible</td>\n",
       "      <td>https://pbs.twimg.com/media/DoCNXLsV4AAM2Aw?fo...</td>\n",
       "      <td>Link does not exist</td>\n",
       "      <td>Video thumbnail does not exist</td>\n",
       "      <td>Link does not exist</td>\n",
       "      <td>Video does not exist</td>\n",
       "      <td>Does not exist</td>\n",
       "      <td>...</td>\n",
       "      <td>GIF does not exist</td>\n",
       "      <td>Does not exist</td>\n",
       "      <td>2018</td>\n",
       "      <td>September</td>\n",
       "      <td>269</td>\n",
       "      <td>Wednesday</td>\n",
       "      <td>2018-09-26 16:42:17</td>\n",
       "      <td>LisaDNews</td>\n",
       "      <td>desjardins</td>\n",
       "      <td>961</td>\n",
       "    </tr>\n",
       "    <tr>\n",
       "      <th>4</th>\n",
       "      <td>Has text</td>\n",
       "      <td>Toyota Motor North America Chief Diversity Off...</td>\n",
       "      <td>['ENGLISH']</td>\n",
       "      <td>Link exists and is accessible</td>\n",
       "      <td>https://pbs.twimg.com/media/ES2r4X5WkAA8UuA?fo...</td>\n",
       "      <td>Link does not exist</td>\n",
       "      <td>Video thumbnail does not exist</td>\n",
       "      <td>Link does not exist</td>\n",
       "      <td>Video does not exist</td>\n",
       "      <td>Does not exist</td>\n",
       "      <td>...</td>\n",
       "      <td>GIF does not exist</td>\n",
       "      <td>Does not exist</td>\n",
       "      <td>2020</td>\n",
       "      <td>March</td>\n",
       "      <td>71</td>\n",
       "      <td>Wednesday</td>\n",
       "      <td>2020-03-11 20:15:08</td>\n",
       "      <td>ToyotaSD</td>\n",
       "      <td>toyota</td>\n",
       "      <td>4</td>\n",
       "    </tr>\n",
       "    <tr>\n",
       "      <th>...</th>\n",
       "      <td>...</td>\n",
       "      <td>...</td>\n",
       "      <td>...</td>\n",
       "      <td>...</td>\n",
       "      <td>...</td>\n",
       "      <td>...</td>\n",
       "      <td>...</td>\n",
       "      <td>...</td>\n",
       "      <td>...</td>\n",
       "      <td>...</td>\n",
       "      <td>...</td>\n",
       "      <td>...</td>\n",
       "      <td>...</td>\n",
       "      <td>...</td>\n",
       "      <td>...</td>\n",
       "      <td>...</td>\n",
       "      <td>...</td>\n",
       "      <td>...</td>\n",
       "      <td>...</td>\n",
       "      <td>...</td>\n",
       "      <td>...</td>\n",
       "    </tr>\n",
       "    <tr>\n",
       "      <th>29922</th>\n",
       "      <td>Has text</td>\n",
       "      <td>Start em young 💪🏾 &lt;hyperlink&gt;</td>\n",
       "      <td>['Unknown']</td>\n",
       "      <td>Link does not exist</td>\n",
       "      <td>Image does not exist</td>\n",
       "      <td>Link exists and is accessible</td>\n",
       "      <td>https://pbs.twimg.com/ext_tw_video_thumb/11180...</td>\n",
       "      <td>Link exists and is accessible</td>\n",
       "      <td>https://video.twimg.com/ext_tw_video/111807579...</td>\n",
       "      <td>256000</td>\n",
       "      <td>...</td>\n",
       "      <td>GIF does not exist</td>\n",
       "      <td>Does not exist</td>\n",
       "      <td>2019</td>\n",
       "      <td>April</td>\n",
       "      <td>106</td>\n",
       "      <td>Tuesday</td>\n",
       "      <td>2019-04-16 08:57:17</td>\n",
       "      <td>SonnyBWilliams</td>\n",
       "      <td>williams</td>\n",
       "      <td>2151</td>\n",
       "    </tr>\n",
       "    <tr>\n",
       "      <th>29923</th>\n",
       "      <td>Has text</td>\n",
       "      <td>Nearly 15 years after leaving public office, f...</td>\n",
       "      <td>['ENGLISH']</td>\n",
       "      <td>Link exists and is accessible</td>\n",
       "      <td>https://pbs.twimg.com/media/Dehc02rW4AAYBVQ?fo...</td>\n",
       "      <td>Link does not exist</td>\n",
       "      <td>Video thumbnail does not exist</td>\n",
       "      <td>Link does not exist</td>\n",
       "      <td>Video does not exist</td>\n",
       "      <td>Does not exist</td>\n",
       "      <td>...</td>\n",
       "      <td>GIF does not exist</td>\n",
       "      <td>Does not exist</td>\n",
       "      <td>2018</td>\n",
       "      <td>May</td>\n",
       "      <td>151</td>\n",
       "      <td>Thursday</td>\n",
       "      <td>2018-05-31 11:41:10</td>\n",
       "      <td>TheCurrentCBC</td>\n",
       "      <td>cbc</td>\n",
       "      <td>44</td>\n",
       "    </tr>\n",
       "    <tr>\n",
       "      <th>29924</th>\n",
       "      <td>Has text</td>\n",
       "      <td>Sparks are set to fly when speedsters Rabz Max...</td>\n",
       "      <td>['ENGLISH']</td>\n",
       "      <td>Link exists and is accessible</td>\n",
       "      <td>https://pbs.twimg.com/media/DyVHClwXcAAauD2?fo...</td>\n",
       "      <td>Link does not exist</td>\n",
       "      <td>Video thumbnail does not exist</td>\n",
       "      <td>Link does not exist</td>\n",
       "      <td>Video does not exist</td>\n",
       "      <td>Does not exist</td>\n",
       "      <td>...</td>\n",
       "      <td>GIF does not exist</td>\n",
       "      <td>Does not exist</td>\n",
       "      <td>2019</td>\n",
       "      <td>February</td>\n",
       "      <td>32</td>\n",
       "      <td>Friday</td>\n",
       "      <td>2019-02-01 15:24:27</td>\n",
       "      <td>CheetahsRugby</td>\n",
       "      <td>toyota</td>\n",
       "      <td>16</td>\n",
       "    </tr>\n",
       "    <tr>\n",
       "      <th>29925</th>\n",
       "      <td>Has text</td>\n",
       "      <td>\"We can help #cities help manage their tourism...</td>\n",
       "      <td>['ENGLISH']</td>\n",
       "      <td>Link exists and is accessible</td>\n",
       "      <td>https://pbs.twimg.com/media/DraMJneUUAEMLO3?fo...</td>\n",
       "      <td>Link does not exist</td>\n",
       "      <td>Video thumbnail does not exist</td>\n",
       "      <td>Link does not exist</td>\n",
       "      <td>Video does not exist</td>\n",
       "      <td>Does not exist</td>\n",
       "      <td>...</td>\n",
       "      <td>GIF does not exist</td>\n",
       "      <td>Does not exist</td>\n",
       "      <td>2018</td>\n",
       "      <td>November</td>\n",
       "      <td>311</td>\n",
       "      <td>Wednesday</td>\n",
       "      <td>2018-11-07 15:14:56</td>\n",
       "      <td>MastercardNews</td>\n",
       "      <td>mastercard</td>\n",
       "      <td>166</td>\n",
       "    </tr>\n",
       "    <tr>\n",
       "      <th>29926</th>\n",
       "      <td>Has text</td>\n",
       "      <td>From &lt;mention&gt; &lt;hyperlink&gt;</td>\n",
       "      <td>['Unknown']</td>\n",
       "      <td>Link exists and is accessible</td>\n",
       "      <td>https://pbs.twimg.com/media/De8UJCwUYAEu4Ts?fo...</td>\n",
       "      <td>Link does not exist</td>\n",
       "      <td>Video thumbnail does not exist</td>\n",
       "      <td>Link does not exist</td>\n",
       "      <td>Video does not exist</td>\n",
       "      <td>Does not exist</td>\n",
       "      <td>...</td>\n",
       "      <td>GIF does not exist</td>\n",
       "      <td>Does not exist</td>\n",
       "      <td>2018</td>\n",
       "      <td>June</td>\n",
       "      <td>156</td>\n",
       "      <td>Tuesday</td>\n",
       "      <td>2018-06-05 16:52:54</td>\n",
       "      <td>officialmcafee</td>\n",
       "      <td>mcafee</td>\n",
       "      <td>115</td>\n",
       "    </tr>\n",
       "  </tbody>\n",
       "</table>\n",
       "<p>29927 rows × 25 columns</p>\n",
       "</div>"
      ],
      "text/plain": [
       "      text_status                                               text  \\\n",
       "0        Has text  LASU Celebrates New Dawn Of Unbroken Peace As ...   \n",
       "1        Has text  The US-Taliban agreement, which sets into moti...   \n",
       "2        Has text  Many people are understandably anxious to get ...   \n",
       "3        Has text  ALSO NOW (yes it's wild here today): Sen Merkl...   \n",
       "4        Has text  Toyota Motor North America Chief Diversity Off...   \n",
       "...           ...                                                ...   \n",
       "29922    Has text                      Start em young 💪🏾 <hyperlink>   \n",
       "29923    Has text  Nearly 15 years after leaving public office, f...   \n",
       "29924    Has text  Sparks are set to fly when speedsters Rabz Max...   \n",
       "29925    Has text  \"We can help #cities help manage their tourism...   \n",
       "29926    Has text                         From <mention> <hyperlink>   \n",
       "\n",
       "         languages               image_url_status  \\\n",
       "0      ['ENGLISH']  Link exists and is accessible   \n",
       "1      ['ENGLISH']            Link does not exist   \n",
       "2      ['ENGLISH']  Link exists and is accessible   \n",
       "3      ['ENGLISH']  Link exists and is accessible   \n",
       "4      ['ENGLISH']  Link exists and is accessible   \n",
       "...            ...                            ...   \n",
       "29922  ['Unknown']            Link does not exist   \n",
       "29923  ['ENGLISH']  Link exists and is accessible   \n",
       "29924  ['ENGLISH']  Link exists and is accessible   \n",
       "29925  ['ENGLISH']  Link exists and is accessible   \n",
       "29926  ['Unknown']  Link exists and is accessible   \n",
       "\n",
       "                                               image_url  \\\n",
       "0      https://pbs.twimg.com/media/EHo1yZyU0AIBW8N?fo...   \n",
       "1                                   Image does not exist   \n",
       "2      https://pbs.twimg.com/media/EdP2C8RXYAAEkdX?fo...   \n",
       "3      https://pbs.twimg.com/media/DoCNXLsV4AAM2Aw?fo...   \n",
       "4      https://pbs.twimg.com/media/ES2r4X5WkAA8UuA?fo...   \n",
       "...                                                  ...   \n",
       "29922                               Image does not exist   \n",
       "29923  https://pbs.twimg.com/media/Dehc02rW4AAYBVQ?fo...   \n",
       "29924  https://pbs.twimg.com/media/DyVHClwXcAAauD2?fo...   \n",
       "29925  https://pbs.twimg.com/media/DraMJneUUAEMLO3?fo...   \n",
       "29926  https://pbs.twimg.com/media/De8UJCwUYAEu4Ts?fo...   \n",
       "\n",
       "              video_thumbnail_status  \\\n",
       "0                Link does not exist   \n",
       "1      Link exists and is accessible   \n",
       "2                Link does not exist   \n",
       "3                Link does not exist   \n",
       "4                Link does not exist   \n",
       "...                              ...   \n",
       "29922  Link exists and is accessible   \n",
       "29923            Link does not exist   \n",
       "29924            Link does not exist   \n",
       "29925            Link does not exist   \n",
       "29926            Link does not exist   \n",
       "\n",
       "                                     video_thumbnail_url  \\\n",
       "0                         Video thumbnail does not exist   \n",
       "1        https://pbs.twimg.com/media/ESCO6b9WkAUBI1o.jpg   \n",
       "2                         Video thumbnail does not exist   \n",
       "3                         Video thumbnail does not exist   \n",
       "4                         Video thumbnail does not exist   \n",
       "...                                                  ...   \n",
       "29922  https://pbs.twimg.com/ext_tw_video_thumb/11180...   \n",
       "29923                     Video thumbnail does not exist   \n",
       "29924                     Video thumbnail does not exist   \n",
       "29925                     Video thumbnail does not exist   \n",
       "29926                     Video thumbnail does not exist   \n",
       "\n",
       "                    video_url_status  \\\n",
       "0                Link does not exist   \n",
       "1      Link exists and is accessible   \n",
       "2                Link does not exist   \n",
       "3                Link does not exist   \n",
       "4                Link does not exist   \n",
       "...                              ...   \n",
       "29922  Link exists and is accessible   \n",
       "29923            Link does not exist   \n",
       "29924            Link does not exist   \n",
       "29925            Link does not exist   \n",
       "29926            Link does not exist   \n",
       "\n",
       "                                               video_url   video_bitrate  ...  \\\n",
       "0                                   Video does not exist  Does not exist  ...   \n",
       "1      https://video.twimg.com/amplify_video/12341434...          288000  ...   \n",
       "2                                   Video does not exist  Does not exist  ...   \n",
       "3                                   Video does not exist  Does not exist  ...   \n",
       "4                                   Video does not exist  Does not exist  ...   \n",
       "...                                                  ...             ...  ...   \n",
       "29922  https://video.twimg.com/ext_tw_video/111807579...          256000  ...   \n",
       "29923                               Video does not exist  Does not exist  ...   \n",
       "29924                               Video does not exist  Does not exist  ...   \n",
       "29925                               Video does not exist  Does not exist  ...   \n",
       "29926                               Video does not exist  Does not exist  ...   \n",
       "\n",
       "                  gif_url     gif_bitrate  year      month day_of_year  \\\n",
       "0      GIF does not exist  Does not exist  2019    October         297   \n",
       "1      GIF does not exist  Does not exist  2020      March          61   \n",
       "2      GIF does not exist  Does not exist  2020       July         201   \n",
       "3      GIF does not exist  Does not exist  2018  September         269   \n",
       "4      GIF does not exist  Does not exist  2020      March          71   \n",
       "...                   ...             ...   ...        ...         ...   \n",
       "29922  GIF does not exist  Does not exist  2019      April         106   \n",
       "29923  GIF does not exist  Does not exist  2018        May         151   \n",
       "29924  GIF does not exist  Does not exist  2019   February          32   \n",
       "29925  GIF does not exist  Does not exist  2018   November         311   \n",
       "29926  GIF does not exist  Does not exist  2018       June         156   \n",
       "\n",
       "      day_of_week                 date        username inferred company  likes  \n",
       "0        Thursday  2019-10-24 10:51:03  IndependentNGR      independent      0  \n",
       "1          Sunday  2020-03-01 15:48:46             CNN              cnn    672  \n",
       "2          Sunday  2020-07-19 00:07:00      MayoClinic      mayo clinic     78  \n",
       "3       Wednesday  2018-09-26 16:42:17       LisaDNews       desjardins    961  \n",
       "4       Wednesday  2020-03-11 20:15:08        ToyotaSD           toyota      4  \n",
       "...           ...                  ...             ...              ...    ...  \n",
       "29922     Tuesday  2019-04-16 08:57:17  SonnyBWilliams         williams   2151  \n",
       "29923    Thursday  2018-05-31 11:41:10   TheCurrentCBC              cbc     44  \n",
       "29924      Friday  2019-02-01 15:24:27   CheetahsRugby           toyota     16  \n",
       "29925   Wednesday  2018-11-07 15:14:56  MastercardNews       mastercard    166  \n",
       "29926     Tuesday  2018-06-05 16:52:54  officialmcafee           mcafee    115  \n",
       "\n",
       "[29927 rows x 25 columns]"
      ]
     },
     "execution_count": 5,
     "metadata": {},
     "output_type": "execute_result"
    }
   ],
   "source": [
    "val_df"
   ]
  },
  {
   "cell_type": "code",
   "execution_count": 6,
   "metadata": {},
   "outputs": [],
   "source": [
    "# train_new = train_df[train_df['video_views']!='Does not exist']"
   ]
  },
  {
   "cell_type": "markdown",
   "metadata": {
    "id": "B-qTe6eu98Su"
   },
   "source": [
    "# Model Training"
   ]
  },
  {
   "cell_type": "code",
   "execution_count": 7,
   "metadata": {
    "id": "HccQeM53UU_b"
   },
   "outputs": [],
   "source": [
    "train_log_labels = []\n",
    "for i in range(len(train_labels)):\n",
    "  train_log_labels.append(np.log(1+train_labels[i]))"
   ]
  },
  {
   "cell_type": "code",
   "execution_count": 8,
   "metadata": {
    "id": "yaVN5oYwWj0y"
   },
   "outputs": [],
   "source": [
    "val_log_labels = []\n",
    "for i in range(len(val_labels)):\n",
    "  val_log_labels.append(np.log(1+val_labels[i]))"
   ]
  },
  {
   "cell_type": "code",
   "execution_count": 10,
   "metadata": {},
   "outputs": [],
   "source": [
    "LN6L = 13.3046849342\n",
    "LN100 = 4.60517018599\n",
    "LN4K = 8.2940496401\n",
    "LN3K5 = 8.16051824748\n",
    "LN10K = 9.21034037198"
   ]
  },
  {
   "cell_type": "code",
   "execution_count": 18,
   "metadata": {
    "colab": {
     "base_uri": "https://localhost:8080/"
    },
    "id": "Aq-ehal_VH5Z",
    "outputId": "a8defd91-96ea-4a1c-8474-3a9158537084"
   },
   "outputs": [
    {
     "data": {
      "text/plain": [
       "(208801, 0, 0, 0, 0)"
      ]
     },
     "execution_count": 18,
     "metadata": {},
     "output_type": "execute_result"
    }
   ],
   "source": [
    "train_content_set_1 = []\n",
    "train_labels_set_1 = []\n",
    "train_views_set_1 = []\n",
    "train_users_set_1 = []\n",
    "train_duration_set_1 = []\n",
    "train_hasvid_set_1 = []\n",
    "train_hasimg_set_1 = []\n",
    "train_date_set_1 = []\n",
    "train_content_set_2 = []\n",
    "train_labels_set_2 = []\n",
    "train_views_set_2 = []\n",
    "train_users_set_2 = []\n",
    "train_content_set_3 = []\n",
    "train_labels_set_3 = []\n",
    "train_views_set_3 = []\n",
    "train_content_set_4 = []\n",
    "train_labels_set_4 = []\n",
    "train_views_set_4 = []\n",
    "train_content_set_5 = []\n",
    "train_labels_set_5 = []\n",
    "train_views_set_5 = []\n",
    "train_users_set_5 = []\n",
    "\n",
    "val_content_set_1 = []\n",
    "val_labels_set_1 = []\n",
    "val_views_set_1 = []\n",
    "val_users_set_1 = []\n",
    "val_duration_set_1 = []\n",
    "val_hasvid_set_1 = []\n",
    "val_hasimg_set_1 = []\n",
    "val_date_set_1 = []\n",
    "val_content_set_2 = []\n",
    "val_labels_set_2 = []\n",
    "val_views_set_2 = []\n",
    "val_users_set_2 = []\n",
    "val_content_set_3 = []\n",
    "val_labels_set_3 = []\n",
    "val_views_set_3 = []\n",
    "val_content_set_4 = []\n",
    "val_labels_set_4 = []\n",
    "val_views_set_4 = []\n",
    "val_content_set_5 = []\n",
    "val_labels_set_5 = []\n",
    "val_views_set_5 = []\n",
    "val_users_set_5 = []\n",
    "\n",
    "train_classes = []\n",
    "val_classes = []\n",
    "\n",
    "for i in range(len(train_log_labels)):\n",
    "  if train_log_labels[i] <= LN6L:\n",
    "    train_classes.append(0)\n",
    "    train_content_set_1.append(train_content[i])\n",
    "    train_views_set_1.append(train_views[i])\n",
    "    train_users_set_1.append(train_users[i])\n",
    "    train_labels_set_1.append(train_log_labels[i])\n",
    "    train_duration_set_1.append(train_durations[i])\n",
    "    train_hasvid_set_1.append(train_hasvids[i])\n",
    "    train_hasimg_set_1.append(train_hasimgs[i])\n",
    "    train_date_set_1.append(train_dates[i])\n",
    "  elif train_log_labels[i] > LN100 and train_log_labels[i] <= LN3K5:\n",
    "    train_classes.append(1)\n",
    "    train_content_set_2.append(train_content[i])\n",
    "    train_views_set_2.append(train_views[i])\n",
    "    train_users_set_2.append(train_users[i])\n",
    "    train_labels_set_2.append(train_log_labels[i])\n",
    "  # elif train_log_labels[i] > 4.6 and train_log_labels[i] <= 6.9:\n",
    "  #   train_classes.append(2)\n",
    "  #   train_content_set_3.append(train_content[i])\n",
    "  #   train_labels_set_3.append(train_log_labels[i])\n",
    "  # elif train_log_labels[i] > 6.9 and train_log_labels[i] <= 9.2:\n",
    "  #   train_classes.append(3)\n",
    "  #   train_content_set_4.append(train_content[i])\n",
    "  #   train_labels_set_4.append(train_log_labels[i])\n",
    "  else:\n",
    "    train_classes.append(4)\n",
    "    train_content_set_5.append(train_content[i])\n",
    "    train_views_set_5.append(train_views[i])\n",
    "    train_users_set_5.append(train_users[i])\n",
    "    train_labels_set_5.append(train_log_labels[i])\n",
    "\n",
    "for i in range(len(val_log_labels)):\n",
    "  if val_log_labels[i] <= LN6L:\n",
    "    val_classes.append(0)\n",
    "    val_content_set_1.append(val_content[i])\n",
    "    val_views_set_1.append(val_views[i])\n",
    "    val_users_set_1.append(val_users[i])\n",
    "    val_labels_set_1.append(val_log_labels[i])\n",
    "    val_duration_set_1.append(val_durations[i])\n",
    "    val_hasvid_set_1.append(val_hasvids[i])\n",
    "    val_hasimg_set_1.append(val_hasimgs[i])\n",
    "    val_date_set_1.append(val_dates[i])\n",
    "  elif val_log_labels[i] > LN100 and val_log_labels[i] <= LN3K5:\n",
    "    val_classes.append(1)\n",
    "    val_content_set_2.append(val_content[i])\n",
    "    val_views_set_2.append(val_views[i])\n",
    "    val_users_set_2.append(val_users[i])\n",
    "    val_labels_set_2.append(val_log_labels[i])\n",
    "  # elif val_log_labels[i] > 4.6 and val_log_labels[i] <= 6.9:\n",
    "  #   val_classes.append(2)\n",
    "  #   val_content_set_3.append(val_content[i])\n",
    "  #   val_labels_set_3.append(val_log_labels[i])\n",
    "  # elif val_log_labels[i] > 6.9 and val_log_labels[i] <= 9.2:\n",
    "  #   val_classes.append(3)\n",
    "  #   val_content_set_4.append(val_content[i])\n",
    "  #   val_labels_set_4.append(val_log_labels[i])\n",
    "  else:\n",
    "    val_classes.append(4)\n",
    "    val_content_set_5.append(val_content[i])\n",
    "    val_views_set_5.append(val_views[i])\n",
    "    val_users_set_5.append(val_users[i])\n",
    "    val_labels_set_5.append(val_log_labels[i])\n",
    "\n",
    "len(train_labels_set_1), len(train_labels_set_2), len(train_labels_set_3), len(train_labels_set_4), len(train_labels_set_5)"
   ]
  },
  {
   "cell_type": "code",
   "execution_count": 19,
   "metadata": {
    "colab": {
     "base_uri": "https://localhost:8080/"
    },
    "id": "xWZSGYEvW5Rc",
    "outputId": "b09a32a0-4c16-41d6-fe0a-197e2e3d9fb2"
   },
   "outputs": [
    {
     "data": {
      "text/plain": [
       "(29927, 0, 0, 0, 0)"
      ]
     },
     "execution_count": 19,
     "metadata": {},
     "output_type": "execute_result"
    }
   ],
   "source": [
    "len(val_labels_set_1), len(val_labels_set_2), len(val_labels_set_3), len(val_labels_set_4), len(val_labels_set_5)"
   ]
  },
  {
   "cell_type": "code",
   "execution_count": 20,
   "metadata": {
    "colab": {
     "base_uri": "https://localhost:8080/"
    },
    "id": "F_zDuy5yqKBO",
    "outputId": "ef00b88f-6f8d-4b32-c9a2-da958a4616aa"
   },
   "outputs": [],
   "source": [
    "# torch.max(sinusoidal_positional_embedding(52636,768)),torch.min(sinusoidal_positional_embedding(52636,768))"
   ]
  },
  {
   "cell_type": "code",
   "execution_count": 21,
   "metadata": {
    "colab": {
     "base_uri": "https://localhost:8080/"
    },
    "id": "oF1fJCBcPQgW",
    "outputId": "b42fcd6c-4280-41a1-97f9-274a3d8228a8"
   },
   "outputs": [
    {
     "name": "stdout",
     "output_type": "stream",
     "text": [
      "Requirement already satisfied: emoji==0.6.0 in /opt/conda/lib/python3.10/site-packages (0.6.0)\n",
      "\u001b[33mWARNING: Running pip as the 'root' user can result in broken permissions and conflicting behaviour with the system package manager. It is recommended to use a virtual environment instead: https://pip.pypa.io/warnings/venv\u001b[0m\u001b[33m\n",
      "\u001b[0m"
     ]
    }
   ],
   "source": [
    "import torch\n",
    "# from transformers import RobertaTokenizer, RobertaForSequenceClassification\n",
    "from transformers import AutoTokenizer, AutoModel, AutoModelForSequenceClassification\n",
    "from torch.utils.data import DataLoader, Dataset\n",
    "from sklearn.model_selection import train_test_split\n",
    "import torch.nn as nn\n",
    "import torch.optim as optim\n",
    "from tqdm import tqdm\n",
    "!pip3 install emoji==0.6.0"
   ]
  },
  {
   "cell_type": "code",
   "execution_count": 22,
   "metadata": {},
   "outputs": [],
   "source": [
    "def number_to_words(number):\n",
    "    if 0 <= number <= 999999:\n",
    "        ones = [\"\", \"One\", \"Two\", \"Three\", \"Four\", \"Five\", \"Six\", \"Seven\", \"Eight\", \"Nine\"]\n",
    "        teens = [\"\", \"Eleven\", \"Twelve\", \"Thirteen\", \"Fourteen\", \"Fifteen\", \"Sixteen\", \"Seventeen\", \"Eighteen\", \"Nineteen\"]\n",
    "        tens = [\"\", \"Ten\", \"Twenty\", \"Thirty\", \"Forty\", \"Fifty\", \"Sixty\", \"Seventy\", \"Eighty\", \"Ninety\"]\n",
    "\n",
    "        def convert_below_thousand(num):\n",
    "            if num == 0:\n",
    "                return \"\"\n",
    "            elif num < 10:\n",
    "                return ones[num]\n",
    "            elif num==10:\n",
    "                return \"Ten\"\n",
    "            elif num < 20:\n",
    "                return teens[num - 10]\n",
    "            elif num < 100:\n",
    "                return tens[num // 10] + \" \" + convert_below_thousand(num % 10)\n",
    "            else:\n",
    "                return ones[num // 100] + \" Hundred \" + convert_below_thousand(num % 100)\n",
    "\n",
    "        if number == 0:\n",
    "            return \"Zero\"\n",
    "        else:\n",
    "            result = \"\"\n",
    "            if number // 1000 > 0:\n",
    "                result += convert_below_thousand(number // 1000) + \" Thousand \"\n",
    "            result += convert_below_thousand(number % 1000)\n",
    "            return result.strip()\n",
    "\n",
    "    else:\n",
    "        return \"Number out of range (0-500,000)\""
   ]
  },
  {
   "cell_type": "code",
   "execution_count": 24,
   "metadata": {},
   "outputs": [
    {
     "name": "stdout",
     "output_type": "stream",
     "text": [
      "Enter a number between 0 and 999,999:  1223\n"
     ]
    },
    {
     "name": "stdout",
     "output_type": "stream",
     "text": [
      "One Thousand Two Hundred Twenty Three\n"
     ]
    }
   ],
   "source": [
    "# # Test the function\n",
    "number = int(input(\"Enter a number between 0 and 999,999: \"))\n",
    "result = number_to_words(number)\n",
    "print(result)"
   ]
  },
  {
   "cell_type": "code",
   "execution_count": 25,
   "metadata": {},
   "outputs": [],
   "source": [
    "def construct_tweet_prompt(has_video, has_image, text, view, user, date):\n",
    "    prompt = \"The tweet content is \\\"\" + text + \"\\\"\"\n",
    "\n",
    "    if has_video:\n",
    "        # print(has_video)\n",
    "        try:\n",
    "            prompt += \" with the view count of the video being \" + number_to_words(int(view)) + \"(\" + view + \")\"\n",
    "        except:\n",
    "            pass\n",
    "    elif has_image:\n",
    "        prompt += \" and it includes an image\"\n",
    "\n",
    "    prompt += \"!! The tweet is posted by \" + user + \". \"\n",
    "\n",
    "    date_obj = datetime.strptime(date, '%Y-%m-%d %H:%M:%S')\n",
    "    date_in_words = date_obj.strftime('%A, %B %d, %Y %I:%M %p')\n",
    "    prompt += \"It was posted on \" + date_in_words + \". How many likes did the tweet get?\"\n",
    "\n",
    "    return prompt"
   ]
  },
  {
   "cell_type": "code",
   "execution_count": 26,
   "metadata": {},
   "outputs": [
    {
     "name": "stdout",
     "output_type": "stream",
     "text": [
      "The tweet content is \"Exciting tweet content\" with the view count of the video being Ten Thousand Two Hundred Forty(10240)!! The tweet is posted by user1. It was posted on Sunday, January 15, 2023 12:30 PM. How many likes did the tweet get?\n"
     ]
    }
   ],
   "source": [
    "# Example usage:\n",
    "has_video = True\n",
    "has_image = False\n",
    "text = \"Exciting tweet content\"\n",
    "views = '10240'\n",
    "users = \"user1\"\n",
    "date = \"2023-01-15 12:30:00\"\n",
    "\n",
    "prompt = construct_tweet_prompt(has_video, has_image, text, views, users, date)\n",
    "print(prompt)"
   ]
  },
  {
   "cell_type": "code",
   "execution_count": 27,
   "metadata": {
    "id": "r_Or8ayJNYb-"
   },
   "outputs": [],
   "source": [
    "class CustomRegressionDataset(Dataset):\n",
    "    def __init__(self, dates, has_videos, has_images, texts, views, users, labels, tokenizer, max_length):\n",
    "        self.texts = texts\n",
    "        self.views = views\n",
    "        self.users = users\n",
    "        self.labels = labels\n",
    "        self.tokenizer = tokenizer\n",
    "        self.max_length = max_length\n",
    "        self.has_videos = has_videos\n",
    "        self.has_images = has_images\n",
    "        self.dates = dates\n",
    "\n",
    "    def __len__(self):\n",
    "        return len(self.texts)\n",
    "\n",
    "    def __getitem__(self, idx):\n",
    "        # print(idx)\n",
    "        text = construct_tweet_prompt(self.has_videos[idx], self.has_images[idx], self.texts[idx], self.views[idx], self.users[idx], self.dates[idx])\n",
    "        # print(text)\n",
    "        label = float(self.labels[idx])\n",
    "        encoding = self.tokenizer.encode_plus(\n",
    "            text,\n",
    "            add_special_tokens=True,\n",
    "            max_length=self.max_length,\n",
    "            return_token_type_ids=False,\n",
    "            padding='max_length',\n",
    "            truncation=True,\n",
    "            return_attention_mask=True,\n",
    "            return_tensors='pt'\n",
    "        )\n",
    "        return {\n",
    "            'input_ids': encoding['input_ids'].flatten(),\n",
    "            'attention_mask': encoding['attention_mask'].flatten(),\n",
    "            'labels': torch.tensor(label, dtype=torch.float32)\n",
    "        }"
   ]
  },
  {
   "cell_type": "code",
   "execution_count": 28,
   "metadata": {
    "scrolled": true
   },
   "outputs": [
    {
     "name": "stderr",
     "output_type": "stream",
     "text": [
      "Some weights of RobertaForSequenceClassification were not initialized from the model checkpoint at vinai/bertweet-base and are newly initialized: ['classifier.out_proj.weight', 'classifier.dense.weight', 'classifier.dense.bias', 'classifier.out_proj.bias']\n",
      "You should probably TRAIN this model on a down-stream task to be able to use it for predictions and inference.\n"
     ]
    },
    {
     "data": {
      "text/plain": [
       "RobertaForSequenceClassification(\n",
       "  (roberta): RobertaModel(\n",
       "    (embeddings): RobertaEmbeddings(\n",
       "      (word_embeddings): Embedding(64001, 768, padding_idx=1)\n",
       "      (position_embeddings): Embedding(130, 768, padding_idx=1)\n",
       "      (token_type_embeddings): Embedding(1, 768)\n",
       "      (LayerNorm): LayerNorm((768,), eps=1e-05, elementwise_affine=True)\n",
       "      (dropout): Dropout(p=0.1, inplace=False)\n",
       "    )\n",
       "    (encoder): RobertaEncoder(\n",
       "      (layer): ModuleList(\n",
       "        (0-11): 12 x RobertaLayer(\n",
       "          (attention): RobertaAttention(\n",
       "            (self): RobertaSelfAttention(\n",
       "              (query): Linear(in_features=768, out_features=768, bias=True)\n",
       "              (key): Linear(in_features=768, out_features=768, bias=True)\n",
       "              (value): Linear(in_features=768, out_features=768, bias=True)\n",
       "              (dropout): Dropout(p=0.1, inplace=False)\n",
       "            )\n",
       "            (output): RobertaSelfOutput(\n",
       "              (dense): Linear(in_features=768, out_features=768, bias=True)\n",
       "              (LayerNorm): LayerNorm((768,), eps=1e-05, elementwise_affine=True)\n",
       "              (dropout): Dropout(p=0.1, inplace=False)\n",
       "            )\n",
       "          )\n",
       "          (intermediate): RobertaIntermediate(\n",
       "            (dense): Linear(in_features=768, out_features=3072, bias=True)\n",
       "            (intermediate_act_fn): GELUActivation()\n",
       "          )\n",
       "          (output): RobertaOutput(\n",
       "            (dense): Linear(in_features=3072, out_features=768, bias=True)\n",
       "            (LayerNorm): LayerNorm((768,), eps=1e-05, elementwise_affine=True)\n",
       "            (dropout): Dropout(p=0.1, inplace=False)\n",
       "          )\n",
       "        )\n",
       "      )\n",
       "    )\n",
       "  )\n",
       "  (classifier): RobertaClassificationHead(\n",
       "    (dense): Linear(in_features=768, out_features=768, bias=True)\n",
       "    (dropout): Dropout(p=0.1, inplace=False)\n",
       "    (out_proj): Linear(in_features=768, out_features=1, bias=True)\n",
       "  )\n",
       ")"
      ]
     },
     "execution_count": 28,
     "metadata": {},
     "output_type": "execute_result"
    }
   ],
   "source": [
    "tokenizer = AutoTokenizer.from_pretrained('vinai/bertweet-base')\n",
    "model = AutoModelForSequenceClassification.from_pretrained('vinai/bertweet-base', num_labels=1)\n",
    "\n",
    "criterion = nn.MSELoss()\n",
    "\n",
    "train_texts = train_content_set_1\n",
    "val_texts = val_content_set_1\n",
    "train_views = train_views_set_1\n",
    "val_views = val_views_set_1\n",
    "train_users = train_users_set_1\n",
    "val_users = val_users_set_1\n",
    "train_labels = train_labels_set_1\n",
    "val_labels = val_labels_set_1\n",
    "train_hasvids = train_hasvid_set_1\n",
    "val_hasvids = val_hasvid_set_1\n",
    "train_hasimgs = train_hasimg_set_1\n",
    "val_hasimgs = val_hasimg_set_1\n",
    "train_dates = train_date_set_1\n",
    "val_dates = val_date_set_1\n",
    "\n",
    "train_dataset = CustomRegressionDataset(train_dates, train_hasvids, train_hasimgs, train_texts, train_views, train_users, train_labels, tokenizer, max_length=128)\n",
    "val_dataset = CustomRegressionDataset(val_dates, val_hasvids, val_hasimgs, val_texts, val_views, val_users, val_labels, tokenizer, max_length=128)\n",
    "\n",
    "train_loader = DataLoader(train_dataset, batch_size=32, shuffle=True)\n",
    "val_loader = DataLoader(val_dataset, batch_size=32)\n",
    "\n",
    "device = torch.device('cuda' if torch.cuda.is_available() else 'cpu')\n",
    "model.to(device)"
   ]
  },
  {
   "cell_type": "code",
   "execution_count": 29,
   "metadata": {
    "colab": {
     "base_uri": "https://localhost:8080/",
     "height": 462
    },
    "id": "CW4NnNmadZgY",
    "outputId": "b1abc928-4060-4745-ac62-8e4b36e9d0a1",
    "scrolled": true
   },
   "outputs": [
    {
     "name": "stderr",
     "output_type": "stream",
     "text": [
      "Epoch 1/1: 100%|██████████| 6526/6526 [24:06<00:00,  4.51batch/s, loss=1.13]"
     ]
    },
    {
     "name": "stdout",
     "output_type": "stream",
     "text": [
      "Epoch [1/1] Loss: 1.1261089142920564\n"
     ]
    },
    {
     "name": "stderr",
     "output_type": "stream",
     "text": [
      "\n"
     ]
    }
   ],
   "source": [
    "num_epochs = 1\n",
    "optimizer = optim.Adam(model.parameters(), lr=5e-4)\n",
    "# scheduler = StepLR(optimizer, step_size=456, gamma=1/3)\n",
    "\n",
    "for epoch in range(num_epochs):\n",
    "    model.train()\n",
    "    running_loss = 0.0\n",
    "    with tqdm(total=len(train_loader), desc=f\"Epoch {epoch + 1}/{num_epochs}\", unit='batch') as progress_bar:\n",
    "        for batch in train_loader:\n",
    "            input_ids = batch['input_ids'].to(device)\n",
    "            attention_mask = batch['attention_mask'].to(device)\n",
    "            labels = batch['labels'].to(device)\n",
    "\n",
    "            optimizer.zero_grad()\n",
    "\n",
    "            outputs = model(input_ids=input_ids, attention_mask=attention_mask, labels=labels)\n",
    "            loss = outputs.loss\n",
    "\n",
    "            loss.backward()\n",
    "            optimizer.step()\n",
    "            # scheduler.step()\n",
    "\n",
    "            running_loss += loss.item()\n",
    "\n",
    "            progress_bar.set_postfix({'loss': running_loss / (progress_bar.n + 1)})\n",
    "            progress_bar.update(1)\n",
    "\n",
    "    epoch_loss = running_loss / len(train_loader)\n",
    "    print(f\"Epoch [{epoch + 1}/{num_epochs}] Loss: {epoch_loss}\")"
   ]
  },
  {
   "cell_type": "code",
   "execution_count": 30,
   "metadata": {
    "scrolled": true
   },
   "outputs": [
    {
     "name": "stdout",
     "output_type": "stream",
     "text": [
      "Validation Loss: 0.5873838986835291\n"
     ]
    }
   ],
   "source": [
    "model.eval()\n",
    "val_loss = 0.0\n",
    "with torch.no_grad():\n",
    "    for batch in val_loader:\n",
    "        input_ids = batch['input_ids'].to(device)\n",
    "        attention_mask = batch['attention_mask'].to(device)\n",
    "        labels = batch['labels'].to(device)\n",
    "\n",
    "        outputs = model(input_ids=input_ids, attention_mask=attention_mask, labels=labels)\n",
    "        logits = outputs.logits\n",
    "        loss = outputs.loss\n",
    "        val_loss += loss.item()\n",
    "\n",
    "average_val_loss = val_loss / len(val_loader)\n",
    "print(f\"Validation Loss: {average_val_loss}\")"
   ]
  },
  {
   "cell_type": "code",
   "execution_count": 31,
   "metadata": {
    "id": "CeOaTHFWfoSP"
   },
   "outputs": [],
   "source": [
    "torch.save(model, 'model_0_6L_content+views+username+imgvid+date.pth')"
   ]
  },
  {
   "cell_type": "markdown",
   "metadata": {},
   "source": [
    "## Model Testing"
   ]
  },
  {
   "cell_type": "code",
   "execution_count": 32,
   "metadata": {},
   "outputs": [],
   "source": [
    "tokenizer = AutoTokenizer.from_pretrained('vinai/bertweet-base')\n",
    "\n",
    "criterion = nn.MSELoss()\n",
    "\n",
    "train_texts = train_content_set_1\n",
    "val_texts = val_content_set_1\n",
    "train_views = train_views_set_1\n",
    "val_views = val_views_set_1\n",
    "train_users = train_users_set_1\n",
    "val_users = val_users_set_1\n",
    "train_labels = train_labels_set_1\n",
    "val_labels = val_labels_set_1\n",
    "train_hasvids = train_hasvid_set_1\n",
    "val_hasvids = val_hasvid_set_1\n",
    "train_hasimgs = train_hasimg_set_1\n",
    "val_hasimgs = val_hasimg_set_1\n",
    "train_dates = train_date_set_1\n",
    "val_dates = val_date_set_1\n",
    "\n",
    "train_dataset = CustomRegressionDataset(train_dates, train_hasvids, train_hasimgs, train_texts, train_views, train_users, train_labels, tokenizer, max_length=128)\n",
    "val_dataset = CustomRegressionDataset(val_dates, val_hasvids, val_hasimgs, val_texts, val_views, val_users, val_labels, tokenizer, max_length=128)\n",
    "\n",
    "train_loader = DataLoader(train_dataset, batch_size=32, shuffle=True)\n",
    "val_loader = DataLoader(val_dataset, batch_size=32)\n",
    "\n",
    "device = torch.device('cuda' if torch.cuda.is_available() else 'cpu')"
   ]
  },
  {
   "cell_type": "code",
   "execution_count": 33,
   "metadata": {
    "id": "r-Oxy0mKf8r8"
   },
   "outputs": [],
   "source": [
    "model = torch.load('model_0_6L_content+views+username+imgvid+date.pth')"
   ]
  },
  {
   "cell_type": "code",
   "execution_count": 34,
   "metadata": {
    "id": "EfNCq9Mj4Hkc",
    "scrolled": true
   },
   "outputs": [
    {
     "name": "stdout",
     "output_type": "stream",
     "text": [
      "Validation Loss: 0.018371080601723638\n"
     ]
    }
   ],
   "source": [
    "model.to(device)\n",
    "\n",
    "cnt = 0\n",
    "ans = []\n",
    "labs = []\n",
    "batch_order=[]\n",
    "\n",
    "model.eval()\n",
    "val_loss = 0.0\n",
    "with torch.no_grad():\n",
    "    for i,batch in enumerate(val_loader):\n",
    "        cnt += 32\n",
    "        input_ids = batch['input_ids'].to(device)\n",
    "        attention_mask = batch['attention_mask'].to(device)\n",
    "        labels = batch['labels'].to(device)\n",
    "        outputs = model(input_ids=input_ids, attention_mask=attention_mask, labels=labels)\n",
    "        ans.extend(outputs.logits)\n",
    "        labs.extend(labels)\n",
    "        loss = outputs.loss\n",
    "        # print(labels)\n",
    "        # print(loss.item())\n",
    "        val_loss += loss.item()\n",
    "# print(cnt)\n",
    "\n",
    "\n",
    "average_val_loss = val_loss / len(val_dataset)\n",
    "print(f\"Validation Loss: {average_val_loss}\")"
   ]
  },
  {
   "cell_type": "code",
   "execution_count": 35,
   "metadata": {},
   "outputs": [
    {
     "data": {
      "text/plain": [
       "array([8.90133995e-02, 1.16340901e+03, 8.73579097e+01, ...,\n",
       "       7.37649152e+00, 9.59673841e+01, 3.37605255e+01])"
      ]
     },
     "execution_count": 35,
     "metadata": {},
     "output_type": "execute_result"
    }
   ],
   "source": [
    "predicted_arr = []\n",
    "for i in ans:\n",
    "  predicted_arr.append(math.exp(i[0])-1)\n",
    "\n",
    "fin_preds = np.array(predicted_arr)\n",
    "fin_preds"
   ]
  },
  {
   "cell_type": "code",
   "execution_count": 36,
   "metadata": {},
   "outputs": [
    {
     "data": {
      "text/plain": [
       "array([  0.        , 672.00008294,  77.9999886 , ...,  15.99999975,\n",
       "       166.00000321, 114.99999024])"
      ]
     },
     "execution_count": 36,
     "metadata": {},
     "output_type": "execute_result"
    }
   ],
   "source": [
    "fin_labels = np.exp([i.item() for i in labs])-1\n",
    "fin_labels"
   ]
  },
  {
   "cell_type": "code",
   "execution_count": 37,
   "metadata": {},
   "outputs": [
    {
     "name": "stdout",
     "output_type": "stream",
     "text": [
      "RMSE:  4030.9784310615664\n"
     ]
    }
   ],
   "source": [
    "mse = mean_squared_error(fin_labels,fin_preds)\n",
    "rmse = math.sqrt(mse)\n",
    "print(\"RMSE: \", rmse)"
   ]
  },
  {
   "cell_type": "code",
   "execution_count": 44,
   "metadata": {},
   "outputs": [
    {
     "name": "stdout",
     "output_type": "stream",
     "text": [
      "R2:  0.17455756900793695\n"
     ]
    }
   ],
   "source": [
    "r2 = r2_score(fin_labels,fin_preds)\n",
    "print(\"R2: \",r2)"
   ]
  },
  {
   "cell_type": "code",
   "execution_count": 91,
   "metadata": {},
   "outputs": [
    {
     "name": "stdout",
     "output_type": "stream",
     "text": [
      "RMSE:  40.60199270641013\n",
      "R2:  -2.03986869363754\n"
     ]
    }
   ],
   "source": [
    "sorted_indices = np.argsort(fin_labels)\n",
    "si = sorted_indices.tolist()\n",
    "\n",
    "sorted_fin_labels = fin_labels[si]\n",
    "sorted_fin_preds = fin_preds[si]\n",
    "\n",
    "up_to = 15000\n",
    "\n",
    "mse = mean_squared_error(sorted_fin_labels[:up_to],sorted_fin_preds[:up_to])\n",
    "rmse = math.sqrt(mse)\n",
    "print(\"RMSE: \", rmse)\n",
    "\n",
    "r2 = r2_score(sorted_fin_labels[:up_to],sorted_fin_preds[:up_to])\n",
    "print(\"R2: \",r2)"
   ]
  },
  {
   "cell_type": "code",
   "execution_count": 89,
   "metadata": {},
   "outputs": [
    {
     "data": {
      "text/plain": [
       "<matplotlib.legend.Legend at 0x7f36832ee5c0>"
      ]
     },
     "execution_count": 89,
     "metadata": {},
     "output_type": "execute_result"
    },
    {
     "data": {
      "image/png": "[encoded data removed]",
      "text/plain": [
       "<Figure size 640x480 with 1 Axes>"
      ]
     },
     "metadata": {},
     "output_type": "display_data"
    }
   ],
   "source": [
    "sorted_indices = np.argsort(fin_labels)\n",
    "si = sorted_indices.tolist()\n",
    "# Sort array1 in increasing order\n",
    "sorted_fin_labels = fin_labels[si]\n",
    "\n",
    "# Use the sorted indices to rearrange array2\n",
    "sorted_fin_preds = fin_preds[si]\n",
    "\n",
    "interval=100\n",
    "\n",
    "num_intervals = len(sorted_fin_preds) // interval\n",
    "mean_values = np.zeros(num_intervals)\n",
    "for i in range(num_intervals):\n",
    "    start_index = i * interval\n",
    "    end_index = (i + 1) * interval\n",
    "    interval_values = sorted_fin_preds[start_index:end_index]\n",
    "    mean_values[i] = np.mean(interval_values)\n",
    "x_axis_means = np.arange(0, len(sorted_fin_preds), interval)[:num_intervals]\n",
    "\n",
    "plt.plot(sorted_fin_labels)\n",
    "plt.scatter(range(len(sorted_fin_preds)),sorted_fin_preds,c='yellow',s=2)\n",
    "plt.plot(x_axis_means, mean_values, linestyle='-', color='green')\n",
    "plt.legend(['Labels','Preds','Mean preds interval='+str(interval)])"
   ]
  },
  {
   "cell_type": "code",
   "execution_count": 46,
   "metadata": {},
   "outputs": [
    {
     "data": {
      "image/png": "[encoded data removed]",
      "text/plain": [
       "<Figure size 640x480 with 1 Axes>"
      ]
     },
     "metadata": {},
     "output_type": "display_data"
    }
   ],
   "source": [
    "fin_preds = np.array(fin_preds)\n",
    "\n",
    "# Sort predicted values in increasing order\n",
    "sorted_indices = np.argsort(fin_labels).tolist()\n",
    "\n",
    "fin_preds = fin_preds[sorted_indices]\n",
    "fin_labels = fin_labels[sorted_indices]\n",
    "\n",
    "# Create a scatter plot\n",
    "\n",
    "plt.scatter(range(len(fin_preds)), fin_preds, label='Sorted Preds')\n",
    "plt.scatter(range(len(fin_labels)), fin_labels, label='Actual')\n",
    "# Add labels and legend\n",
    "plt.xlabel('Sample Index')\n",
    "plt.ylabel('Sorted Predicted Values')\n",
    "plt.legend()\n",
    "\n",
    "# Show the plot\n",
    "plt.show()"
   ]
  },
  {
   "cell_type": "code",
   "execution_count": 39,
   "metadata": {},
   "outputs": [],
   "source": [
    "sorted_indices = np.argsort(fin_labels)"
   ]
  },
  {
   "cell_type": "code",
   "execution_count": 40,
   "metadata": {},
   "outputs": [],
   "source": [
    "si = sorted_indices.tolist()"
   ]
  },
  {
   "cell_type": "code",
   "execution_count": 41,
   "metadata": {},
   "outputs": [
    {
     "data": {
      "text/plain": [
       "<matplotlib.legend.Legend at 0x7f67e30656f0>"
      ]
     },
     "execution_count": 41,
     "metadata": {},
     "output_type": "execute_result"
    },
    {
     "data": {
      "image/png": "[encoded data removed]",
      "text/plain": [
       "<Figure size 640x480 with 1 Axes>"
      ]
     },
     "metadata": {},
     "output_type": "display_data"
    }
   ],
   "source": [
    "# Sort array1 in increasing order\n",
    "sorted_fin_labels = fin_labels[si]\n",
    "\n",
    "# Use the sorted indices to rearrange array2\n",
    "sorted_fin_preds = fin_preds[si]\n",
    "\n",
    "plt.plot(sorted_fin_labels)\n",
    "plt.plot(sorted_fin_preds)\n",
    "plt.legend(['Labels','Preds'])"
   ]
  },
  {
   "cell_type": "code",
   "execution_count": 45,
   "metadata": {},
   "outputs": [
    {
     "data": {
      "image/png": "[encoded data removed]",
      "text/plain": [
       "<Figure size 640x480 with 1 Axes>"
      ]
     },
     "metadata": {},
     "output_type": "display_data"
    }
   ],
   "source": [
    "sns.kdeplot(sorted_fin_labels, fill=True)\n",
    "plt.title(\"Kernel Density Estimation (KDE) Plot\")\n",
    "plt.xlabel(\"Value\")\n",
    "plt.ylabel(\"Density\")\n",
    "plt.show()"
   ]
  },
  {
   "cell_type": "code",
   "execution_count": 53,
   "metadata": {},
   "outputs": [
    {
     "name": "stdout",
     "output_type": "stream",
     "text": [
      "Total Mass (area under the curve): 0.8753728129529419\n"
     ]
    },
    {
     "data": {
      "image/png": "[encoded data removed]",
      "text/plain": [
       "<Figure size 640x480 with 1 Axes>"
      ]
     },
     "metadata": {},
     "output_type": "display_data"
    }
   ],
   "source": [
    "sample_data = sorted_fin_labels\n",
    "kde = gaussian_kde(sample_data)\n",
    "\n",
    "x_range = np.linspace(min(sample_data), max(sample_data), 1000)\n",
    "\n",
    "mass = np.trapz(kde(x_range), x_range)\n",
    "\n",
    "plt.fill_between(x_range, 0, kde(x_range), where=(x_range <= max(x_range)), interpolate=True, alpha=0.3, color='orange')\n",
    "\n",
    "print(\"Total Mass (area under the curve):\", mass)\n",
    "\n",
    "plt.title(\"Kernel Density Estimation (KDE) Plot with Mass Marked\")\n",
    "plt.xlabel(\"Value\")\n",
    "plt.ylabel(\"Density\")\n",
    "plt.show()"
   ]
  },
  {
   "cell_type": "code",
   "execution_count": 109,
   "metadata": {},
   "outputs": [
    {
     "data": {
      "image/png": "[encoded data removed]",
      "text/plain": [
       "<Figure size 640x480 with 1 Axes>"
      ]
     },
     "metadata": {},
     "output_type": "display_data"
    }
   ],
   "source": [
    "sample_data = sorted_fin_labels\n",
    "\n",
    "# Create a KDE plot with a smaller bandwidth for smoothing\n",
    "kde = sns.kdeplot(sample_data, fill=True, bw_adjust=1)\n",
    "kde = sns.kdeplot(sample_data, fill=True, bw_adjust=0.5)\n",
    "kde = sns.kdeplot(sample_data, fill=True, bw_adjust=0.25)\n",
    "kde = sns.kdeplot(sample_data, fill=True, bw_adjust=0.1)\n",
    "\n",
    "plt.title(\"Smoothed Kernel Density Estimation (KDE) Plot\")\n",
    "plt.xlabel(\"Value\")\n",
    "plt.ylabel(\"Density\")\n",
    "plt.show()"
   ]
  },
  {
   "cell_type": "markdown",
   "metadata": {},
   "source": [
    "## Misc"
   ]
  },
  {
   "cell_type": "code",
   "execution_count": null,
   "metadata": {
    "colab": {
     "base_uri": "https://localhost:8080/"
    },
    "id": "7oXk5gK3gBTW",
    "outputId": "a81c96c5-7fe0-4787-ca97-213fdc241e44"
   },
   "outputs": [
    {
     "name": "stdout",
     "output_type": "stream",
     "text": [
      "Validation Loss: 130.65498633501005\n"
     ]
    }
   ],
   "source": [
    "model_2.eval()\n",
    "val_loss = 0.0\n",
    "with torch.no_grad():\n",
    "    for batch in val_loader:\n",
    "        input_ids = batch['input_ids'].to(device)\n",
    "        attention_mask = batch['attention_mask'].to(device)\n",
    "        labels = batch['labels'].to(device)\n",
    "\n",
    "        outputs = model_2(input_ids=input_ids, attention_mask=attention_mask, labels=labels)\n",
    "        loss = outputs.loss\n",
    "\n",
    "        val_loss += loss.item()\n",
    "\n",
    "average_val_loss = val_loss / len(val_loader)\n",
    "print(f\"Validation Loss: {average_val_loss}\")"
   ]
  },
  {
   "cell_type": "code",
   "execution_count": null,
   "metadata": {
    "colab": {
     "base_uri": "https://localhost:8080/",
     "height": 124
    },
    "id": "ajICBYLgrauU",
    "outputId": "bbe65316-2a8a-4ba9-ad6b-9e8767ca673a"
   },
   "outputs": [
    {
     "data": {
      "text/html": [
       "<style>#sk-container-id-3 {color: black;background-color: white;}#sk-container-id-3 pre{padding: 0;}#sk-container-id-3 div.sk-toggleable {background-color: white;}#sk-container-id-3 label.sk-toggleable__label {cursor: pointer;display: block;width: 100%;margin-bottom: 0;padding: 0.3em;box-sizing: border-box;text-align: center;}#sk-container-id-3 label.sk-toggleable__label-arrow:before {content: \"▸\";float: left;margin-right: 0.25em;color: #696969;}#sk-container-id-3 label.sk-toggleable__label-arrow:hover:before {color: black;}#sk-container-id-3 div.sk-estimator:hover label.sk-toggleable__label-arrow:before {color: black;}#sk-container-id-3 div.sk-toggleable__content {max-height: 0;max-width: 0;overflow: hidden;text-align: left;background-color: #f0f8ff;}#sk-container-id-3 div.sk-toggleable__content pre {margin: 0.2em;color: black;border-radius: 0.25em;background-color: #f0f8ff;}#sk-container-id-3 input.sk-toggleable__control:checked~div.sk-toggleable__content {max-height: 200px;max-width: 100%;overflow: auto;}#sk-container-id-3 input.sk-toggleable__control:checked~label.sk-toggleable__label-arrow:before {content: \"▾\";}#sk-container-id-3 div.sk-estimator input.sk-toggleable__control:checked~label.sk-toggleable__label {background-color: #d4ebff;}#sk-container-id-3 div.sk-label input.sk-toggleable__control:checked~label.sk-toggleable__label {background-color: #d4ebff;}#sk-container-id-3 input.sk-hidden--visually {border: 0;clip: rect(1px 1px 1px 1px);clip: rect(1px, 1px, 1px, 1px);height: 1px;margin: -1px;overflow: hidden;padding: 0;position: absolute;width: 1px;}#sk-container-id-3 div.sk-estimator {font-family: monospace;background-color: #f0f8ff;border: 1px dotted black;border-radius: 0.25em;box-sizing: border-box;margin-bottom: 0.5em;}#sk-container-id-3 div.sk-estimator:hover {background-color: #d4ebff;}#sk-container-id-3 div.sk-parallel-item::after {content: \"\";width: 100%;border-bottom: 1px solid gray;flex-grow: 1;}#sk-container-id-3 div.sk-label:hover label.sk-toggleable__label {background-color: #d4ebff;}#sk-container-id-3 div.sk-serial::before {content: \"\";position: absolute;border-left: 1px solid gray;box-sizing: border-box;top: 0;bottom: 0;left: 50%;z-index: 0;}#sk-container-id-3 div.sk-serial {display: flex;flex-direction: column;align-items: center;background-color: white;padding-right: 0.2em;padding-left: 0.2em;position: relative;}#sk-container-id-3 div.sk-item {position: relative;z-index: 1;}#sk-container-id-3 div.sk-parallel {display: flex;align-items: stretch;justify-content: center;background-color: white;position: relative;}#sk-container-id-3 div.sk-item::before, #sk-container-id-3 div.sk-parallel-item::before {content: \"\";position: absolute;border-left: 1px solid gray;box-sizing: border-box;top: 0;bottom: 0;left: 50%;z-index: -1;}#sk-container-id-3 div.sk-parallel-item {display: flex;flex-direction: column;z-index: 1;position: relative;background-color: white;}#sk-container-id-3 div.sk-parallel-item:first-child::after {align-self: flex-end;width: 50%;}#sk-container-id-3 div.sk-parallel-item:last-child::after {align-self: flex-start;width: 50%;}#sk-container-id-3 div.sk-parallel-item:only-child::after {width: 0;}#sk-container-id-3 div.sk-dashed-wrapped {border: 1px dashed gray;margin: 0 0.4em 0.5em 0.4em;box-sizing: border-box;padding-bottom: 0.4em;background-color: white;}#sk-container-id-3 div.sk-label label {font-family: monospace;font-weight: bold;display: inline-block;line-height: 1.2em;}#sk-container-id-3 div.sk-label-container {text-align: center;}#sk-container-id-3 div.sk-container {/* jupyter's `normalize.less` sets `[hidden] { display: none; }` but bootstrap.min.css set `[hidden] { display: none !important; }` so we also need the `!important` here to be able to override the default hidden behavior on the sphinx rendered scikit-learn.org. See: https://github.com/scikit-learn/scikit-learn/issues/21755 */display: inline-block !important;position: relative;}#sk-container-id-3 div.sk-text-repr-fallback {display: none;}</style><div id=\"sk-container-id-3\" class=\"sk-top-container\"><div class=\"sk-text-repr-fallback\"><pre>Pipeline(steps=[(&#x27;tfidf&#x27;, TfidfVectorizer()), (&#x27;clf&#x27;, MultinomialNB())])</pre><b>In a Jupyter environment, please rerun this cell to show the HTML representation or trust the notebook. <br />On GitHub, the HTML representation is unable to render, please try loading this page with nbviewer.org.</b></div><div class=\"sk-container\" hidden><div class=\"sk-item sk-dashed-wrapped\"><div class=\"sk-label-container\"><div class=\"sk-label sk-toggleable\"><input class=\"sk-toggleable__control sk-hidden--visually\" id=\"sk-estimator-id-7\" type=\"checkbox\" ><label for=\"sk-estimator-id-7\" class=\"sk-toggleable__label sk-toggleable__label-arrow\">Pipeline</label><div class=\"sk-toggleable__content\"><pre>Pipeline(steps=[(&#x27;tfidf&#x27;, TfidfVectorizer()), (&#x27;clf&#x27;, MultinomialNB())])</pre></div></div></div><div class=\"sk-serial\"><div class=\"sk-item\"><div class=\"sk-estimator sk-toggleable\"><input class=\"sk-toggleable__control sk-hidden--visually\" id=\"sk-estimator-id-8\" type=\"checkbox\" ><label for=\"sk-estimator-id-8\" class=\"sk-toggleable__label sk-toggleable__label-arrow\">TfidfVectorizer</label><div class=\"sk-toggleable__content\"><pre>TfidfVectorizer()</pre></div></div></div><div class=\"sk-item\"><div class=\"sk-estimator sk-toggleable\"><input class=\"sk-toggleable__control sk-hidden--visually\" id=\"sk-estimator-id-9\" type=\"checkbox\" ><label for=\"sk-estimator-id-9\" class=\"sk-toggleable__label sk-toggleable__label-arrow\">MultinomialNB</label><div class=\"sk-toggleable__content\"><pre>MultinomialNB()</pre></div></div></div></div></div></div></div>"
      ],
      "text/plain": [
       "Pipeline(steps=[('tfidf', TfidfVectorizer()), ('clf', MultinomialNB())])"
      ]
     },
     "execution_count": 22,
     "metadata": {},
     "output_type": "execute_result"
    }
   ],
   "source": [
    "model_0 = Pipeline([\n",
    "    (\"tfidf\", TfidfVectorizer()),\n",
    "    (\"clf\", MultinomialNB())\n",
    "])\n",
    "\n",
    "model_0.fit(train_features, train_classes)"
   ]
  },
  {
   "cell_type": "code",
   "execution_count": null,
   "metadata": {
    "id": "ZCzAyXBp_pRH"
   },
   "outputs": [],
   "source": [
    "preds = model_0.predict(val_features)"
   ]
  },
  {
   "cell_type": "code",
   "execution_count": null,
   "metadata": {
    "id": "ngpg708JCPWk"
   },
   "outputs": [],
   "source": [
    "import torch"
   ]
  },
  {
   "cell_type": "code",
   "execution_count": null,
   "metadata": {
    "id": "JYFD0OfWCOES"
   },
   "outputs": [],
   "source": [
    "model_1 = torch.load('/content/drive/MyDrive/model_1.pth')\n",
    "model_2 = torch.load('/content/drive/MyDrive/model_2.pth')\n",
    "model_3 = torch.load('/content/drive/MyDrive/model_3.pth')"
   ]
  },
  {
   "cell_type": "code",
   "execution_count": null,
   "metadata": {
    "colab": {
     "base_uri": "https://localhost:8080/"
    },
    "id": "MYGJPtOUCDzQ",
    "outputId": "f51b8976-e127-43e2-9f0c-cb63641e6873",
    "scrolled": true
   },
   "outputs": [],
   "source": [
    "tokenizer = RobertaTokenizer.from_pretrained('roberta-base')\n",
    "\n",
    "device = torch.device('cuda' if torch.cuda.is_available() else 'cpu')\n",
    "model_1.to(device)\n",
    "model_2.to(device)\n",
    "model_3.to(device)\n",
    "\n",
    "model_1.eval()\n",
    "model_2.eval()\n",
    "model_3.eval()\n",
    "\n",
    "class CustomRegressionDataset(Dataset):\n",
    "    def __init__(self, texts, labels, tokenizer, max_length):\n",
    "        self.texts = texts\n",
    "        self.labels = labels\n",
    "        self.tokenizer = tokenizer\n",
    "        self.max_length = max_length\n",
    "\n",
    "    def __len__(self):\n",
    "        return len(self.texts)\n",
    "\n",
    "    def __getitem__(self, idx):\n",
    "        text = str(self.texts[idx])\n",
    "        label = float(self.labels[idx])\n",
    "        encoding = self.tokenizer.encode_plus(\n",
    "            text,\n",
    "            add_special_tokens=True,\n",
    "            max_length=self.max_length,\n",
    "            return_token_type_ids=False,\n",
    "            padding='max_length',\n",
    "            truncation=True,\n",
    "            return_attention_mask=True,\n",
    "            return_tensors='pt'\n",
    "        )\n",
    "        return {\n",
    "            'input_ids': encoding['input_ids'].flatten(),\n",
    "            'attention_mask': encoding['attention_mask'].flatten(),\n",
    "            'labels': torch.tensor(label, dtype=torch.float32)\n",
    "        }\n",
    "\n",
    "val_texts = val_content\n",
    "\n",
    "val_dataset = CustomRegressionDataset(val_texts, val_labels, tokenizer, max_length=128)\n",
    "val_loader = DataLoader(val_dataset, batch_size=1)\n",
    "\n",
    "val_loss = 0.0\n",
    "\n",
    "cnt = 0\n",
    "\n",
    "with torch.no_grad():\n",
    "    for batch in val_loader:\n",
    "        input_ids = batch['input_ids'].to(device)\n",
    "        attention_mask = batch['attention_mask'].to(device)\n",
    "        labels = batch['labels'].to(device)\n",
    "\n",
    "        if val_classes[cnt] == 0:\n",
    "          outputs = model_1(input_ids=input_ids, attention_mask=attention_mask, labels=labels)\n",
    "          loss = outputs.loss\n",
    "        if val_classes[cnt] == 1:\n",
    "          outputs = model_2(input_ids=input_ids, attention_mask=attention_mask, labels=labels)\n",
    "          loss = outputs.loss\n",
    "        if val_classes[cnt] == 2:\n",
    "          outputs = model_3(input_ids=input_ids, attention_mask=attention_mask, labels=labels)\n",
    "          loss = outputs.loss\n",
    "\n",
    "        val_loss += loss.item()\n",
    "        cnt += 1\n",
    "        # print(cnt)\n",
    "\n",
    "average_val_loss = val_loss / len(val_loader)\n",
    "print(f\"Validation Loss: {average_val_loss}\")"
   ]
  }
 ],
 "metadata": {
  "accelerator": "GPU",
  "colab": {
   "gpuType": "T4",
   "provenance": []
  },
  "kernelspec": {
   "display_name": "Python 3 (ipykernel)",
   "language": "python",
   "name": "python3"
  },
  "language_info": {
   "codemirror_mode": {
    "name": "ipython",
    "version": 3
   },
   "file_extension": ".py",
   "mimetype": "text/x-python",
   "name": "python",
   "nbconvert_exporter": "python",
   "pygments_lexer": "ipython3",
   "version": "3.10.13"
  }
 },
 "nbformat": 4,
 "nbformat_minor": 4
}
