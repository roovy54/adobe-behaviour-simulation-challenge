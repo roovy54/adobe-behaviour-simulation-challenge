{
 "cells": [
  {
   "cell_type": "code",
   "execution_count": 2,
   "metadata": {
    "id": "3L8DTmNnLmbV"
   },
   "outputs": [],
   "source": [
    "import pandas as pd\n",
    "import numpy as np\n",
    "import matplotlib.pyplot as plt\n",
    "import torch\n",
    "train_df = pd.read_csv(\"train_full.csv\")\n",
    "val_df = pd.read_csv(\"val_full.csv\")"
   ]
  },
  {
   "cell_type": "code",
   "execution_count": null,
   "metadata": {},
   "outputs": [],
   "source": [
    "import torch\n",
    "from transformers import AutoTokenizer, AutoModel, AutoModelForSequenceClassification, RobertaForSequenceClassification\n",
    "from torch.utils.data import DataLoader, Dataset\n",
    "from sklearn.model_selection import train_test_split\n",
    "import torch.nn as nn\n",
    "import torch.optim as optim\n",
    "from tqdm import tqdm"
   ]
  },
  {
   "cell_type": "code",
   "execution_count": 3,
   "metadata": {
    "colab": {
     "base_uri": "https://localhost:8080/",
     "height": 964
    },
    "id": "iN5aCuiiM0HO",
    "outputId": "677a1425-4663-41c5-fcee-aee0bc13b5af"
   },
   "outputs": [
    {
     "data": {
      "text/html": [
       "<div>\n",
       "<style scoped>\n",
       "    .dataframe tbody tr th:only-of-type {\n",
       "        vertical-align: middle;\n",
       "    }\n",
       "\n",
       "    .dataframe tbody tr th {\n",
       "        vertical-align: top;\n",
       "    }\n",
       "\n",
       "    .dataframe thead th {\n",
       "        text-align: right;\n",
       "    }\n",
       "</style>\n",
       "<table border=\"1\" class=\"dataframe\">\n",
       "  <thead>\n",
       "    <tr style=\"text-align: right;\">\n",
       "      <th></th>\n",
       "      <th>text_status</th>\n",
       "      <th>text</th>\n",
       "      <th>languages</th>\n",
       "      <th>image_url_status</th>\n",
       "      <th>image_url</th>\n",
       "      <th>video_thumbnail_status</th>\n",
       "      <th>video_thumbnail_url</th>\n",
       "      <th>video_url_status</th>\n",
       "      <th>video_url</th>\n",
       "      <th>video_bitrate</th>\n",
       "      <th>...</th>\n",
       "      <th>gif_url</th>\n",
       "      <th>gif_bitrate</th>\n",
       "      <th>year</th>\n",
       "      <th>month</th>\n",
       "      <th>day_of_year</th>\n",
       "      <th>day_of_week</th>\n",
       "      <th>date</th>\n",
       "      <th>username</th>\n",
       "      <th>inferred company</th>\n",
       "      <th>likes</th>\n",
       "    </tr>\n",
       "  </thead>\n",
       "  <tbody>\n",
       "    <tr>\n",
       "      <th>0</th>\n",
       "      <td>Has text</td>\n",
       "      <td>Spend your weekend morning with a Ham, Egg, an...</td>\n",
       "      <td>['ENGLISH']</td>\n",
       "      <td>Link exists and is accessible</td>\n",
       "      <td>https://pbs.twimg.com/media/Eo8N3JLVoAAlDJT?fo...</td>\n",
       "      <td>Link does not exist</td>\n",
       "      <td>Video thumbnail does not exist</td>\n",
       "      <td>Link does not exist</td>\n",
       "      <td>Video does not exist</td>\n",
       "      <td>Does not exist</td>\n",
       "      <td>...</td>\n",
       "      <td>GIF does not exist</td>\n",
       "      <td>Does not exist</td>\n",
       "      <td>2020.0</td>\n",
       "      <td>December</td>\n",
       "      <td>347.0</td>\n",
       "      <td>Saturday</td>\n",
       "      <td>2020-12-12 00:47:00</td>\n",
       "      <td>TimHortonsPH</td>\n",
       "      <td>tim hortons</td>\n",
       "      <td>1</td>\n",
       "    </tr>\n",
       "    <tr>\n",
       "      <th>1</th>\n",
       "      <td>Has text</td>\n",
       "      <td>Watch rapper &lt;mention&gt; freestyle for over an H...</td>\n",
       "      <td>['ENGLISH']</td>\n",
       "      <td>Link exists and is accessible</td>\n",
       "      <td>https://pbs.twimg.com/media/Dg7mW-VX0AE_hMn?fo...</td>\n",
       "      <td>Link does not exist</td>\n",
       "      <td>Video thumbnail does not exist</td>\n",
       "      <td>Link does not exist</td>\n",
       "      <td>Video does not exist</td>\n",
       "      <td>Does not exist</td>\n",
       "      <td>...</td>\n",
       "      <td>GIF does not exist</td>\n",
       "      <td>Does not exist</td>\n",
       "      <td>2018.0</td>\n",
       "      <td>June</td>\n",
       "      <td>181.0</td>\n",
       "      <td>Saturday</td>\n",
       "      <td>2018-06-30 10:04:20</td>\n",
       "      <td>IndyMusic</td>\n",
       "      <td>independent</td>\n",
       "      <td>2750</td>\n",
       "    </tr>\n",
       "    <tr>\n",
       "      <th>2</th>\n",
       "      <td>Has text</td>\n",
       "      <td>Canadian Armenian community demands ban on mil...</td>\n",
       "      <td>['ENGLISH']</td>\n",
       "      <td>Link exists and is accessible</td>\n",
       "      <td>https://pbs.twimg.com/media/EjG2s4aXgAMNM1o?fo...</td>\n",
       "      <td>Link does not exist</td>\n",
       "      <td>Video thumbnail does not exist</td>\n",
       "      <td>Link does not exist</td>\n",
       "      <td>Video does not exist</td>\n",
       "      <td>Does not exist</td>\n",
       "      <td>...</td>\n",
       "      <td>GIF does not exist</td>\n",
       "      <td>Does not exist</td>\n",
       "      <td>2020.0</td>\n",
       "      <td>September</td>\n",
       "      <td>273.0</td>\n",
       "      <td>Tuesday</td>\n",
       "      <td>2020-09-29 19:47:28</td>\n",
       "      <td>CBCCanada</td>\n",
       "      <td>cbc</td>\n",
       "      <td>57</td>\n",
       "    </tr>\n",
       "    <tr>\n",
       "      <th>3</th>\n",
       "      <td>Has text</td>\n",
       "      <td>1st in Europe to be devastated by COVID-19, It...</td>\n",
       "      <td>['ENGLISH']</td>\n",
       "      <td>Link exists and is accessible</td>\n",
       "      <td>https://pbs.twimg.com/media/EjPaVniX0AAaWLJ?fo...</td>\n",
       "      <td>Link does not exist</td>\n",
       "      <td>Video thumbnail does not exist</td>\n",
       "      <td>Link does not exist</td>\n",
       "      <td>Video does not exist</td>\n",
       "      <td>Does not exist</td>\n",
       "      <td>...</td>\n",
       "      <td>GIF does not exist</td>\n",
       "      <td>Does not exist</td>\n",
       "      <td>2020.0</td>\n",
       "      <td>October</td>\n",
       "      <td>275.0</td>\n",
       "      <td>Thursday</td>\n",
       "      <td>2020-10-01 11:40:09</td>\n",
       "      <td>MKWilliamsRome</td>\n",
       "      <td>williams</td>\n",
       "      <td>152</td>\n",
       "    </tr>\n",
       "    <tr>\n",
       "      <th>4</th>\n",
       "      <td>Has text</td>\n",
       "      <td>An 85-year-old primary school in Shanghai has ...</td>\n",
       "      <td>['ENGLISH']</td>\n",
       "      <td>Link does not exist</td>\n",
       "      <td>Image does not exist</td>\n",
       "      <td>Link exists and is accessible</td>\n",
       "      <td>https://pbs.twimg.com/amplify_video_thumb/1322...</td>\n",
       "      <td>Link exists and is accessible</td>\n",
       "      <td>https://video.twimg.com/amplify_video/13223822...</td>\n",
       "      <td>288000</td>\n",
       "      <td>...</td>\n",
       "      <td>GIF does not exist</td>\n",
       "      <td>Does not exist</td>\n",
       "      <td>2020.0</td>\n",
       "      <td>November</td>\n",
       "      <td>320.0</td>\n",
       "      <td>Sunday</td>\n",
       "      <td>2020-11-15 16:01:08</td>\n",
       "      <td>cnni</td>\n",
       "      <td>cnn</td>\n",
       "      <td>525</td>\n",
       "    </tr>\n",
       "    <tr>\n",
       "      <th>...</th>\n",
       "      <td>...</td>\n",
       "      <td>...</td>\n",
       "      <td>...</td>\n",
       "      <td>...</td>\n",
       "      <td>...</td>\n",
       "      <td>...</td>\n",
       "      <td>...</td>\n",
       "      <td>...</td>\n",
       "      <td>...</td>\n",
       "      <td>...</td>\n",
       "      <td>...</td>\n",
       "      <td>...</td>\n",
       "      <td>...</td>\n",
       "      <td>...</td>\n",
       "      <td>...</td>\n",
       "      <td>...</td>\n",
       "      <td>...</td>\n",
       "      <td>...</td>\n",
       "      <td>...</td>\n",
       "      <td>...</td>\n",
       "      <td>...</td>\n",
       "    </tr>\n",
       "    <tr>\n",
       "      <th>208796</th>\n",
       "      <td>Has text</td>\n",
       "      <td>&lt;mention&gt; Back To The Future\\nKeep Tom Wilson ...</td>\n",
       "      <td>['ENGLISH']</td>\n",
       "      <td>Link does not exist</td>\n",
       "      <td>Image does not exist</td>\n",
       "      <td>Link does not exist</td>\n",
       "      <td>Video thumbnail does not exist</td>\n",
       "      <td>Link does not exist</td>\n",
       "      <td>Video does not exist</td>\n",
       "      <td>Does not exist</td>\n",
       "      <td>...</td>\n",
       "      <td>https://video.twimg.com/tweet_video/Eqh5sr0XEA...</td>\n",
       "      <td>0</td>\n",
       "      <td>2020.0</td>\n",
       "      <td>December</td>\n",
       "      <td>366.0</td>\n",
       "      <td>Thursday</td>\n",
       "      <td>2020-12-31 01:40:12</td>\n",
       "      <td>MattWi77iams</td>\n",
       "      <td>williams</td>\n",
       "      <td>236</td>\n",
       "    </tr>\n",
       "    <tr>\n",
       "      <th>208797</th>\n",
       "      <td>Has text</td>\n",
       "      <td>#CasterSemenya has won a gold medal in the 150...</td>\n",
       "      <td>['ENGLISH']</td>\n",
       "      <td>Link exists and is accessible</td>\n",
       "      <td>https://pbs.twimg.com/media/Daa-wUuXUAA9Hyn?fo...</td>\n",
       "      <td>Link does not exist</td>\n",
       "      <td>Video thumbnail does not exist</td>\n",
       "      <td>Link does not exist</td>\n",
       "      <td>Video does not exist</td>\n",
       "      <td>Does not exist</td>\n",
       "      <td>...</td>\n",
       "      <td>GIF does not exist</td>\n",
       "      <td>Does not exist</td>\n",
       "      <td>2018.0</td>\n",
       "      <td>April</td>\n",
       "      <td>100.0</td>\n",
       "      <td>Tuesday</td>\n",
       "      <td>2018-04-10 12:29:11</td>\n",
       "      <td>SABCNews</td>\n",
       "      <td>sabc</td>\n",
       "      <td>591</td>\n",
       "    </tr>\n",
       "    <tr>\n",
       "      <th>208798</th>\n",
       "      <td>Has text</td>\n",
       "      <td>Barcelona Star Expected To Return Against Vale...</td>\n",
       "      <td>['ENGLISH']</td>\n",
       "      <td>Link exists and is accessible</td>\n",
       "      <td>https://pbs.twimg.com/media/ED397wUUYAEOV4K?fo...</td>\n",
       "      <td>Link does not exist</td>\n",
       "      <td>Video thumbnail does not exist</td>\n",
       "      <td>Link does not exist</td>\n",
       "      <td>Video does not exist</td>\n",
       "      <td>Does not exist</td>\n",
       "      <td>...</td>\n",
       "      <td>GIF does not exist</td>\n",
       "      <td>Does not exist</td>\n",
       "      <td>2019.0</td>\n",
       "      <td>September</td>\n",
       "      <td>250.0</td>\n",
       "      <td>Saturday</td>\n",
       "      <td>2019-09-07 16:18:10</td>\n",
       "      <td>IndependentNGR</td>\n",
       "      <td>independent</td>\n",
       "      <td>0</td>\n",
       "    </tr>\n",
       "    <tr>\n",
       "      <th>208799</th>\n",
       "      <td>Has text</td>\n",
       "      <td>Grateful 🙌🏾 to have &lt;mention&gt; officially join ...</td>\n",
       "      <td>['ENGLISH']</td>\n",
       "      <td>Link exists and is accessible</td>\n",
       "      <td>https://pbs.twimg.com/media/EmkaGpzXIAEyHg8?fo...</td>\n",
       "      <td>Link does not exist</td>\n",
       "      <td>Video thumbnail does not exist</td>\n",
       "      <td>Link does not exist</td>\n",
       "      <td>Video does not exist</td>\n",
       "      <td>Does not exist</td>\n",
       "      <td>...</td>\n",
       "      <td>GIF does not exist</td>\n",
       "      <td>Does not exist</td>\n",
       "      <td>2020.0</td>\n",
       "      <td>November</td>\n",
       "      <td>316.0</td>\n",
       "      <td>Wednesday</td>\n",
       "      <td>2020-11-11 20:18:15</td>\n",
       "      <td>TeamCoachBuzz</td>\n",
       "      <td>williams</td>\n",
       "      <td>261</td>\n",
       "    </tr>\n",
       "    <tr>\n",
       "      <th>208800</th>\n",
       "      <td>Has text</td>\n",
       "      <td>The US Air Force's mysterious space plane just...</td>\n",
       "      <td>['ENGLISH']</td>\n",
       "      <td>Link does not exist</td>\n",
       "      <td>Image does not exist</td>\n",
       "      <td>Link exists and is accessible</td>\n",
       "      <td>https://pbs.twimg.com/media/EICgLEQWwAIt3Qr.jpg</td>\n",
       "      <td>Link exists and is accessible</td>\n",
       "      <td>https://video.twimg.com/amplify_video/11891258...</td>\n",
       "      <td>432000</td>\n",
       "      <td>...</td>\n",
       "      <td>GIF does not exist</td>\n",
       "      <td>Does not exist</td>\n",
       "      <td>2019.0</td>\n",
       "      <td>October</td>\n",
       "      <td>302.0</td>\n",
       "      <td>Tuesday</td>\n",
       "      <td>2019-10-29 10:44:00</td>\n",
       "      <td>Independent</td>\n",
       "      <td>independent</td>\n",
       "      <td>119</td>\n",
       "    </tr>\n",
       "  </tbody>\n",
       "</table>\n",
       "<p>208801 rows × 25 columns</p>\n",
       "</div>"
      ],
      "text/plain": [
       "       text_status                                               text  \\\n",
       "0         Has text  Spend your weekend morning with a Ham, Egg, an...   \n",
       "1         Has text  Watch rapper <mention> freestyle for over an H...   \n",
       "2         Has text  Canadian Armenian community demands ban on mil...   \n",
       "3         Has text  1st in Europe to be devastated by COVID-19, It...   \n",
       "4         Has text  An 85-year-old primary school in Shanghai has ...   \n",
       "...            ...                                                ...   \n",
       "208796    Has text  <mention> Back To The Future\\nKeep Tom Wilson ...   \n",
       "208797    Has text  #CasterSemenya has won a gold medal in the 150...   \n",
       "208798    Has text  Barcelona Star Expected To Return Against Vale...   \n",
       "208799    Has text  Grateful 🙌🏾 to have <mention> officially join ...   \n",
       "208800    Has text  The US Air Force's mysterious space plane just...   \n",
       "\n",
       "          languages               image_url_status  \\\n",
       "0       ['ENGLISH']  Link exists and is accessible   \n",
       "1       ['ENGLISH']  Link exists and is accessible   \n",
       "2       ['ENGLISH']  Link exists and is accessible   \n",
       "3       ['ENGLISH']  Link exists and is accessible   \n",
       "4       ['ENGLISH']            Link does not exist   \n",
       "...             ...                            ...   \n",
       "208796  ['ENGLISH']            Link does not exist   \n",
       "208797  ['ENGLISH']  Link exists and is accessible   \n",
       "208798  ['ENGLISH']  Link exists and is accessible   \n",
       "208799  ['ENGLISH']  Link exists and is accessible   \n",
       "208800  ['ENGLISH']            Link does not exist   \n",
       "\n",
       "                                                image_url  \\\n",
       "0       https://pbs.twimg.com/media/Eo8N3JLVoAAlDJT?fo...   \n",
       "1       https://pbs.twimg.com/media/Dg7mW-VX0AE_hMn?fo...   \n",
       "2       https://pbs.twimg.com/media/EjG2s4aXgAMNM1o?fo...   \n",
       "3       https://pbs.twimg.com/media/EjPaVniX0AAaWLJ?fo...   \n",
       "4                                    Image does not exist   \n",
       "...                                                   ...   \n",
       "208796                               Image does not exist   \n",
       "208797  https://pbs.twimg.com/media/Daa-wUuXUAA9Hyn?fo...   \n",
       "208798  https://pbs.twimg.com/media/ED397wUUYAEOV4K?fo...   \n",
       "208799  https://pbs.twimg.com/media/EmkaGpzXIAEyHg8?fo...   \n",
       "208800                               Image does not exist   \n",
       "\n",
       "               video_thumbnail_status  \\\n",
       "0                 Link does not exist   \n",
       "1                 Link does not exist   \n",
       "2                 Link does not exist   \n",
       "3                 Link does not exist   \n",
       "4       Link exists and is accessible   \n",
       "...                               ...   \n",
       "208796            Link does not exist   \n",
       "208797            Link does not exist   \n",
       "208798            Link does not exist   \n",
       "208799            Link does not exist   \n",
       "208800  Link exists and is accessible   \n",
       "\n",
       "                                      video_thumbnail_url  \\\n",
       "0                          Video thumbnail does not exist   \n",
       "1                          Video thumbnail does not exist   \n",
       "2                          Video thumbnail does not exist   \n",
       "3                          Video thumbnail does not exist   \n",
       "4       https://pbs.twimg.com/amplify_video_thumb/1322...   \n",
       "...                                                   ...   \n",
       "208796                     Video thumbnail does not exist   \n",
       "208797                     Video thumbnail does not exist   \n",
       "208798                     Video thumbnail does not exist   \n",
       "208799                     Video thumbnail does not exist   \n",
       "208800    https://pbs.twimg.com/media/EICgLEQWwAIt3Qr.jpg   \n",
       "\n",
       "                     video_url_status  \\\n",
       "0                 Link does not exist   \n",
       "1                 Link does not exist   \n",
       "2                 Link does not exist   \n",
       "3                 Link does not exist   \n",
       "4       Link exists and is accessible   \n",
       "...                               ...   \n",
       "208796            Link does not exist   \n",
       "208797            Link does not exist   \n",
       "208798            Link does not exist   \n",
       "208799            Link does not exist   \n",
       "208800  Link exists and is accessible   \n",
       "\n",
       "                                                video_url   video_bitrate  \\\n",
       "0                                    Video does not exist  Does not exist   \n",
       "1                                    Video does not exist  Does not exist   \n",
       "2                                    Video does not exist  Does not exist   \n",
       "3                                    Video does not exist  Does not exist   \n",
       "4       https://video.twimg.com/amplify_video/13223822...          288000   \n",
       "...                                                   ...             ...   \n",
       "208796                               Video does not exist  Does not exist   \n",
       "208797                               Video does not exist  Does not exist   \n",
       "208798                               Video does not exist  Does not exist   \n",
       "208799                               Video does not exist  Does not exist   \n",
       "208800  https://video.twimg.com/amplify_video/11891258...          432000   \n",
       "\n",
       "        ...                                            gif_url  \\\n",
       "0       ...                                 GIF does not exist   \n",
       "1       ...                                 GIF does not exist   \n",
       "2       ...                                 GIF does not exist   \n",
       "3       ...                                 GIF does not exist   \n",
       "4       ...                                 GIF does not exist   \n",
       "...     ...                                                ...   \n",
       "208796  ...  https://video.twimg.com/tweet_video/Eqh5sr0XEA...   \n",
       "208797  ...                                 GIF does not exist   \n",
       "208798  ...                                 GIF does not exist   \n",
       "208799  ...                                 GIF does not exist   \n",
       "208800  ...                                 GIF does not exist   \n",
       "\n",
       "           gif_bitrate    year      month day_of_year day_of_week  \\\n",
       "0       Does not exist  2020.0   December       347.0    Saturday   \n",
       "1       Does not exist  2018.0       June       181.0    Saturday   \n",
       "2       Does not exist  2020.0  September       273.0     Tuesday   \n",
       "3       Does not exist  2020.0    October       275.0    Thursday   \n",
       "4       Does not exist  2020.0   November       320.0      Sunday   \n",
       "...                ...     ...        ...         ...         ...   \n",
       "208796               0  2020.0   December       366.0    Thursday   \n",
       "208797  Does not exist  2018.0      April       100.0     Tuesday   \n",
       "208798  Does not exist  2019.0  September       250.0    Saturday   \n",
       "208799  Does not exist  2020.0   November       316.0   Wednesday   \n",
       "208800  Does not exist  2019.0    October       302.0     Tuesday   \n",
       "\n",
       "                       date        username inferred company  likes  \n",
       "0       2020-12-12 00:47:00    TimHortonsPH      tim hortons      1  \n",
       "1       2018-06-30 10:04:20       IndyMusic      independent   2750  \n",
       "2       2020-09-29 19:47:28       CBCCanada              cbc     57  \n",
       "3       2020-10-01 11:40:09  MKWilliamsRome         williams    152  \n",
       "4       2020-11-15 16:01:08            cnni              cnn    525  \n",
       "...                     ...             ...              ...    ...  \n",
       "208796  2020-12-31 01:40:12    MattWi77iams         williams    236  \n",
       "208797  2018-04-10 12:29:11        SABCNews             sabc    591  \n",
       "208798  2019-09-07 16:18:10  IndependentNGR      independent      0  \n",
       "208799  2020-11-11 20:18:15   TeamCoachBuzz         williams    261  \n",
       "208800  2019-10-29 10:44:00     Independent      independent    119  \n",
       "\n",
       "[208801 rows x 25 columns]"
      ]
     },
     "execution_count": 3,
     "metadata": {},
     "output_type": "execute_result"
    }
   ],
   "source": [
    "train_df"
   ]
  },
  {
   "cell_type": "code",
   "execution_count": 4,
   "metadata": {
    "colab": {
     "base_uri": "https://localhost:8080/",
     "height": 585
    },
    "id": "4kdybrNtNHOk",
    "outputId": "e13ce302-7bc5-43ae-d87b-aac41214b484"
   },
   "outputs": [
    {
     "data": {
      "text/html": [
       "<div>\n",
       "<style scoped>\n",
       "    .dataframe tbody tr th:only-of-type {\n",
       "        vertical-align: middle;\n",
       "    }\n",
       "\n",
       "    .dataframe tbody tr th {\n",
       "        vertical-align: top;\n",
       "    }\n",
       "\n",
       "    .dataframe thead th {\n",
       "        text-align: right;\n",
       "    }\n",
       "</style>\n",
       "<table border=\"1\" class=\"dataframe\">\n",
       "  <thead>\n",
       "    <tr style=\"text-align: right;\">\n",
       "      <th></th>\n",
       "      <th>text_status</th>\n",
       "      <th>text</th>\n",
       "      <th>languages</th>\n",
       "      <th>image_url_status</th>\n",
       "      <th>image_url</th>\n",
       "      <th>video_thumbnail_status</th>\n",
       "      <th>video_thumbnail_url</th>\n",
       "      <th>video_url_status</th>\n",
       "      <th>video_url</th>\n",
       "      <th>video_bitrate</th>\n",
       "      <th>...</th>\n",
       "      <th>gif_url</th>\n",
       "      <th>gif_bitrate</th>\n",
       "      <th>year</th>\n",
       "      <th>month</th>\n",
       "      <th>day_of_year</th>\n",
       "      <th>day_of_week</th>\n",
       "      <th>date</th>\n",
       "      <th>username</th>\n",
       "      <th>inferred company</th>\n",
       "      <th>likes</th>\n",
       "    </tr>\n",
       "  </thead>\n",
       "  <tbody>\n",
       "    <tr>\n",
       "      <th>0</th>\n",
       "      <td>Has text</td>\n",
       "      <td>LASU Celebrates New Dawn Of Unbroken Peace As ...</td>\n",
       "      <td>['ENGLISH']</td>\n",
       "      <td>Link exists and is accessible</td>\n",
       "      <td>https://pbs.twimg.com/media/EHo1yZyU0AIBW8N?fo...</td>\n",
       "      <td>Link does not exist</td>\n",
       "      <td>Video thumbnail does not exist</td>\n",
       "      <td>Link does not exist</td>\n",
       "      <td>Video does not exist</td>\n",
       "      <td>Does not exist</td>\n",
       "      <td>...</td>\n",
       "      <td>GIF does not exist</td>\n",
       "      <td>Does not exist</td>\n",
       "      <td>2019</td>\n",
       "      <td>October</td>\n",
       "      <td>297</td>\n",
       "      <td>Thursday</td>\n",
       "      <td>2019-10-24 10:51:03</td>\n",
       "      <td>IndependentNGR</td>\n",
       "      <td>independent</td>\n",
       "      <td>0</td>\n",
       "    </tr>\n",
       "    <tr>\n",
       "      <th>1</th>\n",
       "      <td>Has text</td>\n",
       "      <td>The US-Taliban agreement, which sets into moti...</td>\n",
       "      <td>['ENGLISH']</td>\n",
       "      <td>Link does not exist</td>\n",
       "      <td>Image does not exist</td>\n",
       "      <td>Link exists and is accessible</td>\n",
       "      <td>https://pbs.twimg.com/media/ESCO6b9WkAUBI1o.jpg</td>\n",
       "      <td>Link exists and is accessible</td>\n",
       "      <td>https://video.twimg.com/amplify_video/12341434...</td>\n",
       "      <td>288000</td>\n",
       "      <td>...</td>\n",
       "      <td>GIF does not exist</td>\n",
       "      <td>Does not exist</td>\n",
       "      <td>2020</td>\n",
       "      <td>March</td>\n",
       "      <td>61</td>\n",
       "      <td>Sunday</td>\n",
       "      <td>2020-03-01 15:48:46</td>\n",
       "      <td>CNN</td>\n",
       "      <td>cnn</td>\n",
       "      <td>672</td>\n",
       "    </tr>\n",
       "    <tr>\n",
       "      <th>2</th>\n",
       "      <td>Has text</td>\n",
       "      <td>Many people are understandably anxious to get ...</td>\n",
       "      <td>['ENGLISH']</td>\n",
       "      <td>Link exists and is accessible</td>\n",
       "      <td>https://pbs.twimg.com/media/EdP2C8RXYAAEkdX?fo...</td>\n",
       "      <td>Link does not exist</td>\n",
       "      <td>Video thumbnail does not exist</td>\n",
       "      <td>Link does not exist</td>\n",
       "      <td>Video does not exist</td>\n",
       "      <td>Does not exist</td>\n",
       "      <td>...</td>\n",
       "      <td>GIF does not exist</td>\n",
       "      <td>Does not exist</td>\n",
       "      <td>2020</td>\n",
       "      <td>July</td>\n",
       "      <td>201</td>\n",
       "      <td>Sunday</td>\n",
       "      <td>2020-07-19 00:07:00</td>\n",
       "      <td>MayoClinic</td>\n",
       "      <td>mayo clinic</td>\n",
       "      <td>78</td>\n",
       "    </tr>\n",
       "    <tr>\n",
       "      <th>3</th>\n",
       "      <td>Has text</td>\n",
       "      <td>ALSO NOW (yes it's wild here today): Sen Merkl...</td>\n",
       "      <td>['ENGLISH']</td>\n",
       "      <td>Link exists and is accessible</td>\n",
       "      <td>https://pbs.twimg.com/media/DoCNXLsV4AAM2Aw?fo...</td>\n",
       "      <td>Link does not exist</td>\n",
       "      <td>Video thumbnail does not exist</td>\n",
       "      <td>Link does not exist</td>\n",
       "      <td>Video does not exist</td>\n",
       "      <td>Does not exist</td>\n",
       "      <td>...</td>\n",
       "      <td>GIF does not exist</td>\n",
       "      <td>Does not exist</td>\n",
       "      <td>2018</td>\n",
       "      <td>September</td>\n",
       "      <td>269</td>\n",
       "      <td>Wednesday</td>\n",
       "      <td>2018-09-26 16:42:17</td>\n",
       "      <td>LisaDNews</td>\n",
       "      <td>desjardins</td>\n",
       "      <td>961</td>\n",
       "    </tr>\n",
       "    <tr>\n",
       "      <th>4</th>\n",
       "      <td>Has text</td>\n",
       "      <td>Toyota Motor North America Chief Diversity Off...</td>\n",
       "      <td>['ENGLISH']</td>\n",
       "      <td>Link exists and is accessible</td>\n",
       "      <td>https://pbs.twimg.com/media/ES2r4X5WkAA8UuA?fo...</td>\n",
       "      <td>Link does not exist</td>\n",
       "      <td>Video thumbnail does not exist</td>\n",
       "      <td>Link does not exist</td>\n",
       "      <td>Video does not exist</td>\n",
       "      <td>Does not exist</td>\n",
       "      <td>...</td>\n",
       "      <td>GIF does not exist</td>\n",
       "      <td>Does not exist</td>\n",
       "      <td>2020</td>\n",
       "      <td>March</td>\n",
       "      <td>71</td>\n",
       "      <td>Wednesday</td>\n",
       "      <td>2020-03-11 20:15:08</td>\n",
       "      <td>ToyotaSD</td>\n",
       "      <td>toyota</td>\n",
       "      <td>4</td>\n",
       "    </tr>\n",
       "  </tbody>\n",
       "</table>\n",
       "<p>5 rows × 25 columns</p>\n",
       "</div>"
      ],
      "text/plain": [
       "  text_status                                               text    languages  \\\n",
       "0    Has text  LASU Celebrates New Dawn Of Unbroken Peace As ...  ['ENGLISH']   \n",
       "1    Has text  The US-Taliban agreement, which sets into moti...  ['ENGLISH']   \n",
       "2    Has text  Many people are understandably anxious to get ...  ['ENGLISH']   \n",
       "3    Has text  ALSO NOW (yes it's wild here today): Sen Merkl...  ['ENGLISH']   \n",
       "4    Has text  Toyota Motor North America Chief Diversity Off...  ['ENGLISH']   \n",
       "\n",
       "                image_url_status  \\\n",
       "0  Link exists and is accessible   \n",
       "1            Link does not exist   \n",
       "2  Link exists and is accessible   \n",
       "3  Link exists and is accessible   \n",
       "4  Link exists and is accessible   \n",
       "\n",
       "                                           image_url  \\\n",
       "0  https://pbs.twimg.com/media/EHo1yZyU0AIBW8N?fo...   \n",
       "1                               Image does not exist   \n",
       "2  https://pbs.twimg.com/media/EdP2C8RXYAAEkdX?fo...   \n",
       "3  https://pbs.twimg.com/media/DoCNXLsV4AAM2Aw?fo...   \n",
       "4  https://pbs.twimg.com/media/ES2r4X5WkAA8UuA?fo...   \n",
       "\n",
       "          video_thumbnail_status  \\\n",
       "0            Link does not exist   \n",
       "1  Link exists and is accessible   \n",
       "2            Link does not exist   \n",
       "3            Link does not exist   \n",
       "4            Link does not exist   \n",
       "\n",
       "                               video_thumbnail_url  \\\n",
       "0                   Video thumbnail does not exist   \n",
       "1  https://pbs.twimg.com/media/ESCO6b9WkAUBI1o.jpg   \n",
       "2                   Video thumbnail does not exist   \n",
       "3                   Video thumbnail does not exist   \n",
       "4                   Video thumbnail does not exist   \n",
       "\n",
       "                video_url_status  \\\n",
       "0            Link does not exist   \n",
       "1  Link exists and is accessible   \n",
       "2            Link does not exist   \n",
       "3            Link does not exist   \n",
       "4            Link does not exist   \n",
       "\n",
       "                                           video_url   video_bitrate  ...  \\\n",
       "0                               Video does not exist  Does not exist  ...   \n",
       "1  https://video.twimg.com/amplify_video/12341434...          288000  ...   \n",
       "2                               Video does not exist  Does not exist  ...   \n",
       "3                               Video does not exist  Does not exist  ...   \n",
       "4                               Video does not exist  Does not exist  ...   \n",
       "\n",
       "              gif_url     gif_bitrate  year      month day_of_year  \\\n",
       "0  GIF does not exist  Does not exist  2019    October         297   \n",
       "1  GIF does not exist  Does not exist  2020      March          61   \n",
       "2  GIF does not exist  Does not exist  2020       July         201   \n",
       "3  GIF does not exist  Does not exist  2018  September         269   \n",
       "4  GIF does not exist  Does not exist  2020      March          71   \n",
       "\n",
       "  day_of_week                 date        username inferred company  likes  \n",
       "0    Thursday  2019-10-24 10:51:03  IndependentNGR      independent      0  \n",
       "1      Sunday  2020-03-01 15:48:46             CNN              cnn    672  \n",
       "2      Sunday  2020-07-19 00:07:00      MayoClinic      mayo clinic     78  \n",
       "3   Wednesday  2018-09-26 16:42:17       LisaDNews       desjardins    961  \n",
       "4   Wednesday  2020-03-11 20:15:08        ToyotaSD           toyota      4  \n",
       "\n",
       "[5 rows x 25 columns]"
      ]
     },
     "execution_count": 4,
     "metadata": {},
     "output_type": "execute_result"
    }
   ],
   "source": [
    "val_df.head()"
   ]
  },
  {
   "cell_type": "code",
   "execution_count": 5,
   "metadata": {
    "id": "MMWartiMWdph"
   },
   "outputs": [],
   "source": [
    "train_new = train_df[train_df['video_views']!='Does not exist']"
   ]
  },
  {
   "cell_type": "code",
   "execution_count": 6,
   "metadata": {
    "id": "HlMRferHYDjx"
   },
   "outputs": [],
   "source": [
    "val_new = val_df[val_df['video_views']!='Does not exist']"
   ]
  },
  {
   "cell_type": "code",
   "execution_count": 7,
   "metadata": {
    "colab": {
     "base_uri": "https://localhost:8080/"
    },
    "id": "eoL-hcoLWxPJ",
    "outputId": "c765ebde-f6e0-4e45-9c09-8200df1cd0cf"
   },
   "outputs": [
    {
     "name": "stderr",
     "output_type": "stream",
     "text": [
      "/tmp/ipykernel_160/2189607302.py:1: SettingWithCopyWarning: \n",
      "A value is trying to be set on a copy of a slice from a DataFrame.\n",
      "Try using .loc[row_indexer,col_indexer] = value instead\n",
      "\n",
      "See the caveats in the documentation: https://pandas.pydata.org/pandas-docs/stable/user_guide/indexing.html#returning-a-view-versus-a-copy\n",
      "  train_new['video_views'] = train_new['video_views'].astype(int)\n",
      "/tmp/ipykernel_160/2189607302.py:2: SettingWithCopyWarning: \n",
      "A value is trying to be set on a copy of a slice from a DataFrame.\n",
      "Try using .loc[row_indexer,col_indexer] = value instead\n",
      "\n",
      "See the caveats in the documentation: https://pandas.pydata.org/pandas-docs/stable/user_guide/indexing.html#returning-a-view-versus-a-copy\n",
      "  val_new['video_views'] = val_new['video_views'].astype(int)\n"
     ]
    }
   ],
   "source": [
    "train_new['video_views'] = train_new['video_views'].astype(int)\n",
    "val_new['video_views'] = val_new['video_views'].astype(int)"
   ]
  },
  {
   "cell_type": "code",
   "execution_count": 8,
   "metadata": {
    "id": "t1WCECrpWlIA"
   },
   "outputs": [],
   "source": [
    "train_new = train_new.sort_values(by='video_views')\n",
    "train_new = train_new.reset_index(drop=True)\n",
    "\n",
    "val_new = val_new.sort_values(by='video_views')\n",
    "val_new = val_new.reset_index(drop=True)"
   ]
  },
  {
   "cell_type": "code",
   "execution_count": 9,
   "metadata": {
    "id": "2o-v3haINCaR"
   },
   "outputs": [],
   "source": [
    "train_content = train_new[\"text\"].values\n",
    "val_content = val_new[\"text\"].values\n",
    "\n",
    "train_views = train_new[\"video_views\"].values\n",
    "val_views = val_new[\"video_views\"].values\n",
    "\n",
    "train_labels = train_new[\"likes\"].values\n",
    "val_labels = val_new[\"likes\"].values"
   ]
  },
  {
   "cell_type": "markdown",
   "metadata": {
    "id": "B-qTe6eu98Su"
   },
   "source": [
    "# Model Training"
   ]
  },
  {
   "cell_type": "code",
   "execution_count": 12,
   "metadata": {
    "id": "HccQeM53UU_b"
   },
   "outputs": [],
   "source": [
    "train_log_labels = []\n",
    "for i in range(len(train_labels)):\n",
    "  train_log_labels.append(np.log(1+train_labels[i]))"
   ]
  },
  {
   "cell_type": "code",
   "execution_count": 13,
   "metadata": {
    "id": "yaVN5oYwWj0y"
   },
   "outputs": [],
   "source": [
    "val_log_labels = []\n",
    "for i in range(len(val_labels)):\n",
    "  val_log_labels.append(np.log(1+val_labels[i]))"
   ]
  },
  {
   "cell_type": "code",
   "execution_count": 14,
   "metadata": {
    "colab": {
     "base_uri": "https://localhost:8080/"
    },
    "id": "Aq-ehal_VH5Z",
    "outputId": "a8defd91-96ea-4a1c-8474-3a9158537084"
   },
   "outputs": [
    {
     "data": {
      "text/plain": [
       "(19580, 31671, 0, 0, 1385)"
      ]
     },
     "execution_count": 14,
     "metadata": {},
     "output_type": "execute_result"
    }
   ],
   "source": [
    "train_content_set_1 = []\n",
    "train_labels_set_1 = []\n",
    "train_views_set_1 = []\n",
    "train_content_set_2 = []\n",
    "train_labels_set_2 = []\n",
    "train_views_set_2 = []\n",
    "train_content_set_3 = []\n",
    "train_labels_set_3 = []\n",
    "train_content_set_4 = []\n",
    "train_labels_set_4 = []\n",
    "train_content_set_5 = []\n",
    "train_labels_set_5 = []\n",
    "train_views_set_5 = []\n",
    "\n",
    "val_content_set_1 = []\n",
    "val_labels_set_1 = []\n",
    "val_views_set_1 = []\n",
    "val_content_set_2 = []\n",
    "val_labels_set_2 = []\n",
    "val_views_set_2 = []\n",
    "val_content_set_3 = []\n",
    "val_labels_set_3 = []\n",
    "val_content_set_4 = []\n",
    "val_labels_set_4 = []\n",
    "val_content_set_5 = []\n",
    "val_labels_set_5 = []\n",
    "val_views_set_5 = []\n",
    "\n",
    "train_classes = []\n",
    "val_classes = []\n",
    "\n",
    "for i in range(len(train_log_labels)):\n",
    "  if train_log_labels[i] <= 4.6:\n",
    "    train_classes.append(0)\n",
    "    train_content_set_1.append(train_content[i])\n",
    "    train_views_set_1.append(train_views[i])\n",
    "    train_labels_set_1.append(train_log_labels[i])\n",
    "  elif train_log_labels[i] > 4.6 and train_log_labels[i] <= 9.2:\n",
    "    train_classes.append(1)\n",
    "    train_content_set_2.append(train_content[i])\n",
    "    train_views_set_2.append(train_views[i])\n",
    "    train_labels_set_2.append(train_log_labels[i])\n",
    "  else:\n",
    "    train_classes.append(4)\n",
    "    train_content_set_5.append(train_content[i])\n",
    "    train_views_set_5.append(train_views[i])\n",
    "    train_labels_set_5.append(train_log_labels[i])\n",
    "\n",
    "for i in range(len(val_log_labels)):\n",
    "  if val_log_labels[i] <= 4.6:\n",
    "    val_classes.append(0)\n",
    "    val_content_set_1.append(val_content[i])\n",
    "    val_views_set_1.append(val_views[i])\n",
    "    val_labels_set_1.append(val_log_labels[i])\n",
    "  elif val_log_labels[i] > 4.6 and val_log_labels[i] <= 9.2:\n",
    "    val_classes.append(1)\n",
    "    val_content_set_2.append(val_content[i])\n",
    "    val_views_set_2.append(val_views[i])\n",
    "    val_labels_set_2.append(val_log_labels[i])\n",
    "  else:\n",
    "    val_classes.append(4)\n",
    "    val_content_set_5.append(val_content[i])\n",
    "    val_views_set_5.append(val_views[i])\n",
    "    val_labels_set_5.append(val_log_labels[i])\n",
    "\n",
    "len(train_labels_set_1), len(train_labels_set_2), len(train_labels_set_3), len(train_labels_set_4), len(train_labels_set_5)"
   ]
  },
  {
   "cell_type": "code",
   "execution_count": 15,
   "metadata": {
    "colab": {
     "base_uri": "https://localhost:8080/"
    },
    "id": "xWZSGYEvW5Rc",
    "outputId": "b09a32a0-4c16-41d6-fe0a-197e2e3d9fb2"
   },
   "outputs": [
    {
     "data": {
      "text/plain": [
       "(2747, 4501, 0, 0, 164)"
      ]
     },
     "execution_count": 15,
     "metadata": {},
     "output_type": "execute_result"
    }
   ],
   "source": [
    "len(val_labels_set_1), len(val_labels_set_2), len(val_labels_set_3), len(val_labels_set_4), len(val_labels_set_5)"
   ]
  },
  {
   "cell_type": "code",
   "execution_count": 20,
   "metadata": {
    "id": "r_Or8ayJNYb-"
   },
   "outputs": [],
   "source": [
    "class CustomRegressionDataset(Dataset):\n",
    "    def __init__(self, texts, views, labels, tokenizer, max_length):\n",
    "        self.texts = texts\n",
    "        self.views = views\n",
    "        self.labels = labels\n",
    "        self.tokenizer = tokenizer\n",
    "        self.max_length = max_length\n",
    "\n",
    "    def __len__(self):\n",
    "        return len(self.texts)\n",
    "\n",
    "    def __getitem__(self, idx):\n",
    "        text = str(self.texts[idx]) + str(\"with view of video being\") + str(self.views[idx])\n",
    "        label = float(self.labels[idx])\n",
    "        encoding = self.tokenizer.encode_plus(\n",
    "            text,\n",
    "            add_special_tokens=True,\n",
    "            max_length=self.max_length,\n",
    "            return_token_type_ids=False,\n",
    "            padding='max_length',\n",
    "            truncation=True,\n",
    "            return_attention_mask=True,\n",
    "            return_tensors='pt'\n",
    "        )\n",
    "        return {\n",
    "            'input_ids': encoding['input_ids'].flatten(),\n",
    "            'attention_mask': encoding['attention_mask'].flatten(),\n",
    "            'labels': torch.tensor(label, dtype=torch.float32)\n",
    "        }"
   ]
  },
  {
   "cell_type": "code",
   "execution_count": 23,
   "metadata": {
    "colab": {
     "base_uri": "https://localhost:8080/",
     "height": 462
    },
    "id": "CW4NnNmadZgY",
    "outputId": "b1abc928-4060-4745-ac62-8e4b36e9d0a1"
   },
   "outputs": [
    {
     "name": "stderr",
     "output_type": "stream",
     "text": [
      "emoji is not installed, thus not converting emoticons or emojis into text. Install emoji: pip3 install emoji==0.6.0\n",
      "Some weights of RobertaForSequenceClassification were not initialized from the model checkpoint at vinai/bertweet-base and are newly initialized: ['classifier.out_proj.weight', 'classifier.dense.bias', 'classifier.dense.weight', 'classifier.out_proj.bias']\n",
      "You should probably TRAIN this model on a down-stream task to be able to use it for predictions and inference.\n",
      "Epoch 1/3: 100%|██████████| 990/990 [03:33<00:00,  4.63batch/s, loss=3.07]\n"
     ]
    },
    {
     "name": "stdout",
     "output_type": "stream",
     "text": [
      "Epoch [1/3] Loss: 3.0701189972234495\n"
     ]
    },
    {
     "name": "stderr",
     "output_type": "stream",
     "text": [
      "Epoch 2/3: 100%|██████████| 990/990 [03:32<00:00,  4.66batch/s, loss=0.68] \n"
     ]
    },
    {
     "name": "stdout",
     "output_type": "stream",
     "text": [
      "Epoch [2/3] Loss: 0.6799331707183761\n"
     ]
    },
    {
     "name": "stderr",
     "output_type": "stream",
     "text": [
      "Epoch 3/3: 100%|██████████| 990/990 [03:32<00:00,  4.66batch/s, loss=0.567]\n"
     ]
    },
    {
     "name": "stdout",
     "output_type": "stream",
     "text": [
      "Epoch [3/3] Loss: 0.567493336414448\n",
      "Validation Loss: 0.5494069283735667\n"
     ]
    }
   ],
   "source": [
    "tokenizer = AutoTokenizer.from_pretrained('vinai/bertweet-base')\n",
    "model = AutoModelForSequenceClassification.from_pretrained('vinai/bertweet-base', num_labels=1)\n",
    "\n",
    "criterion = nn.MSELoss()\n",
    "\n",
    "train_texts = train_content_set_2\n",
    "val_texts = val_content_set_2\n",
    "train_views = train_views_set_2\n",
    "val_views = val_views_set_2\n",
    "train_labels = train_labels_set_2\n",
    "val_labels = val_labels_set_2\n",
    "\n",
    "train_dataset = CustomRegressionDataset(train_texts, train_views, train_labels, tokenizer, max_length=128)\n",
    "val_dataset = CustomRegressionDataset(val_texts, val_views, val_labels, tokenizer, max_length=128)\n",
    "\n",
    "train_loader = DataLoader(train_dataset, batch_size=32, shuffle=True)\n",
    "val_loader = DataLoader(val_dataset, batch_size=32)\n",
    "\n",
    "device = torch.device('cuda' if torch.cuda.is_available() else 'cpu')\n",
    "model.to(device)\n",
    "\n",
    "optimizer = optim.Adam(model.parameters(), lr=1e-5)\n",
    "\n",
    "num_epochs = 3\n",
    "for epoch in range(num_epochs):\n",
    "    model.train()\n",
    "    running_loss = 0.0\n",
    "    with tqdm(total=len(train_loader), desc=f\"Epoch {epoch + 1}/{num_epochs}\", unit='batch') as progress_bar:\n",
    "        for batch in train_loader:\n",
    "            input_ids = batch['input_ids'].to(device)\n",
    "            attention_mask = batch['attention_mask'].to(device)\n",
    "            labels = batch['labels'].to(device)\n",
    "\n",
    "            optimizer.zero_grad()\n",
    "\n",
    "            outputs = model(input_ids=input_ids, attention_mask=attention_mask, labels=labels)\n",
    "            loss = outputs.loss\n",
    "\n",
    "            loss.backward()\n",
    "            optimizer.step()\n",
    "\n",
    "            running_loss += loss.item()\n",
    "\n",
    "            progress_bar.set_postfix({'loss': running_loss / (progress_bar.n + 1)})\n",
    "            progress_bar.update(1)\n",
    "\n",
    "    epoch_loss = running_loss / len(train_loader)\n",
    "    print(f\"Epoch [{epoch + 1}/{num_epochs}] Loss: {epoch_loss}\")\n",
    "\n",
    "model.eval()\n",
    "val_loss = 0.0\n",
    "with torch.no_grad():\n",
    "    for batch in val_loader:\n",
    "        input_ids = batch['input_ids'].to(device)\n",
    "        attention_mask = batch['attention_mask'].to(device)\n",
    "        labels = batch['labels'].to(device)\n",
    "\n",
    "        outputs = model(input_ids=input_ids, attention_mask=attention_mask, labels=labels)\n",
    "        loss = outputs.loss\n",
    "\n",
    "        val_loss += loss.item()\n",
    "\n",
    "average_val_loss = val_loss / len(val_loader)\n",
    "print(f\"Validation Loss: {average_val_loss}\")"
   ]
  },
  {
   "cell_type": "code",
   "execution_count": 24,
   "metadata": {
    "id": "CeOaTHFWfoSP"
   },
   "outputs": [],
   "source": [
    "torch.save(model, 'vinai_model1_log_100-10k.pth')"
   ]
  },
  {
   "cell_type": "markdown",
   "metadata": {},
   "source": [
    "## Model Testing"
   ]
  },
  {
   "cell_type": "code",
   "execution_count": 36,
   "metadata": {},
   "outputs": [
    {
     "name": "stderr",
     "output_type": "stream",
     "text": [
      "emoji is not installed, thus not converting emoticons or emojis into text. Install emoji: pip3 install emoji==0.6.0\n"
     ]
    }
   ],
   "source": [
    "tokenizer = AutoTokenizer.from_pretrained('vinai/bertweet-base')\n",
    "\n",
    "criterion = nn.MSELoss()\n",
    "\n",
    "train_texts = train_content_set_2\n",
    "val_texts = val_content_set_2\n",
    "train_views = train_views_set_2\n",
    "val_views = val_views_set_2\n",
    "train_labels = train_labels_set_2\n",
    "val_labels = val_labels_set_2\n",
    "\n",
    "train_dataset = CustomRegressionDataset(train_texts, train_views, train_labels, tokenizer, max_length=128)\n",
    "val_dataset = CustomRegressionDataset(val_texts, val_views, val_labels, tokenizer, max_length=128)\n",
    "\n",
    "train_loader = DataLoader(train_dataset, batch_size=32, shuffle=True)\n",
    "val_loader = DataLoader(val_dataset, batch_size=32)\n",
    "\n",
    "device = torch.device('cuda' if torch.cuda.is_available() else 'cpu')"
   ]
  },
  {
   "cell_type": "code",
   "execution_count": 37,
   "metadata": {
    "id": "r-Oxy0mKf8r8"
   },
   "outputs": [],
   "source": [
    "model_log = torch.load('vinai_model1_log_100-10k.pth')"
   ]
  },
  {
   "cell_type": "code",
   "execution_count": 49,
   "metadata": {
    "id": "EfNCq9Mj4Hkc",
    "scrolled": true
   },
   "outputs": [
    {
     "name": "stdout",
     "output_type": "stream",
     "text": [
      "Validation Loss: 0.01721092577220016\n"
     ]
    }
   ],
   "source": [
    "model_log.to(device)\n",
    "\n",
    "cnt = 0\n",
    "ans = []\n",
    "labs = []\n",
    "batch_order=[]\n",
    "\n",
    "model_log.eval()\n",
    "val_loss = 0.0\n",
    "with torch.no_grad():\n",
    "    for i,batch in enumerate(val_loader):\n",
    "        cnt += 32\n",
    "        input_ids = batch['input_ids'].to(device)\n",
    "        attention_mask = batch['attention_mask'].to(device)\n",
    "        labels = batch['labels'].to(device)\n",
    "        outputs = model_log(input_ids=input_ids, attention_mask=attention_mask, labels=labels)\n",
    "        ans.extend(outputs.logits)\n",
    "        labs.extend(labels)\n",
    "        loss = outputs.loss\n",
    "        # print(labels)\n",
    "        # print(loss.item())\n",
    "        val_loss += loss.item()\n",
    "# print(cnt)\n",
    "\n",
    "\n",
    "average_val_loss = val_loss / len(val_dataset)\n",
    "print(f\"Validation Loss: {average_val_loss}\")"
   ]
  },
  {
   "cell_type": "code",
   "execution_count": 50,
   "metadata": {},
   "outputs": [],
   "source": [
    "import math\n",
    "predicted_arr = []\n",
    "for i in ans:\n",
    "  predicted_arr.append(math.exp(i[0]))"
   ]
  },
  {
   "cell_type": "code",
   "execution_count": 56,
   "metadata": {},
   "outputs": [
    {
     "data": {
      "text/plain": [
       "array([ 279.99996183,  394.99995486,  118.00001117, ...,  268.99997959,\n",
       "        647.00000734, 1215.99995937])"
      ]
     },
     "execution_count": 56,
     "metadata": {},
     "output_type": "execute_result"
    }
   ],
   "source": [
    "fin_labels = np.exp([i.item() for i in labs])\n",
    "fin_labels"
   ]
  },
  {
   "cell_type": "code",
   "execution_count": 58,
   "metadata": {
    "scrolled": true
   },
   "outputs": [
    {
     "data": {
      "text/plain": [
       "array([ 305.83735938,  204.95278908,  371.19836742, ..., 3134.16916882,\n",
       "       3122.60528115, 2404.10299168])"
      ]
     },
     "execution_count": 58,
     "metadata": {},
     "output_type": "execute_result"
    }
   ],
   "source": [
    "fin_preds=np.array(predicted_arr)\n",
    "fin_preds"
   ]
  },
  {
   "cell_type": "code",
   "execution_count": 63,
   "metadata": {},
   "outputs": [
    {
     "name": "stdout",
     "output_type": "stream",
     "text": [
      "RMSE:  1195.9057276522199\n"
     ]
    }
   ],
   "source": [
    "from sklearn.metrics import mean_squared_error, r2_score\n",
    "mse = mean_squared_error(fin_labels,fin_preds)\n",
    "rmse = math.sqrt(mse)\n",
    "print(\"RMSE: \", rmse)"
   ]
  },
  {
   "cell_type": "code",
   "execution_count": 64,
   "metadata": {},
   "outputs": [
    {
     "name": "stdout",
     "output_type": "stream",
     "text": [
      "R2:  0.41600950823682226\n"
     ]
    }
   ],
   "source": [
    "r2 = r2_score(fin_labels,fin_preds)\n",
    "print(\"R2: \",r2)"
   ]
  },
  {
   "cell_type": "code",
   "execution_count": 67,
   "metadata": {},
   "outputs": [
    {
     "data": {
      "text/plain": [
       "<matplotlib.legend.Legend at 0x7f2fc0cffa30>"
      ]
     },
     "execution_count": 67,
     "metadata": {},
     "output_type": "execute_result"
    },
    {
     "data": {
      "image/png": "[encoded data removed]",
      "text/plain": [
       "<Figure size 640x480 with 1 Axes>"
      ]
     },
     "metadata": {},
     "output_type": "display_data"
    }
   ],
   "source": [
    "plt.plot(fin_labels)\n",
    "plt.plot(fin_preds)\n",
    "plt.legend(['Labels','Preds'])"
   ]
  },
  {
   "cell_type": "code",
   "execution_count": 77,
   "metadata": {},
   "outputs": [],
   "source": [
    "sorted_indices = np.argsort(fin_labels)\n",
    "si = sorted_indices.tolist()"
   ]
  },
  {
   "cell_type": "code",
   "execution_count": 83,
   "metadata": {},
   "outputs": [
    {
     "data": {
      "text/plain": [
       "<matplotlib.legend.Legend at 0x7f2fc0dbb0a0>"
      ]
     },
     "execution_count": 83,
     "metadata": {},
     "output_type": "execute_result"
    },
    {
     "data": {
      "image/png": "[encoded data removed]",
      "text/plain": [
       "<Figure size 640x480 with 1 Axes>"
      ]
     },
     "metadata": {},
     "output_type": "display_data"
    }
   ],
   "source": [
    "# Sort array1 in increasing order\n",
    "sorted_fin_labels = fin_labels[si]\n",
    "\n",
    "# Use the sorted indices to rearrange array2\n",
    "sorted_fin_preds = fin_preds[si]\n",
    "\n",
    "plt.plot(sorted_fin_labels)\n",
    "plt.plot(sorted_fin_preds)\n",
    "plt.legend(['Labels','Preds'])"
   ]
  },
  {
   "cell_type": "markdown",
   "metadata": {},
   "source": [
    "## Miscellaneous"
   ]
  },
  {
   "cell_type": "code",
   "execution_count": null,
   "metadata": {
    "colab": {
     "base_uri": "https://localhost:8080/"
    },
    "id": "7oXk5gK3gBTW",
    "outputId": "a81c96c5-7fe0-4787-ca97-213fdc241e44"
   },
   "outputs": [
    {
     "name": "stdout",
     "output_type": "stream",
     "text": [
      "Validation Loss: 130.65498633501005\n"
     ]
    }
   ],
   "source": [
    "model_2.eval()\n",
    "val_loss = 0.0\n",
    "with torch.no_grad():\n",
    "    for batch in val_loader:\n",
    "        input_ids = batch['input_ids'].to(device)\n",
    "        attention_mask = batch['attention_mask'].to(device)\n",
    "        labels = batch['labels'].to(device)\n",
    "\n",
    "        outputs = model_2(input_ids=input_ids, attention_mask=attention_mask, labels=labels)\n",
    "        loss = outputs.loss\n",
    "\n",
    "        val_loss += loss.item()\n",
    "\n",
    "average_val_loss = val_loss / len(val_loader)\n",
    "print(f\"Validation Loss: {average_val_loss}\")"
   ]
  },
  {
   "cell_type": "code",
   "execution_count": null,
   "metadata": {
    "colab": {
     "base_uri": "https://localhost:8080/",
     "height": 124
    },
    "id": "ajICBYLgrauU",
    "outputId": "bbe65316-2a8a-4ba9-ad6b-9e8767ca673a"
   },
   "outputs": [
    {
     "data": {
      "text/html": [
       "<style>#sk-container-id-3 {color: black;background-color: white;}#sk-container-id-3 pre{padding: 0;}#sk-container-id-3 div.sk-toggleable {background-color: white;}#sk-container-id-3 label.sk-toggleable__label {cursor: pointer;display: block;width: 100%;margin-bottom: 0;padding: 0.3em;box-sizing: border-box;text-align: center;}#sk-container-id-3 label.sk-toggleable__label-arrow:before {content: \"▸\";float: left;margin-right: 0.25em;color: #696969;}#sk-container-id-3 label.sk-toggleable__label-arrow:hover:before {color: black;}#sk-container-id-3 div.sk-estimator:hover label.sk-toggleable__label-arrow:before {color: black;}#sk-container-id-3 div.sk-toggleable__content {max-height: 0;max-width: 0;overflow: hidden;text-align: left;background-color: #f0f8ff;}#sk-container-id-3 div.sk-toggleable__content pre {margin: 0.2em;color: black;border-radius: 0.25em;background-color: #f0f8ff;}#sk-container-id-3 input.sk-toggleable__control:checked~div.sk-toggleable__content {max-height: 200px;max-width: 100%;overflow: auto;}#sk-container-id-3 input.sk-toggleable__control:checked~label.sk-toggleable__label-arrow:before {content: \"▾\";}#sk-container-id-3 div.sk-estimator input.sk-toggleable__control:checked~label.sk-toggleable__label {background-color: #d4ebff;}#sk-container-id-3 div.sk-label input.sk-toggleable__control:checked~label.sk-toggleable__label {background-color: #d4ebff;}#sk-container-id-3 input.sk-hidden--visually {border: 0;clip: rect(1px 1px 1px 1px);clip: rect(1px, 1px, 1px, 1px);height: 1px;margin: -1px;overflow: hidden;padding: 0;position: absolute;width: 1px;}#sk-container-id-3 div.sk-estimator {font-family: monospace;background-color: #f0f8ff;border: 1px dotted black;border-radius: 0.25em;box-sizing: border-box;margin-bottom: 0.5em;}#sk-container-id-3 div.sk-estimator:hover {background-color: #d4ebff;}#sk-container-id-3 div.sk-parallel-item::after {content: \"\";width: 100%;border-bottom: 1px solid gray;flex-grow: 1;}#sk-container-id-3 div.sk-label:hover label.sk-toggleable__label {background-color: #d4ebff;}#sk-container-id-3 div.sk-serial::before {content: \"\";position: absolute;border-left: 1px solid gray;box-sizing: border-box;top: 0;bottom: 0;left: 50%;z-index: 0;}#sk-container-id-3 div.sk-serial {display: flex;flex-direction: column;align-items: center;background-color: white;padding-right: 0.2em;padding-left: 0.2em;position: relative;}#sk-container-id-3 div.sk-item {position: relative;z-index: 1;}#sk-container-id-3 div.sk-parallel {display: flex;align-items: stretch;justify-content: center;background-color: white;position: relative;}#sk-container-id-3 div.sk-item::before, #sk-container-id-3 div.sk-parallel-item::before {content: \"\";position: absolute;border-left: 1px solid gray;box-sizing: border-box;top: 0;bottom: 0;left: 50%;z-index: -1;}#sk-container-id-3 div.sk-parallel-item {display: flex;flex-direction: column;z-index: 1;position: relative;background-color: white;}#sk-container-id-3 div.sk-parallel-item:first-child::after {align-self: flex-end;width: 50%;}#sk-container-id-3 div.sk-parallel-item:last-child::after {align-self: flex-start;width: 50%;}#sk-container-id-3 div.sk-parallel-item:only-child::after {width: 0;}#sk-container-id-3 div.sk-dashed-wrapped {border: 1px dashed gray;margin: 0 0.4em 0.5em 0.4em;box-sizing: border-box;padding-bottom: 0.4em;background-color: white;}#sk-container-id-3 div.sk-label label {font-family: monospace;font-weight: bold;display: inline-block;line-height: 1.2em;}#sk-container-id-3 div.sk-label-container {text-align: center;}#sk-container-id-3 div.sk-container {/* jupyter's `normalize.less` sets `[hidden] { display: none; }` but bootstrap.min.css set `[hidden] { display: none !important; }` so we also need the `!important` here to be able to override the default hidden behavior on the sphinx rendered scikit-learn.org. See: https://github.com/scikit-learn/scikit-learn/issues/21755 */display: inline-block !important;position: relative;}#sk-container-id-3 div.sk-text-repr-fallback {display: none;}</style><div id=\"sk-container-id-3\" class=\"sk-top-container\"><div class=\"sk-text-repr-fallback\"><pre>Pipeline(steps=[(&#x27;tfidf&#x27;, TfidfVectorizer()), (&#x27;clf&#x27;, MultinomialNB())])</pre><b>In a Jupyter environment, please rerun this cell to show the HTML representation or trust the notebook. <br />On GitHub, the HTML representation is unable to render, please try loading this page with nbviewer.org.</b></div><div class=\"sk-container\" hidden><div class=\"sk-item sk-dashed-wrapped\"><div class=\"sk-label-container\"><div class=\"sk-label sk-toggleable\"><input class=\"sk-toggleable__control sk-hidden--visually\" id=\"sk-estimator-id-7\" type=\"checkbox\" ><label for=\"sk-estimator-id-7\" class=\"sk-toggleable__label sk-toggleable__label-arrow\">Pipeline</label><div class=\"sk-toggleable__content\"><pre>Pipeline(steps=[(&#x27;tfidf&#x27;, TfidfVectorizer()), (&#x27;clf&#x27;, MultinomialNB())])</pre></div></div></div><div class=\"sk-serial\"><div class=\"sk-item\"><div class=\"sk-estimator sk-toggleable\"><input class=\"sk-toggleable__control sk-hidden--visually\" id=\"sk-estimator-id-8\" type=\"checkbox\" ><label for=\"sk-estimator-id-8\" class=\"sk-toggleable__label sk-toggleable__label-arrow\">TfidfVectorizer</label><div class=\"sk-toggleable__content\"><pre>TfidfVectorizer()</pre></div></div></div><div class=\"sk-item\"><div class=\"sk-estimator sk-toggleable\"><input class=\"sk-toggleable__control sk-hidden--visually\" id=\"sk-estimator-id-9\" type=\"checkbox\" ><label for=\"sk-estimator-id-9\" class=\"sk-toggleable__label sk-toggleable__label-arrow\">MultinomialNB</label><div class=\"sk-toggleable__content\"><pre>MultinomialNB()</pre></div></div></div></div></div></div></div>"
      ],
      "text/plain": [
       "Pipeline(steps=[('tfidf', TfidfVectorizer()), ('clf', MultinomialNB())])"
      ]
     },
     "execution_count": 22,
     "metadata": {},
     "output_type": "execute_result"
    }
   ],
   "source": [
    "from sklearn.feature_extraction.text import TfidfVectorizer\n",
    "from sklearn.naive_bayes import MultinomialNB\n",
    "from sklearn.pipeline import Pipeline\n",
    "\n",
    "model_0 = Pipeline([\n",
    "    (\"tfidf\", TfidfVectorizer()),\n",
    "    (\"clf\", MultinomialNB())\n",
    "])\n",
    "\n",
    "model_0.fit(train_features, train_classes)"
   ]
  },
  {
   "cell_type": "code",
   "execution_count": null,
   "metadata": {
    "id": "ZCzAyXBp_pRH"
   },
   "outputs": [],
   "source": [
    "preds = model_0.predict(val_features)"
   ]
  },
  {
   "cell_type": "code",
   "execution_count": null,
   "metadata": {
    "id": "JYFD0OfWCOES"
   },
   "outputs": [],
   "source": [
    "model_1 = torch.load('/content/drive/MyDrive/model_1.pth')\n",
    "model_2 = torch.load('/content/drive/MyDrive/model_2.pth')\n",
    "model_3 = torch.load('/content/drive/MyDrive/model_3.pth')"
   ]
  },
  {
   "cell_type": "code",
   "execution_count": null,
   "metadata": {
    "colab": {
     "base_uri": "https://localhost:8080/"
    },
    "id": "MYGJPtOUCDzQ",
    "outputId": "f51b8976-e127-43e2-9f0c-cb63641e6873",
    "scrolled": true
   },
   "outputs": [],
   "source": [
    "tokenizer = RobertaTokenizer.from_pretrained('roberta-base')\n",
    "\n",
    "device = torch.device('cuda' if torch.cuda.is_available() else 'cpu')\n",
    "model_1.to(device)\n",
    "model_2.to(device)\n",
    "model_3.to(device)\n",
    "\n",
    "model_1.eval()\n",
    "model_2.eval()\n",
    "model_3.eval()\n",
    "\n",
    "class CustomRegressionDataset(Dataset):\n",
    "    def __init__(self, texts, labels, tokenizer, max_length):\n",
    "        self.texts = texts\n",
    "        self.labels = labels\n",
    "        self.tokenizer = tokenizer\n",
    "        self.max_length = max_length\n",
    "\n",
    "    def __len__(self):\n",
    "        return len(self.texts)\n",
    "\n",
    "    def __getitem__(self, idx):\n",
    "        text = str(self.texts[idx])\n",
    "        label = float(self.labels[idx])\n",
    "        encoding = self.tokenizer.encode_plus(\n",
    "            text,\n",
    "            add_special_tokens=True,\n",
    "            max_length=self.max_length,\n",
    "            return_token_type_ids=False,\n",
    "            padding='max_length',\n",
    "            truncation=True,\n",
    "            return_attention_mask=True,\n",
    "            return_tensors='pt'\n",
    "        )\n",
    "        return {\n",
    "            'input_ids': encoding['input_ids'].flatten(),\n",
    "            'attention_mask': encoding['attention_mask'].flatten(),\n",
    "            'labels': torch.tensor(label, dtype=torch.float32)\n",
    "        }\n",
    "\n",
    "val_texts = val_content\n",
    "\n",
    "val_dataset = CustomRegressionDataset(val_texts, val_labels, tokenizer, max_length=128)\n",
    "val_loader = DataLoader(val_dataset, batch_size=1)\n",
    "\n",
    "val_loss = 0.0\n",
    "\n",
    "cnt = 0\n",
    "\n",
    "with torch.no_grad():\n",
    "    for batch in val_loader:\n",
    "        input_ids = batch['input_ids'].to(device)\n",
    "        attention_mask = batch['attention_mask'].to(device)\n",
    "        labels = batch['labels'].to(device)\n",
    "\n",
    "        if val_classes[cnt] == 0:\n",
    "          outputs = model_1(input_ids=input_ids, attention_mask=attention_mask, labels=labels)\n",
    "          loss = outputs.loss\n",
    "        if val_classes[cnt] == 1:\n",
    "          outputs = model_2(input_ids=input_ids, attention_mask=attention_mask, labels=labels)\n",
    "          loss = outputs.loss\n",
    "        if val_classes[cnt] == 2:\n",
    "          outputs = model_3(input_ids=input_ids, attention_mask=attention_mask, labels=labels)\n",
    "          loss = outputs.loss\n",
    "\n",
    "        val_loss += loss.item()\n",
    "        cnt += 1\n",
    "        # print(cnt)\n",
    "\n",
    "average_val_loss = val_loss / len(val_loader)\n",
    "print(f\"Validation Loss: {average_val_loss}\")"
   ]
  }
 ],
 "metadata": {
  "accelerator": "GPU",
  "colab": {
   "gpuType": "T4",
   "provenance": []
  },
  "kernelspec": {
   "display_name": "Python 3 (ipykernel)",
   "language": "python",
   "name": "python3"
  },
  "language_info": {
   "codemirror_mode": {
    "name": "ipython",
    "version": 3
   },
   "file_extension": ".py",
   "mimetype": "text/x-python",
   "name": "python",
   "nbconvert_exporter": "python",
   "pygments_lexer": "ipython3",
   "version": "3.10.13"
  }
 },
 "nbformat": 4,
 "nbformat_minor": 4
}
