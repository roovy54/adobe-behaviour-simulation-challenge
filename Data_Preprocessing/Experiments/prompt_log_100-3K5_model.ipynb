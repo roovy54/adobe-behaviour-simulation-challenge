{
 "cells": [
  {
   "cell_type": "code",
   "execution_count": 3,
   "metadata": {},
   "outputs": [],
   "source": [
    "from datetime import datetime\n",
    "import numpy as np\n",
    "import pandas as pd\n",
    "import torch\n",
    "from torch.optim.lr_scheduler import StepLR"
   ]
  },
  {
   "cell_type": "code",
   "execution_count": null,
   "metadata": {},
   "outputs": [],
   "source": [
    "# from google.colab import drive\n",
    "# drive.mount(\"/content\")"
   ]
  },
  {
   "cell_type": "code",
   "execution_count": null,
   "metadata": {},
   "outputs": [],
   "source": [
    "# train_df = pd.read_csv(\"/content/drive/Mydrive/train_full.csv\")\n",
    "# val_df = pd.read_csv(\"/content/drive/Mydrive/val_full.csv\")"
   ]
  },
  {
   "cell_type": "code",
   "execution_count": 4,
   "metadata": {
    "id": "3L8DTmNnLmbV"
   },
   "outputs": [],
   "source": [
    "train_df = pd.read_csv(\"train_full.csv\")\n",
    "val_df = pd.read_csv(\"val_full.csv\")"
   ]
  },
  {
   "cell_type": "code",
   "execution_count": 5,
   "metadata": {},
   "outputs": [
    {
     "data": {
      "text/plain": [
       "Index(['text_status', 'text', 'languages', 'image_url_status', 'image_url',\n",
       "       'video_thumbnail_status', 'video_thumbnail_url', 'video_url_status',\n",
       "       'video_url', 'video_bitrate', 'video_duration', 'video_views',\n",
       "       'gif_thumbnail_status', 'gif_thumbnail_url', 'gif_url_status',\n",
       "       'gif_url', 'gif_bitrate', 'year', 'month', 'day_of_year', 'day_of_week',\n",
       "       'date', 'username', 'inferred company', 'likes'],\n",
       "      dtype='object')"
      ]
     },
     "execution_count": 5,
     "metadata": {},
     "output_type": "execute_result"
    }
   ],
   "source": [
    "train_df.columns"
   ]
  },
  {
   "cell_type": "code",
   "execution_count": 6,
   "metadata": {
    "id": "2o-v3haINCaR"
   },
   "outputs": [],
   "source": [
    "train_content = train_df[\"text\"].values\n",
    "val_content = val_df[\"text\"].values\n",
    "\n",
    "train_views = train_df[\"video_views\"].values\n",
    "val_views = val_df[\"video_views\"].values\n",
    "\n",
    "train_durations = train_df[\"video_duration\"].values\n",
    "val_durations = val_df[\"video_duration\"].values\n",
    "\n",
    "train_users = train_df[\"username\"].values\n",
    "val_users = val_df[\"username\"].values\n",
    "\n",
    "train_labels = train_df[\"likes\"].values\n",
    "val_labels = val_df[\"likes\"].values\n",
    "\n",
    "train_hasvids = np.array(train_df[\"video_url_status\"].values != \"Link does not exist\")\n",
    "val_hasvids = np.array(val_df[\"video_url_status\"].values != \"Link does not exist\")\n",
    "\n",
    "train_hasimgs = np.array(train_df[\"image_url_status\"].values != \"Link does not exist\")\n",
    "val_hasimgs = np.array(val_df[\"image_url_status\"].values != \"Link does not exist\")\n",
    "\n",
    "train_hasgifs = np.array(train_df[\"gif_url_status\"].values != \"Link does not exist\")\n",
    "val_hasgifs = np.array(val_df[\"gif_url_status\"].values != \"Link does not exist\")\n",
    "\n",
    "# train_captions = train_df[\"captions\"].values\n",
    "# val_captions = val_df[\"captions\"].values\n",
    "\n",
    "train_dates = train_df['date'].values\n",
    "val_dates = val_df['date'].values"
   ]
  },
  {
   "cell_type": "markdown",
   "metadata": {
    "id": "B-qTe6eu98Su"
   },
   "source": [
    "# Model Training"
   ]
  },
  {
   "cell_type": "code",
   "execution_count": 7,
   "metadata": {
    "id": "HccQeM53UU_b"
   },
   "outputs": [],
   "source": [
    "train_log_labels = []\n",
    "for i in range(len(train_labels)):\n",
    "  train_log_labels.append(np.log(1+train_labels[i]))"
   ]
  },
  {
   "cell_type": "code",
   "execution_count": 6,
   "metadata": {
    "id": "yaVN5oYwWj0y"
   },
   "outputs": [],
   "source": [
    "val_log_labels = []\n",
    "for i in range(len(val_labels)):\n",
    "  val_log_labels.append(np.log(1+val_labels[i]))"
   ]
  },
  {
   "cell_type": "code",
   "execution_count": 7,
   "metadata": {},
   "outputs": [],
   "source": [
    "LN100 = 4.60517018599\n",
    "LN4K = 8.2940496401\n",
    "LN3K5 = 8.16051824748\n",
    "LN10K = 9.21034037198"
   ]
  },
  {
   "cell_type": "code",
   "execution_count": 8,
   "metadata": {
    "colab": {
     "base_uri": "https://localhost:8080/"
    },
    "id": "Aq-ehal_VH5Z",
    "outputId": "a8defd91-96ea-4a1c-8474-3a9158537084"
   },
   "outputs": [],
   "source": [
    "train_content_set_1 = []\n",
    "train_labels_set_1 = []\n",
    "train_views_set_1 = []\n",
    "train_users_set_1 = []\n",
    "train_duration_set_1 = []\n",
    "train_hasvid_set_1 = []\n",
    "train_hasimg_set_1 = []\n",
    "train_hasgifs_set_1 = []\n",
    "train_date_set_1 = []\n",
    "train_captions_set_1 = []\n",
    "\n",
    "train_content_set_2 = []\n",
    "train_labels_set_2 = []\n",
    "train_views_set_2 = []\n",
    "train_users_set_2 = []\n",
    "train_duration_set_2 = []\n",
    "train_hasvid_set_2 = []\n",
    "train_hasimg_set_2 = []\n",
    "train_hasgifs_set_2 = []\n",
    "train_date_set_2 = []\n",
    "train_captions_set_2 = []\n",
    "\n",
    "# train_content_set_3 = []\n",
    "# train_labels_set_3 = []\n",
    "# train_views_set_3 = []\n",
    "\n",
    "# train_content_set_4 = []\n",
    "# train_labels_set_4 = []\n",
    "# train_views_set_4 = []\n",
    "\n",
    "train_content_set_5 = []\n",
    "train_labels_set_5 = []\n",
    "train_views_set_5 = []\n",
    "train_users_set_5 = []\n",
    "train_duration_set_5 = []\n",
    "train_hasvid_set_5 = []\n",
    "train_hasimg_set_5 = []\n",
    "train_hasgifs_set_5 = []\n",
    "train_date_set_5 = []\n",
    "train_captions_set_5 = []\n",
    "\n",
    "val_content_set_1 = []\n",
    "val_labels_set_1 = []\n",
    "val_views_set_1 = []\n",
    "val_users_set_1 = []\n",
    "val_duration_set_1 = []\n",
    "val_hasvid_set_1 = []\n",
    "val_hasimg_set_1 = []\n",
    "val_hasgifs_set_1 = []\n",
    "val_date_set_1 = []\n",
    "val_captions_set_1 = []\n",
    "\n",
    "val_content_set_2 = []\n",
    "val_labels_set_2 = []\n",
    "val_views_set_2 = []\n",
    "val_users_set_2 = []\n",
    "val_duration_set_2 = []\n",
    "val_hasvid_set_2 = []\n",
    "val_hasimg_set_2 = []\n",
    "val_hasgifs_set_2 = []\n",
    "val_date_set_2 = []\n",
    "val_captions_set_2 = []\n",
    "\n",
    "# val_content_set_3 = []\n",
    "# val_labels_set_3 = []\n",
    "# val_views_set_3 = []\n",
    "# val_content_set_4 = []\n",
    "# val_labels_set_4 = []\n",
    "# val_views_set_4 = []\n",
    "\n",
    "val_content_set_5 = []\n",
    "val_labels_set_5 = []\n",
    "val_views_set_5 = []\n",
    "val_users_set_5 = []\n",
    "val_duration_set_5 = []\n",
    "val_hasvid_set_5 = []\n",
    "val_hasimg_set_5 = []\n",
    "val_hasgifs_set_5 = []\n",
    "val_date_set_5 = []\n",
    "val_captions_set_5 = []\n",
    "\n",
    "train_classes = []\n",
    "val_classes = []"
   ]
  },
  {
   "cell_type": "code",
   "execution_count": 9,
   "metadata": {},
   "outputs": [
    {
     "data": {
      "text/plain": [
       "(114309, 86406, 8086)"
      ]
     },
     "execution_count": 9,
     "metadata": {},
     "output_type": "execute_result"
    }
   ],
   "source": [
    "for i in range(len(train_log_labels)):\n",
    "  if train_log_labels[i] <= LN100:\n",
    "    train_classes.append(0)\n",
    "    train_content_set_1.append(train_content[i])\n",
    "    train_views_set_1.append(train_views[i])\n",
    "    train_users_set_1.append(train_users[i])\n",
    "    train_labels_set_1.append(train_log_labels[i])\n",
    "    train_duration_set_1.append(train_durations[i])\n",
    "    train_hasvid_set_1.append(train_hasvids[i])\n",
    "    train_hasimg_set_1.append(train_hasimgs[i])\n",
    "    train_hasgifs_set_1.append(train_hasgifs[i])\n",
    "    train_date_set_1.append(train_dates[i])\n",
    "    # train_captions_set_1.append(train_captions[i])\n",
    "\n",
    "  elif train_log_labels[i] > LN100 and train_log_labels[i] <= LN3K5:\n",
    "    train_classes.append(1)\n",
    "    train_content_set_2.append(train_content[i])\n",
    "    train_views_set_2.append(train_views[i])\n",
    "    train_users_set_2.append(train_users[i])\n",
    "    train_labels_set_2.append(train_log_labels[i])\n",
    "    train_duration_set_2.append(train_durations[i])\n",
    "    train_hasvid_set_2.append(train_hasvids[i])\n",
    "    train_hasimg_set_2.append(train_hasimgs[i])\n",
    "    train_hasgifs_set_2.append(train_hasgifs[i])\n",
    "    train_date_set_2.append(train_dates[i])\n",
    "    # train_captions_set_2.append(train_captions[i])\n",
    "  \n",
    "  # elif train_log_labels[i] > 4.6 and train_log_labels[i] <= 6.9:\n",
    "  #   train_classes.append(2)\n",
    "  #   train_content_set_3.append(train_content[i])\n",
    "  #   train_labels_set_3.append(train_log_labels[i])\n",
    "  # elif train_log_labels[i] > 6.9 and train_log_labels[i] <= 9.2:\n",
    "  #   train_classes.append(3)\n",
    "  #   train_content_set_4.append(train_content[i])\n",
    "  #   train_labels_set_4.append(train_log_labels[i])\n",
    "  else:\n",
    "    train_classes.append(4)\n",
    "    train_content_set_5.append(train_content[i])\n",
    "    train_views_set_5.append(train_views[i])\n",
    "    train_users_set_5.append(train_users[i])\n",
    "    train_labels_set_5.append(train_log_labels[i])\n",
    "    train_duration_set_5.append(train_durations[i])\n",
    "    train_hasvid_set_5.append(train_hasvids[i])\n",
    "    train_hasimg_set_5.append(train_hasimgs[i])\n",
    "    train_hasgifs_set_5.append(train_hasgifs[i])\n",
    "    train_date_set_5.append(train_dates[i])\n",
    "    # train_captions_set_5.append(train_captions[i])\n",
    "\n",
    "for i in range(len(val_log_labels)):\n",
    "  if val_log_labels[i] <= LN100:\n",
    "    val_classes.append(0)\n",
    "    val_content_set_1.append(val_content[i])\n",
    "    val_views_set_1.append(val_views[i])\n",
    "    val_users_set_1.append(val_users[i])\n",
    "    val_labels_set_1.append(val_log_labels[i])\n",
    "    val_duration_set_1.append(val_durations[i])\n",
    "    val_hasvid_set_1.append(val_hasvids[i])\n",
    "    val_hasimg_set_1.append(val_hasimgs[i])\n",
    "    val_hasgifs_set_1.append(val_hasgifs[i])\n",
    "    val_date_set_1.append(val_dates[i])\n",
    "    # val_captions_set_1.append(val_captions[i])\n",
    "\n",
    "  elif val_log_labels[i] > LN100 and val_log_labels[i] <= LN3K5:\n",
    "    val_classes.append(1)\n",
    "    val_content_set_2.append(val_content[i])\n",
    "    val_views_set_2.append(val_views[i])\n",
    "    val_users_set_2.append(val_users[i])\n",
    "    val_labels_set_2.append(val_log_labels[i])\n",
    "    val_duration_set_2.append(val_durations[i])\n",
    "    val_hasvid_set_2.append(val_hasvids[i])\n",
    "    val_hasimg_set_2.append(val_hasimgs[i])\n",
    "    val_hasgifs_set_2.append(val_hasgifs[i])\n",
    "    val_date_set_2.append(val_dates[i])\n",
    "    # val_captions_set_2.append(val_captions[i])\n",
    "\n",
    "  # elif val_log_labels[i] > 4.6 and val_log_labels[i] <= 6.9:\n",
    "  #   val_classes.append(2)\n",
    "  #   val_content_set_3.append(val_content[i])\n",
    "  #   val_labels_set_3.append(val_log_labels[i])\n",
    "  # elif val_log_labels[i] > 6.9 and val_log_labels[i] <= 9.2:\n",
    "  #   val_classes.append(3)\n",
    "  #   val_content_set_4.append(val_content[i])\n",
    "  #   val_labels_set_4.append(val_log_labels[i])\n",
    "  else:\n",
    "    val_classes.append(4)\n",
    "    val_content_set_5.append(val_content[i])\n",
    "    val_views_set_5.append(val_views[i])\n",
    "    val_users_set_5.append(val_users[i])\n",
    "    val_labels_set_5.append(val_log_labels[i])\n",
    "    val_duration_set_5.append(val_durations[i])\n",
    "    val_hasvid_set_5.append(val_hasvids[i])\n",
    "    val_hasimg_set_5.append(val_hasimgs[i])\n",
    "    val_hasgifs_set_5.append(val_hasgifs[i])\n",
    "    val_date_set_5.append(val_dates[i])\n",
    "    # val_captions_set_5.append(val_captions[i])\n",
    "    \n",
    "# len(train_labels_set_3), len(train_labels_set_4), \n",
    "len(train_labels_set_1), len(train_labels_set_2), len(train_labels_set_5)"
   ]
  },
  {
   "cell_type": "code",
   "execution_count": 10,
   "metadata": {
    "colab": {
     "base_uri": "https://localhost:8080/"
    },
    "id": "xWZSGYEvW5Rc",
    "outputId": "b09a32a0-4c16-41d6-fe0a-197e2e3d9fb2"
   },
   "outputs": [
    {
     "data": {
      "text/plain": [
       "(16513, 12300, 1114)"
      ]
     },
     "execution_count": 10,
     "metadata": {},
     "output_type": "execute_result"
    }
   ],
   "source": [
    "len(val_labels_set_1), len(val_labels_set_2), len(val_labels_set_5)"
   ]
  },
  {
   "cell_type": "code",
   "execution_count": 11,
   "metadata": {
    "colab": {
     "base_uri": "https://localhost:8080/"
    },
    "id": "oF1fJCBcPQgW",
    "outputId": "b42fcd6c-4280-41a1-97f9-274a3d8228a8"
   },
   "outputs": [
    {
     "name": "stdout",
     "output_type": "stream",
     "text": [
      "Collecting emoji==0.6.0\n",
      "  Using cached emoji-0.6.0-py3-none-any.whl\n",
      "Installing collected packages: emoji\n",
      "Successfully installed emoji-0.6.0\n",
      "\u001b[33mWARNING: Running pip as the 'root' user can result in broken permissions and conflicting behaviour with the system package manager. It is recommended to use a virtual environment instead: https://pip.pypa.io/warnings/venv\u001b[0m\u001b[33m\n",
      "\u001b[0m"
     ]
    }
   ],
   "source": [
    "import torch\n",
    "# from transformers import RobertaTokenizer, RobertaForSequenceClassification\n",
    "from transformers import AutoTokenizer, AutoModel, AutoModelForSequenceClassification\n",
    "from torch.utils.data import DataLoader, Dataset\n",
    "from sklearn.model_selection import train_test_split\n",
    "import torch.nn as nn\n",
    "import torch.optim as optim\n",
    "from tqdm import tqdm\n",
    "!pip3 install emoji==0.6.0"
   ]
  },
  {
   "cell_type": "code",
   "execution_count": 12,
   "metadata": {},
   "outputs": [],
   "source": [
    "def number_to_words(number):\n",
    "    if 0 <= number <= 999999:\n",
    "        ones = [\"\", \"One\", \"Two\", \"Three\", \"Four\", \"Five\", \"Six\", \"Seven\", \"Eight\", \"Nine\"]\n",
    "        teens = [\"\", \"Eleven\", \"Twelve\", \"Thirteen\", \"Fourteen\", \"Fifteen\", \"Sixteen\", \"Seventeen\", \"Eighteen\", \"Nineteen\"]\n",
    "        tens = [\"\", \"Ten\", \"Twenty\", \"Thirty\", \"Forty\", \"Fifty\", \"Sixty\", \"Seventy\", \"Eighty\", \"Ninety\"]\n",
    "\n",
    "        def convert_below_thousand(num):\n",
    "            if num == 0:\n",
    "                return \"\"\n",
    "            elif num < 10:\n",
    "                return ones[num]\n",
    "            elif num==10:\n",
    "                return \"Ten\"\n",
    "            elif num < 20:\n",
    "                return teens[num - 10]\n",
    "            elif num < 100:\n",
    "                return tens[num // 10] + \" \" + convert_below_thousand(num % 10)\n",
    "            else:\n",
    "                return ones[num // 100] + \" Hundred \" + convert_below_thousand(num % 100)\n",
    "\n",
    "        if number == 0:\n",
    "            return \"Zero\"\n",
    "        else:\n",
    "            result = \"\"\n",
    "            if number // 1000 > 0:\n",
    "                result += convert_below_thousand(number // 1000) + \" Thousand \"\n",
    "            result += convert_below_thousand(number % 1000)\n",
    "            return result.strip()\n",
    "\n",
    "    else:\n",
    "        return \"Number out of range (0-500,000)\""
   ]
  },
  {
   "cell_type": "code",
   "execution_count": 35,
   "metadata": {},
   "outputs": [],
   "source": [
    "def construct_tweet_prompt(has_video, has_img, text, view, user):\n",
    "    prompt = \"The tweet content is \\\"\" + text + \"\\\"\"\n",
    "\n",
    "    if has_video:\n",
    "        try:\n",
    "            prompt += \" with the view count of the video being \" + number_to_words(int(view)) + \"(\" + view + \")\"\n",
    "        except:\n",
    "            pass\n",
    "    if has_image:\n",
    "        prompt += \" and it includes an image\"\n",
    "    else:\n",
    "        prompt+= \" but it does not include an image\"\n",
    "\n",
    "    prompt += \"!! The tweet is posted by \" + user\n",
    "\n",
    "    # date_obj = datetime.strptime(date, '%Y-%m-%d %H:%M:%S')\n",
    "    # date_in_words = date_obj.strftime('%A, %B %d, %Y %I:%M %p')\n",
    "    # prompt += \"It was posted on \" + date_in_words + \". How many likes did the tweet get?\"\n",
    "    prompt += \". How many likes did the tweet get?\"\n",
    "\n",
    "    return prompt"
   ]
  },
  {
   "cell_type": "code",
   "execution_count": 31,
   "metadata": {},
   "outputs": [],
   "source": [
    "# def construct_tweet_prompt(text, view, duration, user, has_video, has_image, date):\n",
    "#     prompt = \"The tweet content is: \\\"\" + text + \"\\\"\"\n",
    "#     prompt += \"! It is posted by the user named \" + user + \"!!! \"\n",
    "    \n",
    "#     if has_video:\n",
    "#         try:\n",
    "#             prompt += f\"The view count of the video being {number_to_words(int(view))} ({view})!!! The duration of the video is {duration} minutes\"\n",
    "#             # prompt += \" with the view count of the video being \" + number_to_words(int(view)) + \"(\" + view + \")!!! Also note that the duration of the video is \" + duration + \" minutes\"\n",
    "#         except:\n",
    "#             pass\n",
    "#     else:\n",
    "#         prompt += \" but it does not include a video\"\n",
    "\n",
    "#     if has_image:\n",
    "#         prompt += \", it includes an image\"\n",
    "#     else:\n",
    "#         prompt += \", it does not include an image\"\n",
    "\n",
    "#     # if captions!=\"not available\":\n",
    "#     #     prompt += \", it includes an image\"\n",
    "#     # else:\n",
    "#     #     prompt += \", it does not include an image\"\n",
    "        \n",
    "#     # prompt += \". The captions describing the media are \" + captions\n",
    "#     # if has_gif:\n",
    "#     #     prompt += \" but it includes a Graphics Interchange Format (GIF)\"\n",
    "#     # else:\n",
    "#     #     prompt += \" but it does not include a Graphics Interchange Format (GIF)\"\n",
    "\n",
    "#     date_obj = datetime.strptime(date, '%Y-%m-%d %H:%M:%S')\n",
    "#     date_in_words = date_obj.strftime('%A, %B %d, %Y %I:%M %p')\n",
    "#     prompt += \". It was posted on \" + date_in_words + \". How many likes did the tweet get?\"\n",
    "\n",
    "#     return prompt"
   ]
  },
  {
   "cell_type": "code",
   "execution_count": 17,
   "metadata": {},
   "outputs": [
    {
     "name": "stdout",
     "output_type": "stream",
     "text": [
      "The tweet content is \"Exciting tweet content\" with the view count of the video being Ten Thousand Two Hundred Forty(10240)!! The tweet is posted by user1. How many likes did the tweet get?\n"
     ]
    }
   ],
   "source": [
    "# Example usage:\n",
    "has_video = True\n",
    "has_image = False\n",
    "has_gif = True\n",
    "text = \"Exciting tweet content\"\n",
    "views = '10240'\n",
    "duration = '36.63'\n",
    "users = \"user1\"\n",
    "date = \"2023-01-15 12:30:00\"\n",
    "captions = \"These are sample captions\"\n",
    "\n",
    "# prompt = construct_tweet_prompt(text, views, duration, users, has_video, has_image, date, captions)\n",
    "print(construct_tweet_prompt(True, text, views, users))"
   ]
  },
  {
   "cell_type": "code",
   "execution_count": 39,
   "metadata": {},
   "outputs": [],
   "source": [
    "class CustomRegressionDataset(Dataset):\n",
    "    def __init__(self, dates, has_videos, has_images, texts, views, duration, users, labels, tokenizer, max_length):\n",
    "        self.texts = texts\n",
    "        self.views = views\n",
    "        self.users = users\n",
    "        self.labels = labels\n",
    "        self.tokenizer = tokenizer\n",
    "        self.max_length = max_length\n",
    "        self.has_videos = has_videos\n",
    "        self.has_images = has_images\n",
    "        self.dates = dates\n",
    "        self.duration = duration\n",
    "\n",
    "    def __len__(self):\n",
    "        return len(self.texts)\n",
    "\n",
    "    def __getitem__(self, idx):\n",
    "        # print(idx)\n",
    "        text = construct_tweet_prompt(self.has_videos[idx], self.has_images[idx], self.texts[idx], self.views[idx], self.users[idx])\n",
    "        # text = construct_tweet_prompt(self.texts[idx], self.views[idx], self.duration[idx], self.users[idx], self.has_videos[idx], self.has_images[idx], self.dates[idx])\n",
    "        # print(text)\n",
    "        label = float(self.labels[idx])\n",
    "        encoding = self.tokenizer.encode_plus(\n",
    "            text,\n",
    "            add_special_tokens=True,\n",
    "            max_length=self.max_length,\n",
    "            return_token_type_ids=False,\n",
    "            padding='max_length',\n",
    "            truncation=True,\n",
    "            return_attention_mask=True,\n",
    "            return_tensors='pt'\n",
    "        )\n",
    "        return {\n",
    "            'input_ids': encoding['input_ids'].flatten(),\n",
    "            'attention_mask': encoding['attention_mask'].flatten(),\n",
    "            'labels': torch.tensor(label, dtype=torch.float32)\n",
    "        }"
   ]
  },
  {
   "cell_type": "code",
   "execution_count": 40,
   "metadata": {
    "id": "r_Or8ayJNYb-"
   },
   "outputs": [],
   "source": [
    "# class CustomRegressionDataset(Dataset):\n",
    "#     def __init__(self, dates, captions, has_videos, has_images, texts, views, duration, users, labels, tokenizer, max_length):\n",
    "#         self.texts = texts\n",
    "#         self.views = views\n",
    "#         self.durations = duration\n",
    "#         self.users = users\n",
    "#         self.labels = labels\n",
    "#         self.tokenizer = tokenizer\n",
    "#         self.max_length = max_length\n",
    "#         self.has_videos = has_videos\n",
    "#         self.has_images = has_images\n",
    "#         # self.has_gifs = has_gifs\n",
    "#         self.captions = captions\n",
    "#         self.dates = dates\n",
    "\n",
    "#     def __len__(self):\n",
    "#         return len(self.texts)\n",
    "\n",
    "#     def __getitem__(self, idx):\n",
    "#         text = construct_tweet_prompt(self.texts[idx], self.views[idx], self.durations[idx], self.users[idx], self.has_videos[idx], self.has_images[idx], self.dates[idx], self.captions[idx])\n",
    "#         label = float(self.labels[idx])\n",
    "#         encoding = self.tokenizer.encode_plus(\n",
    "#             text,\n",
    "#             add_special_tokens=True,\n",
    "#             max_length=self.max_length,\n",
    "#             return_token_type_ids=False,\n",
    "#             padding='max_length',\n",
    "#             truncation=True,\n",
    "#             return_attention_mask=True,\n",
    "#             return_tensors='pt'\n",
    "#         )\n",
    "#         return {\n",
    "#             'input_ids': encoding['input_ids'].flatten(),\n",
    "#             'attention_mask': encoding['attention_mask'].flatten(),\n",
    "#             'labels': torch.tensor(label, dtype=torch.float32)\n",
    "#         }"
   ]
  },
  {
   "cell_type": "code",
   "execution_count": 41,
   "metadata": {
    "scrolled": true
   },
   "outputs": [
    {
     "name": "stderr",
     "output_type": "stream",
     "text": [
      "Some weights of RobertaForSequenceClassification were not initialized from the model checkpoint at vinai/bertweet-base and are newly initialized: ['classifier.dense.weight', 'classifier.out_proj.bias', 'classifier.out_proj.weight', 'classifier.dense.bias']\n",
      "You should probably TRAIN this model on a down-stream task to be able to use it for predictions and inference.\n"
     ]
    },
    {
     "data": {
      "text/plain": [
       "RobertaForSequenceClassification(\n",
       "  (roberta): RobertaModel(\n",
       "    (embeddings): RobertaEmbeddings(\n",
       "      (word_embeddings): Embedding(64001, 768, padding_idx=1)\n",
       "      (position_embeddings): Embedding(130, 768, padding_idx=1)\n",
       "      (token_type_embeddings): Embedding(1, 768)\n",
       "      (LayerNorm): LayerNorm((768,), eps=1e-05, elementwise_affine=True)\n",
       "      (dropout): Dropout(p=0.1, inplace=False)\n",
       "    )\n",
       "    (encoder): RobertaEncoder(\n",
       "      (layer): ModuleList(\n",
       "        (0-11): 12 x RobertaLayer(\n",
       "          (attention): RobertaAttention(\n",
       "            (self): RobertaSelfAttention(\n",
       "              (query): Linear(in_features=768, out_features=768, bias=True)\n",
       "              (key): Linear(in_features=768, out_features=768, bias=True)\n",
       "              (value): Linear(in_features=768, out_features=768, bias=True)\n",
       "              (dropout): Dropout(p=0.1, inplace=False)\n",
       "            )\n",
       "            (output): RobertaSelfOutput(\n",
       "              (dense): Linear(in_features=768, out_features=768, bias=True)\n",
       "              (LayerNorm): LayerNorm((768,), eps=1e-05, elementwise_affine=True)\n",
       "              (dropout): Dropout(p=0.1, inplace=False)\n",
       "            )\n",
       "          )\n",
       "          (intermediate): RobertaIntermediate(\n",
       "            (dense): Linear(in_features=768, out_features=3072, bias=True)\n",
       "            (intermediate_act_fn): GELUActivation()\n",
       "          )\n",
       "          (output): RobertaOutput(\n",
       "            (dense): Linear(in_features=3072, out_features=768, bias=True)\n",
       "            (LayerNorm): LayerNorm((768,), eps=1e-05, elementwise_affine=True)\n",
       "            (dropout): Dropout(p=0.1, inplace=False)\n",
       "          )\n",
       "        )\n",
       "      )\n",
       "    )\n",
       "  )\n",
       "  (classifier): RobertaClassificationHead(\n",
       "    (dense): Linear(in_features=768, out_features=768, bias=True)\n",
       "    (dropout): Dropout(p=0.1, inplace=False)\n",
       "    (out_proj): Linear(in_features=768, out_features=1, bias=True)\n",
       "  )\n",
       ")"
      ]
     },
     "execution_count": 41,
     "metadata": {},
     "output_type": "execute_result"
    }
   ],
   "source": [
    "tokenizer = AutoTokenizer.from_pretrained('vinai/bertweet-base')\n",
    "model = AutoModelForSequenceClassification.from_pretrained('vinai/bertweet-base', num_labels=1)\n",
    "\n",
    "criterion = nn.MSELoss()\n",
    "\n",
    "train_texts = train_content_set_2\n",
    "val_texts = val_content_set_2\n",
    "\n",
    "train_views = train_views_set_2\n",
    "val_views = val_views_set_2\n",
    "\n",
    "train_users = train_users_set_2\n",
    "val_users = val_users_set_2\n",
    "\n",
    "train_durations = train_duration_set_2\n",
    "val_durations = val_duration_set_2\n",
    "\n",
    "train_labels = train_labels_set_2\n",
    "val_labels = val_labels_set_2\n",
    "\n",
    "train_hasvids = train_hasvid_set_2\n",
    "val_hasvids = val_hasvid_set_2\n",
    "\n",
    "train_hasimgs = train_hasimg_set_2\n",
    "val_hasimgs = val_hasimg_set_2\n",
    "\n",
    "# train_hasgifs = train_hasgifs_set_1\n",
    "# val_hasgifs = val_hasgifs_set_1\n",
    "\n",
    "train_dates = train_date_set_2\n",
    "val_dates = val_date_set_2\n",
    "\n",
    "train_captions = train_captions_set_2\n",
    "val_captions = val_captions_set_2\n",
    "\n",
    "# train_dataset = CustomRegressionDataset(train_dates, train_captions, train_hasvids, train_hasimgs, train_texts, train_views, train_durations, train_users, train_labels, tokenizer, max_length=128)\n",
    "# val_dataset = CustomRegressionDataset(val_dates, val_captions, val_hasvids, val_hasimgs, val_texts, val_views, val_durations, val_users, val_labels, tokenizer, max_length=128)\n",
    "\n",
    "train_dataset = CustomRegressionDataset(train_dates, train_hasvids, train_hasimgs, train_texts, train_views, train_durations, train_users, train_labels, tokenizer, max_length=128)\n",
    "val_dataset = CustomRegressionDataset(val_dates, val_hasvids, val_hasimgs, val_texts, val_views, val_durations, val_users, val_labels, tokenizer, max_length=128)\n",
    "\n",
    "train_loader = DataLoader(train_dataset, batch_size=32, shuffle=True)\n",
    "val_loader = DataLoader(val_dataset, batch_size=32)\n",
    "\n",
    "device = torch.device('cuda' if torch.cuda.is_available() else 'cpu')\n",
    "model.to(device)"
   ]
  },
  {
   "cell_type": "code",
   "execution_count": 42,
   "metadata": {
    "colab": {
     "base_uri": "https://localhost:8080/",
     "height": 462
    },
    "id": "CW4NnNmadZgY",
    "outputId": "b1abc928-4060-4745-ac62-8e4b36e9d0a1",
    "scrolled": true
   },
   "outputs": [
    {
     "name": "stderr",
     "output_type": "stream",
     "text": [
      "Epoch 1/1: 100%|██████████| 2701/2701 [14:10<00:00,  3.17batch/s, loss=1.3] "
     ]
    },
    {
     "name": "stdout",
     "output_type": "stream",
     "text": [
      "Epoch [1/1] Loss: 1.2957609075555003\n"
     ]
    },
    {
     "name": "stderr",
     "output_type": "stream",
     "text": [
      "\n"
     ]
    }
   ],
   "source": [
    "num_epochs = 1\n",
    "optimizer = optim.Adam(model.parameters(), lr=1e-5)\n",
    "# scheduler = StepLR(optimizer, step_size=456, gamma=1/3)\n",
    "\n",
    "for epoch in range(num_epochs):\n",
    "    model.train()\n",
    "    running_loss = 0.0\n",
    "    with tqdm(total=len(train_loader), desc=f\"Epoch {epoch + 1}/{num_epochs}\", unit='batch') as progress_bar:\n",
    "        for batch in train_loader:\n",
    "            input_ids = batch['input_ids'].to(device)\n",
    "            attention_mask = batch['attention_mask'].to(device)\n",
    "            labels = batch['labels'].to(device)\n",
    "\n",
    "            optimizer.zero_grad()\n",
    "\n",
    "            outputs = model(input_ids=input_ids, attention_mask=attention_mask, labels=labels)\n",
    "            loss = outputs.loss\n",
    "\n",
    "            loss.backward()\n",
    "            optimizer.step()\n",
    "            # scheduler.step()\n",
    "\n",
    "            running_loss += loss.item()\n",
    "            progress_bar.set_postfix({'loss': running_loss / (progress_bar.n + 1)})\n",
    "            progress_bar.update(1)\n",
    "\n",
    "    epoch_loss = running_loss / len(train_loader)\n",
    "    print(f\"Epoch [{epoch + 1}/{num_epochs}] Loss: {epoch_loss}\")"
   ]
  },
  {
   "cell_type": "code",
   "execution_count": 8,
   "metadata": {
    "scrolled": true
   },
   "outputs": [
    {
     "ename": "NameError",
     "evalue": "name 'model' is not defined",
     "output_type": "error",
     "traceback": [
      "\u001b[0;31m---------------------------------------------------------------------------\u001b[0m",
      "\u001b[0;31mNameError\u001b[0m                                 Traceback (most recent call last)",
      "Cell \u001b[0;32mIn[8], line 1\u001b[0m\n\u001b[0;32m----> 1\u001b[0m \u001b[43mmodel\u001b[49m\u001b[38;5;241m.\u001b[39meval()\n\u001b[1;32m      2\u001b[0m val_loss \u001b[38;5;241m=\u001b[39m \u001b[38;5;241m0.0\u001b[39m\n\u001b[1;32m      3\u001b[0m \u001b[38;5;28;01mwith\u001b[39;00m torch\u001b[38;5;241m.\u001b[39mno_grad():\n",
      "\u001b[0;31mNameError\u001b[0m: name 'model' is not defined"
     ]
    }
   ],
   "source": [
    "model.eval()\n",
    "val_loss = 0.0\n",
    "with torch.no_grad():\n",
    "    for batch in val_loader:\n",
    "        input_ids = batch['input_ids'].to(device)\n",
    "        attention_mask = batch['attention_mask'].to(device)\n",
    "        labels = batch['labels'].to(device)\n",
    "\n",
    "        outputs = model(input_ids=input_ids, attention_mask=attention_mask, labels=labels)\n",
    "        logits = outputs.logits\n",
    "        loss = outputs.loss\n",
    "        val_loss += loss.item()\n",
    "\n",
    "average_val_loss = val_loss / len(val_loader)\n",
    "print(f\"Validation Loss: {average_val_loss}\")"
   ]
  },
  {
   "cell_type": "code",
   "execution_count": 53,
   "metadata": {
    "id": "CeOaTHFWfoSP"
   },
   "outputs": [],
   "source": [
    "torch.save(model, 'model_100-3K5_content+views+img+username+date.pth')"
   ]
  },
  {
   "cell_type": "markdown",
   "metadata": {},
   "source": [
    "## Model Testing"
   ]
  },
  {
   "cell_type": "code",
   "execution_count": 44,
   "metadata": {},
   "outputs": [],
   "source": [
    "tokenizer = AutoTokenizer.from_pretrained('vinai/bertweet-base')\n",
    "\n",
    "criterion = nn.MSELoss()\n",
    "\n",
    "# train_dataset = CustomRegressionDataset(train_dates, train_captions, train_hasvids, train_hasimgs, train_texts, train_views, train_durations, train_users, train_labels, tokenizer, max_length=128)\n",
    "# val_dataset = CustomRegressionDataset(val_dates, val_captions, val_hasvids, val_hasimgs, val_texts, val_views, val_durations, val_users, val_labels, tokenizer, max_length=128)\n",
    "# train_dataset = CustomRegressionDataset(train_dates, train_hasvids, train_hasimgs, train_texts, train_views, train_durations, train_users, train_labels, tokenizer, max_length=128)\n",
    "# val_dataset = CustomRegressionDataset(val_dates, val_hasvids, val_hasimgs, val_texts, val_views, val_durations, val_users, val_labels, tokenizer, max_length=128)\n",
    "train_dataset = CustomRegressionDataset(train_dates, train_hasvids, train_hasimgs, train_texts, train_views, train_durations, train_users, train_labels, tokenizer, max_length=128)\n",
    "val_dataset = CustomRegressionDataset(val_dates, val_hasvids, val_hasimgs, val_texts, val_views, val_durations, val_users, val_labels, tokenizer, max_length=128)\n",
    "\n",
    "train_loader = DataLoader(train_dataset, batch_size=32, shuffle=True)\n",
    "val_loader = DataLoader(val_dataset, batch_size=32)\n",
    "\n",
    "device = torch.device('cuda' if torch.cuda.is_available() else 'cpu')"
   ]
  },
  {
   "cell_type": "code",
   "execution_count": 21,
   "metadata": {
    "id": "r-Oxy0mKf8r8"
   },
   "outputs": [],
   "source": [
    "model1 = torch.load('model_0-100_username.pth')"
   ]
  },
  {
   "cell_type": "code",
   "execution_count": 45,
   "metadata": {
    "id": "EfNCq9Mj4Hkc",
    "scrolled": true
   },
   "outputs": [
    {
     "name": "stdout",
     "output_type": "stream",
     "text": [
      "Validation Loss: 0.01519450287387623\n"
     ]
    }
   ],
   "source": [
    "model.to(device)\n",
    "\n",
    "cnt = 0\n",
    "ans = []\n",
    "labs = []\n",
    "batch_order=[]\n",
    "\n",
    "model.eval()\n",
    "val_loss = 0.0\n",
    "with torch.no_grad():\n",
    "    for i,batch in enumerate(val_loader):\n",
    "        cnt += 32\n",
    "        input_ids = batch['input_ids'].to(device)\n",
    "        attention_mask = batch['attention_mask'].to(device)\n",
    "        labels = batch['labels'].to(device)\n",
    "        outputs = model(input_ids=input_ids, attention_mask=attention_mask, labels=labels)\n",
    "        ans.extend(outputs.logits)\n",
    "        labs.extend(labels)\n",
    "        loss = outputs.loss\n",
    "        val_loss += loss.item()\n",
    "\n",
    "average_val_loss = val_loss / len(val_dataset)\n",
    "print(f\"Validation Loss: {average_val_loss}\")"
   ]
  },
  {
   "cell_type": "code",
   "execution_count": 46,
   "metadata": {},
   "outputs": [
    {
     "data": {
      "text/plain": [
       "array([1149.65008355,  317.44921773,  740.85743265, ...,  930.54006377,\n",
       "        233.4274522 ,  267.37129848])"
      ]
     },
     "execution_count": 46,
     "metadata": {},
     "output_type": "execute_result"
    }
   ],
   "source": [
    "import math\n",
    "predicted_arr = []\n",
    "for i in ans:\n",
    "  predicted_arr.append(math.exp(i[0])-1)\n",
    "\n",
    "fin_preds = np.array(predicted_arr)\n",
    "fin_preds"
   ]
  },
  {
   "cell_type": "code",
   "execution_count": 47,
   "metadata": {},
   "outputs": [
    {
     "data": {
      "text/plain": [
       "array([ 672.00008294,  960.99981961,  266.00003839, ..., 2150.99984898,\n",
       "        166.00000321,  114.99999024])"
      ]
     },
     "execution_count": 47,
     "metadata": {},
     "output_type": "execute_result"
    }
   ],
   "source": [
    "fin_labels = np.exp([i.item() for i in labs])-1\n",
    "fin_labels"
   ]
  },
  {
   "cell_type": "code",
   "execution_count": 52,
   "metadata": {},
   "outputs": [
    {
     "name": "stdout",
     "output_type": "stream",
     "text": [
      "for i =  100 \t R2:  0.7258908011349183 \t RMSE:  16.177401242138068\n",
      "for i =  99 \t R2:  0.7258908011349183 \t RMSE:  16.177401242138068\n",
      "for i =  98 \t R2:  0.7258908011349183 \t RMSE:  16.177401242138068\n",
      "for i =  97 \t R2:  0.7258908011349183 \t RMSE:  16.177401242138068\n",
      "for i =  96 \t R2:  0.7258908011349183 \t RMSE:  16.177401242138068\n",
      "for i =  95 \t R2:  0.7258908011349183 \t RMSE:  16.177401242138068\n",
      "for i =  94 \t R2:  0.7258908011349183 \t RMSE:  16.177401242138068\n",
      "for i =  93 \t R2:  0.7258908011349183 \t RMSE:  16.177401242138068\n",
      "for i =  92 \t R2:  0.7258908011349183 \t RMSE:  16.177401242138068\n",
      "for i =  91 \t R2:  0.7258908011349183 \t RMSE:  16.177401242138068\n",
      "for i =  90 \t R2:  0.7258908011349183 \t RMSE:  16.177401242138068\n",
      "for i =  89 \t R2:  0.7258908011349183 \t RMSE:  16.177401242138068\n",
      "for i =  88 \t R2:  0.7258908011349183 \t RMSE:  16.177401242138068\n",
      "for i =  87 \t R2:  0.7258908011349183 \t RMSE:  16.177401242138068\n",
      "for i =  86 \t R2:  0.7258908011349183 \t RMSE:  16.177401242138068\n",
      "for i =  85 \t R2:  0.7258908011349183 \t RMSE:  16.177401242138068\n",
      "for i =  84 \t R2:  0.7258908011349183 \t RMSE:  16.177401242138068\n",
      "for i =  83 \t R2:  0.7258908011349183 \t RMSE:  16.177401242138068\n",
      "for i =  82 \t R2:  0.7258806152002216 \t RMSE:  16.177701816548733\n",
      "for i =  81 \t R2:  0.7257891272012676 \t RMSE:  16.18040126462808\n",
      "for i =  80 \t R2:  0.725334267585964 \t RMSE:  16.19381568806795\n",
      "for i =  79 \t R2:  0.7247612228983201 \t RMSE:  16.210699747159786\n",
      "for i =  78 \t R2:  0.7246514074837853 \t RMSE:  16.213933316210667\n",
      "for i =  77 \t R2:  0.7243603405573646 \t RMSE:  16.2225008072683\n",
      "for i =  76 \t R2:  0.7231548998268785 \t RMSE:  16.257934623068113\n",
      "for i =  75 \t R2:  0.7221052807636469 \t RMSE:  16.2887252965295\n",
      "for i =  74 \t R2:  0.721433555985761 \t RMSE:  16.30839989927327\n",
      "for i =  73 \t R2:  0.7209087365457449 \t RMSE:  16.3237551906317\n",
      "for i =  72 \t R2:  0.7206639476588934 \t RMSE:  16.33091234418978\n",
      "for i =  71 \t R2:  0.7199689201428701 \t RMSE:  16.35121652932065\n"
     ]
    },
    {
     "name": "stderr",
     "output_type": "stream",
     "text": [
      "/opt/conda/lib/python3.10/site-packages/numpy/core/fromnumeric.py:3504: RuntimeWarning: Mean of empty slice.\n",
      "  return _methods._mean(a, axis=axis, dtype=dtype,\n",
      "/opt/conda/lib/python3.10/site-packages/numpy/core/_methods.py:129: RuntimeWarning: invalid value encountered in scalar divide\n",
      "  ret = ret.dtype.type(ret / rcount)\n",
      "/opt/conda/lib/python3.10/site-packages/numpy/core/fromnumeric.py:3504: RuntimeWarning: Mean of empty slice.\n",
      "  return _methods._mean(a, axis=axis, dtype=dtype,\n",
      "/opt/conda/lib/python3.10/site-packages/numpy/core/_methods.py:129: RuntimeWarning: invalid value encountered in scalar divide\n",
      "  ret = ret.dtype.type(ret / rcount)\n",
      "/opt/conda/lib/python3.10/site-packages/numpy/core/fromnumeric.py:3504: RuntimeWarning: Mean of empty slice.\n",
      "  return _methods._mean(a, axis=axis, dtype=dtype,\n",
      "/opt/conda/lib/python3.10/site-packages/numpy/core/_methods.py:129: RuntimeWarning: invalid value encountered in scalar divide\n",
      "  ret = ret.dtype.type(ret / rcount)\n",
      "/opt/conda/lib/python3.10/site-packages/numpy/core/fromnumeric.py:3504: RuntimeWarning: Mean of empty slice.\n",
      "  return _methods._mean(a, axis=axis, dtype=dtype,\n",
      "/opt/conda/lib/python3.10/site-packages/numpy/core/_methods.py:129: RuntimeWarning: invalid value encountered in scalar divide\n",
      "  ret = ret.dtype.type(ret / rcount)\n",
      "/opt/conda/lib/python3.10/site-packages/numpy/core/fromnumeric.py:3504: RuntimeWarning: Mean of empty slice.\n",
      "  return _methods._mean(a, axis=axis, dtype=dtype,\n",
      "/opt/conda/lib/python3.10/site-packages/numpy/core/_methods.py:129: RuntimeWarning: invalid value encountered in scalar divide\n",
      "  ret = ret.dtype.type(ret / rcount)\n",
      "/opt/conda/lib/python3.10/site-packages/numpy/core/fromnumeric.py:3504: RuntimeWarning: Mean of empty slice.\n",
      "  return _methods._mean(a, axis=axis, dtype=dtype,\n",
      "/opt/conda/lib/python3.10/site-packages/numpy/core/_methods.py:129: RuntimeWarning: invalid value encountered in scalar divide\n",
      "  ret = ret.dtype.type(ret / rcount)\n",
      "/opt/conda/lib/python3.10/site-packages/numpy/core/fromnumeric.py:3504: RuntimeWarning: Mean of empty slice.\n",
      "  return _methods._mean(a, axis=axis, dtype=dtype,\n",
      "/opt/conda/lib/python3.10/site-packages/numpy/core/_methods.py:129: RuntimeWarning: invalid value encountered in scalar divide\n",
      "  ret = ret.dtype.type(ret / rcount)\n",
      "/opt/conda/lib/python3.10/site-packages/numpy/core/fromnumeric.py:3504: RuntimeWarning: Mean of empty slice.\n",
      "  return _methods._mean(a, axis=axis, dtype=dtype,\n",
      "/opt/conda/lib/python3.10/site-packages/numpy/core/_methods.py:129: RuntimeWarning: invalid value encountered in scalar divide\n",
      "  ret = ret.dtype.type(ret / rcount)\n",
      "/opt/conda/lib/python3.10/site-packages/numpy/core/fromnumeric.py:3504: RuntimeWarning: Mean of empty slice.\n",
      "  return _methods._mean(a, axis=axis, dtype=dtype,\n",
      "/opt/conda/lib/python3.10/site-packages/numpy/core/_methods.py:129: RuntimeWarning: invalid value encountered in scalar divide\n",
      "  ret = ret.dtype.type(ret / rcount)\n",
      "/opt/conda/lib/python3.10/site-packages/numpy/core/fromnumeric.py:3504: RuntimeWarning: Mean of empty slice.\n",
      "  return _methods._mean(a, axis=axis, dtype=dtype,\n",
      "/opt/conda/lib/python3.10/site-packages/numpy/core/_methods.py:129: RuntimeWarning: invalid value encountered in scalar divide\n",
      "  ret = ret.dtype.type(ret / rcount)\n",
      "/opt/conda/lib/python3.10/site-packages/numpy/core/fromnumeric.py:3504: RuntimeWarning: Mean of empty slice.\n",
      "  return _methods._mean(a, axis=axis, dtype=dtype,\n",
      "/opt/conda/lib/python3.10/site-packages/numpy/core/_methods.py:129: RuntimeWarning: invalid value encountered in scalar divide\n",
      "  ret = ret.dtype.type(ret / rcount)\n",
      "/opt/conda/lib/python3.10/site-packages/numpy/core/fromnumeric.py:3504: RuntimeWarning: Mean of empty slice.\n",
      "  return _methods._mean(a, axis=axis, dtype=dtype,\n",
      "/opt/conda/lib/python3.10/site-packages/numpy/core/_methods.py:129: RuntimeWarning: invalid value encountered in scalar divide\n",
      "  ret = ret.dtype.type(ret / rcount)\n",
      "/opt/conda/lib/python3.10/site-packages/numpy/core/fromnumeric.py:3504: RuntimeWarning: Mean of empty slice.\n",
      "  return _methods._mean(a, axis=axis, dtype=dtype,\n",
      "/opt/conda/lib/python3.10/site-packages/numpy/core/_methods.py:129: RuntimeWarning: invalid value encountered in scalar divide\n",
      "  ret = ret.dtype.type(ret / rcount)\n",
      "/opt/conda/lib/python3.10/site-packages/numpy/core/fromnumeric.py:3504: RuntimeWarning: Mean of empty slice.\n",
      "  return _methods._mean(a, axis=axis, dtype=dtype,\n",
      "/opt/conda/lib/python3.10/site-packages/numpy/core/_methods.py:129: RuntimeWarning: invalid value encountered in scalar divide\n",
      "  ret = ret.dtype.type(ret / rcount)\n",
      "/opt/conda/lib/python3.10/site-packages/numpy/core/fromnumeric.py:3504: RuntimeWarning: Mean of empty slice.\n",
      "  return _methods._mean(a, axis=axis, dtype=dtype,\n",
      "/opt/conda/lib/python3.10/site-packages/numpy/core/_methods.py:129: RuntimeWarning: invalid value encountered in scalar divide\n",
      "  ret = ret.dtype.type(ret / rcount)\n",
      "/opt/conda/lib/python3.10/site-packages/numpy/core/fromnumeric.py:3504: RuntimeWarning: Mean of empty slice.\n",
      "  return _methods._mean(a, axis=axis, dtype=dtype,\n",
      "/opt/conda/lib/python3.10/site-packages/numpy/core/_methods.py:129: RuntimeWarning: invalid value encountered in scalar divide\n",
      "  ret = ret.dtype.type(ret / rcount)\n",
      "/opt/conda/lib/python3.10/site-packages/numpy/core/fromnumeric.py:3504: RuntimeWarning: Mean of empty slice.\n",
      "  return _methods._mean(a, axis=axis, dtype=dtype,\n",
      "/opt/conda/lib/python3.10/site-packages/numpy/core/_methods.py:129: RuntimeWarning: invalid value encountered in scalar divide\n",
      "  ret = ret.dtype.type(ret / rcount)\n",
      "/opt/conda/lib/python3.10/site-packages/numpy/core/fromnumeric.py:3504: RuntimeWarning: Mean of empty slice.\n",
      "  return _methods._mean(a, axis=axis, dtype=dtype,\n",
      "/opt/conda/lib/python3.10/site-packages/numpy/core/_methods.py:129: RuntimeWarning: invalid value encountered in scalar divide\n",
      "  ret = ret.dtype.type(ret / rcount)\n"
     ]
    }
   ],
   "source": [
    "# from scipy.stats import median\n",
    "for i in range(100,70,-1):\n",
    "    mean = np.mean(fin_preds[fin_preds>=i])\n",
    "    fin_preds[fin_preds>=i] = mean\n",
    "    mse = mean_squared_error(fin_labels,fin_preds)\n",
    "    rmse = math.sqrt(mse)\n",
    "    r2 = r2_score(fin_labels,fin_preds)\n",
    "    print(\"for i = \",i,\"\\t R2: \",r2, \"\\t RMSE: \", rmse)"
   ]
  },
  {
   "cell_type": "code",
   "execution_count": 138,
   "metadata": {},
   "outputs": [],
   "source": [
    "mean = np.mean(fin_preds[fin_preds>=82])\n",
    "fin_preds[fin_preds>=82] = mean"
   ]
  },
  {
   "cell_type": "code",
   "execution_count": 48,
   "metadata": {},
   "outputs": [
    {
     "name": "stdout",
     "output_type": "stream",
     "text": [
      "RMSE:  582.7294844492758\n"
     ]
    }
   ],
   "source": [
    "from sklearn.metrics import mean_squared_error, r2_score\n",
    "mse = mean_squared_error(fin_labels,fin_preds)\n",
    "rmse = math.sqrt(mse)\n",
    "print(\"RMSE: \", rmse)"
   ]
  },
  {
   "cell_type": "code",
   "execution_count": 49,
   "metadata": {},
   "outputs": [
    {
     "name": "stdout",
     "output_type": "stream",
     "text": [
      "R2:  0.311513895067562\n"
     ]
    }
   ],
   "source": [
    "r2 = r2_score(fin_labels,fin_preds)\n",
    "print(\"R2: \",r2)"
   ]
  },
  {
   "cell_type": "code",
   "execution_count": 68,
   "metadata": {},
   "outputs": [
    {
     "data": {
      "text/plain": [
       "<matplotlib.legend.Legend at 0x7f97e7320760>"
      ]
     },
     "execution_count": 68,
     "metadata": {},
     "output_type": "execute_result"
    },
    {
     "data": {
      "image/png": "[encoded data removed]",
      "text/plain": [
       "<Figure size 640x480 with 1 Axes>"
      ]
     },
     "metadata": {},
     "output_type": "display_data"
    }
   ],
   "source": [
    "import matplotlib.pyplot as plt\n",
    "\n",
    "plt.plot(fin_labels)\n",
    "plt.plot(fin_preds)\n",
    "plt.legend(['Labels','Preds'])"
   ]
  },
  {
   "cell_type": "code",
   "execution_count": 29,
   "metadata": {},
   "outputs": [
    {
     "data": {
      "image/png": "[encoded data removed]",
      "text/plain": [
       "<Figure size 640x480 with 1 Axes>"
      ]
     },
     "metadata": {},
     "output_type": "display_data"
    }
   ],
   "source": [
    "fin_preds = np.array(fin_preds)\n",
    "\n",
    "# Sort predicted values in increasing order\n",
    "sorted_indices = np.argsort(fin_labels).tolist()\n",
    "\n",
    "fin_preds = fin_preds[sorted_indices]\n",
    "fin_labels = fin_labels[sorted_indices]\n",
    "\n",
    "# Create a scatter plot\n",
    "\n",
    "plt.scatter(range(len(fin_preds)), fin_preds, label='Sorted Preds')\n",
    "plt.scatter(range(len(fin_labels)), fin_labels, label='Actual')\n",
    "# Add labels and legend\n",
    "plt.xlabel('Sample Index')\n",
    "plt.ylabel('Sorted Predicted Values')\n",
    "plt.legend()\n",
    "\n",
    "# Show the plot\n",
    "plt.show()"
   ]
  },
  {
   "cell_type": "code",
   "execution_count": 30,
   "metadata": {},
   "outputs": [],
   "source": [
    "sorted_indices = np.argsort(fin_labels)"
   ]
  },
  {
   "cell_type": "code",
   "execution_count": 31,
   "metadata": {},
   "outputs": [],
   "source": [
    "si = sorted_indices.tolist()"
   ]
  },
  {
   "cell_type": "code",
   "execution_count": 32,
   "metadata": {},
   "outputs": [
    {
     "data": {
      "text/plain": [
       "<matplotlib.legend.Legend at 0x7f97effdf760>"
      ]
     },
     "execution_count": 32,
     "metadata": {},
     "output_type": "execute_result"
    },
    {
     "data": {
      "image/png": "[encoded data removed]",
      "text/plain": [
       "<Figure size 640x480 with 1 Axes>"
      ]
     },
     "metadata": {},
     "output_type": "display_data"
    }
   ],
   "source": [
    "# Sort array1 in increasing order\n",
    "sorted_fin_labels = fin_labels[si]\n",
    "\n",
    "# Use the sorted indices to rearrange array2\n",
    "sorted_fin_preds = fin_preds[si]\n",
    "\n",
    "plt.plot(sorted_fin_preds)\n",
    "plt.legend(['Labels','Preds'])"
   ]
  },
  {
   "cell_type": "code",
   "execution_count": 42,
   "metadata": {},
   "outputs": [
    {
     "ename": "TypeError",
     "evalue": "Cannot cast array data from dtype('float64') to dtype('int64') according to the rule 'safe'",
     "output_type": "error",
     "traceback": [
      "\u001b[0;31m---------------------------------------------------------------------------\u001b[0m",
      "\u001b[0;31mTypeError\u001b[0m                                 Traceback (most recent call last)",
      "Cell \u001b[0;32mIn[42], line 1\u001b[0m\n\u001b[0;32m----> 1\u001b[0m \u001b[43mnp\u001b[49m\u001b[38;5;241;43m.\u001b[39;49m\u001b[43mbincount\u001b[49m\u001b[43m(\u001b[49m\u001b[43mfin_preds\u001b[49m\u001b[43m)\u001b[49m\n",
      "\u001b[0;31mTypeError\u001b[0m: Cannot cast array data from dtype('float64') to dtype('int64') according to the rule 'safe'"
     ]
    }
   ],
   "source": [
    "np.bincount(fin_preds)"
   ]
  },
  {
   "cell_type": "code",
   "execution_count": 44,
   "metadata": {},
   "outputs": [
    {
     "name": "stdout",
     "output_type": "stream",
     "text": [
      "Collecting seaborn\n",
      "  Downloading seaborn-0.13.0-py3-none-any.whl.metadata (5.3 kB)\n",
      "Requirement already satisfied: numpy!=1.24.0,>=1.20 in /opt/conda/lib/python3.10/site-packages (from seaborn) (1.26.0)\n",
      "Requirement already satisfied: pandas>=1.2 in /opt/conda/lib/python3.10/site-packages (from seaborn) (2.1.3)\n",
      "Requirement already satisfied: matplotlib!=3.6.1,>=3.3 in /opt/conda/lib/python3.10/site-packages (from seaborn) (3.8.2)\n",
      "Requirement already satisfied: contourpy>=1.0.1 in /opt/conda/lib/python3.10/site-packages (from matplotlib!=3.6.1,>=3.3->seaborn) (1.2.0)\n",
      "Requirement already satisfied: cycler>=0.10 in /opt/conda/lib/python3.10/site-packages (from matplotlib!=3.6.1,>=3.3->seaborn) (0.12.1)\n",
      "Requirement already satisfied: fonttools>=4.22.0 in /opt/conda/lib/python3.10/site-packages (from matplotlib!=3.6.1,>=3.3->seaborn) (4.45.1)\n",
      "Requirement already satisfied: kiwisolver>=1.3.1 in /opt/conda/lib/python3.10/site-packages (from matplotlib!=3.6.1,>=3.3->seaborn) (1.4.5)\n",
      "Requirement already satisfied: packaging>=20.0 in /opt/conda/lib/python3.10/site-packages (from matplotlib!=3.6.1,>=3.3->seaborn) (23.1)\n",
      "Requirement already satisfied: pillow>=8 in /opt/conda/lib/python3.10/site-packages (from matplotlib!=3.6.1,>=3.3->seaborn) (10.0.1)\n",
      "Requirement already satisfied: pyparsing>=2.3.1 in /opt/conda/lib/python3.10/site-packages (from matplotlib!=3.6.1,>=3.3->seaborn) (3.1.1)\n",
      "Requirement already satisfied: python-dateutil>=2.7 in /opt/conda/lib/python3.10/site-packages (from matplotlib!=3.6.1,>=3.3->seaborn) (2.8.2)\n",
      "Requirement already satisfied: pytz>=2020.1 in /opt/conda/lib/python3.10/site-packages (from pandas>=1.2->seaborn) (2023.3.post1)\n",
      "Requirement already satisfied: tzdata>=2022.1 in /opt/conda/lib/python3.10/site-packages (from pandas>=1.2->seaborn) (2023.3)\n",
      "Requirement already satisfied: six>=1.5 in /opt/conda/lib/python3.10/site-packages (from python-dateutil>=2.7->matplotlib!=3.6.1,>=3.3->seaborn) (1.16.0)\n",
      "Downloading seaborn-0.13.0-py3-none-any.whl (294 kB)\n",
      "\u001b[2K   \u001b[90m━━━━━━━━━━━━━━━━━━━━━━━━━━━━━━━━━━━━━━━━\u001b[0m \u001b[32m294.6/294.6 kB\u001b[0m \u001b[31m1.3 MB/s\u001b[0m eta \u001b[36m0:00:00\u001b[0ma \u001b[36m0:00:01\u001b[0mm\n",
      "\u001b[?25hInstalling collected packages: seaborn\n",
      "Successfully installed seaborn-0.13.0\n",
      "\u001b[33mWARNING: Running pip as the 'root' user can result in broken permissions and conflicting behaviour with the system package manager. It is recommended to use a virtual environment instead: https://pip.pypa.io/warnings/venv\u001b[0m\u001b[33m\n",
      "\u001b[0m"
     ]
    }
   ],
   "source": [
    "!pip install seaborn"
   ]
  },
  {
   "cell_type": "code",
   "execution_count": 45,
   "metadata": {},
   "outputs": [
    {
     "data": {
      "image/png": "[encoded data removed]",
      "text/plain": [
       "<Figure size 640x480 with 1 Axes>"
      ]
     },
     "metadata": {},
     "output_type": "display_data"
    }
   ],
   "source": [
    "import seaborn as sns\n",
    "\n",
    "sns.kdeplot(sorted_fin_labels, fill=True)\n",
    "plt.title(\"Kernel Density Estimation (KDE) Plot\")\n",
    "plt.xlabel(\"Value\")\n",
    "plt.ylabel(\"Density\")\n",
    "plt.show()"
   ]
  },
  {
   "cell_type": "code",
   "execution_count": 53,
   "metadata": {},
   "outputs": [
    {
     "name": "stdout",
     "output_type": "stream",
     "text": [
      "Total Mass (area under the curve): 0.8753728129529419\n"
     ]
    },
    {
     "data": {
      "image/png": "[encoded data removed]",
      "text/plain": [
       "<Figure size 640x480 with 1 Axes>"
      ]
     },
     "metadata": {},
     "output_type": "display_data"
    }
   ],
   "source": [
    "from scipy.stats import gaussian_kde\n",
    "\n",
    "sample_data = sorted_fin_labels\n",
    "kde = gaussian_kde(sample_data)\n",
    "\n",
    "x_range = np.linspace(min(sample_data), max(sample_data), 1000)\n",
    "\n",
    "mass = np.trapz(kde(x_range), x_range)\n",
    "\n",
    "plt.fill_between(x_range, 0, kde(x_range), where=(x_range <= max(x_range)), interpolate=True, alpha=0.3, color='orange')\n",
    "\n",
    "print(\"Total Mass (area under the curve):\", mass)\n",
    "\n",
    "plt.title(\"Kernel Density Estimation (KDE) Plot with Mass Marked\")\n",
    "plt.xlabel(\"Value\")\n",
    "plt.ylabel(\"Density\")\n",
    "plt.show()"
   ]
  },
  {
   "cell_type": "code",
   "execution_count": 109,
   "metadata": {},
   "outputs": [
    {
     "data": {
      "image/png": "[encoded data removed]",
      "text/plain": [
       "<Figure size 640x480 with 1 Axes>"
      ]
     },
     "metadata": {},
     "output_type": "display_data"
    }
   ],
   "source": [
    "import seaborn as sns\n",
    "import matplotlib.pyplot as plt\n",
    "\n",
    "sample_data = sorted_fin_labels\n",
    "\n",
    "# Create a KDE plot with a smaller bandwidth for smoothing\n",
    "kde = sns.kdeplot(sample_data, fill=True, bw_adjust=1)\n",
    "kde = sns.kdeplot(sample_data, fill=True, bw_adjust=0.5)\n",
    "kde = sns.kdeplot(sample_data, fill=True, bw_adjust=0.25)\n",
    "kde = sns.kdeplot(sample_data, fill=True, bw_adjust=0.1)\n",
    "\n",
    "plt.title(\"Smoothed Kernel Density Estimation (KDE) Plot\")\n",
    "plt.xlabel(\"Value\")\n",
    "plt.ylabel(\"Density\")\n",
    "plt.show()"
   ]
  },
  {
   "cell_type": "markdown",
   "metadata": {},
   "source": [
    "## Misc"
   ]
  },
  {
   "cell_type": "code",
   "execution_count": null,
   "metadata": {
    "colab": {
     "base_uri": "https://localhost:8080/"
    },
    "id": "7oXk5gK3gBTW",
    "outputId": "a81c96c5-7fe0-4787-ca97-213fdc241e44"
   },
   "outputs": [
    {
     "name": "stdout",
     "output_type": "stream",
     "text": [
      "Validation Loss: 130.65498633501005\n"
     ]
    }
   ],
   "source": [
    "model_2.eval()\n",
    "val_loss = 0.0\n",
    "with torch.no_grad():\n",
    "    for batch in val_loader:\n",
    "        input_ids = batch['input_ids'].to(device)\n",
    "        attention_mask = batch['attention_mask'].to(device)\n",
    "        labels = batch['labels'].to(device)\n",
    "\n",
    "        outputs = model_2(input_ids=input_ids, attention_mask=attention_mask, labels=labels)\n",
    "        loss = outputs.loss\n",
    "\n",
    "        val_loss += loss.item()\n",
    "\n",
    "average_val_loss = val_loss / len(val_loader)\n",
    "print(f\"Validation Loss: {average_val_loss}\")"
   ]
  },
  {
   "cell_type": "code",
   "execution_count": null,
   "metadata": {
    "colab": {
     "base_uri": "https://localhost:8080/",
     "height": 124
    },
    "id": "ajICBYLgrauU",
    "outputId": "bbe65316-2a8a-4ba9-ad6b-9e8767ca673a"
   },
   "outputs": [
    {
     "data": {
      "text/html": [
       "<style>#sk-container-id-3 {color: black;background-color: white;}#sk-container-id-3 pre{padding: 0;}#sk-container-id-3 div.sk-toggleable {background-color: white;}#sk-container-id-3 label.sk-toggleable__label {cursor: pointer;display: block;width: 100%;margin-bottom: 0;padding: 0.3em;box-sizing: border-box;text-align: center;}#sk-container-id-3 label.sk-toggleable__label-arrow:before {content: \"▸\";float: left;margin-right: 0.25em;color: #696969;}#sk-container-id-3 label.sk-toggleable__label-arrow:hover:before {color: black;}#sk-container-id-3 div.sk-estimator:hover label.sk-toggleable__label-arrow:before {color: black;}#sk-container-id-3 div.sk-toggleable__content {max-height: 0;max-width: 0;overflow: hidden;text-align: left;background-color: #f0f8ff;}#sk-container-id-3 div.sk-toggleable__content pre {margin: 0.2em;color: black;border-radius: 0.25em;background-color: #f0f8ff;}#sk-container-id-3 input.sk-toggleable__control:checked~div.sk-toggleable__content {max-height: 200px;max-width: 100%;overflow: auto;}#sk-container-id-3 input.sk-toggleable__control:checked~label.sk-toggleable__label-arrow:before {content: \"▾\";}#sk-container-id-3 div.sk-estimator input.sk-toggleable__control:checked~label.sk-toggleable__label {background-color: #d4ebff;}#sk-container-id-3 div.sk-label input.sk-toggleable__control:checked~label.sk-toggleable__label {background-color: #d4ebff;}#sk-container-id-3 input.sk-hidden--visually {border: 0;clip: rect(1px 1px 1px 1px);clip: rect(1px, 1px, 1px, 1px);height: 1px;margin: -1px;overflow: hidden;padding: 0;position: absolute;width: 1px;}#sk-container-id-3 div.sk-estimator {font-family: monospace;background-color: #f0f8ff;border: 1px dotted black;border-radius: 0.25em;box-sizing: border-box;margin-bottom: 0.5em;}#sk-container-id-3 div.sk-estimator:hover {background-color: #d4ebff;}#sk-container-id-3 div.sk-parallel-item::after {content: \"\";width: 100%;border-bottom: 1px solid gray;flex-grow: 1;}#sk-container-id-3 div.sk-label:hover label.sk-toggleable__label {background-color: #d4ebff;}#sk-container-id-3 div.sk-serial::before {content: \"\";position: absolute;border-left: 1px solid gray;box-sizing: border-box;top: 0;bottom: 0;left: 50%;z-index: 0;}#sk-container-id-3 div.sk-serial {display: flex;flex-direction: column;align-items: center;background-color: white;padding-right: 0.2em;padding-left: 0.2em;position: relative;}#sk-container-id-3 div.sk-item {position: relative;z-index: 1;}#sk-container-id-3 div.sk-parallel {display: flex;align-items: stretch;justify-content: center;background-color: white;position: relative;}#sk-container-id-3 div.sk-item::before, #sk-container-id-3 div.sk-parallel-item::before {content: \"\";position: absolute;border-left: 1px solid gray;box-sizing: border-box;top: 0;bottom: 0;left: 50%;z-index: -1;}#sk-container-id-3 div.sk-parallel-item {display: flex;flex-direction: column;z-index: 1;position: relative;background-color: white;}#sk-container-id-3 div.sk-parallel-item:first-child::after {align-self: flex-end;width: 50%;}#sk-container-id-3 div.sk-parallel-item:last-child::after {align-self: flex-start;width: 50%;}#sk-container-id-3 div.sk-parallel-item:only-child::after {width: 0;}#sk-container-id-3 div.sk-dashed-wrapped {border: 1px dashed gray;margin: 0 0.4em 0.5em 0.4em;box-sizing: border-box;padding-bottom: 0.4em;background-color: white;}#sk-container-id-3 div.sk-label label {font-family: monospace;font-weight: bold;display: inline-block;line-height: 1.2em;}#sk-container-id-3 div.sk-label-container {text-align: center;}#sk-container-id-3 div.sk-container {/* jupyter's `normalize.less` sets `[hidden] { display: none; }` but bootstrap.min.css set `[hidden] { display: none !important; }` so we also need the `!important` here to be able to override the default hidden behavior on the sphinx rendered scikit-learn.org. See: https://github.com/scikit-learn/scikit-learn/issues/21755 */display: inline-block !important;position: relative;}#sk-container-id-3 div.sk-text-repr-fallback {display: none;}</style><div id=\"sk-container-id-3\" class=\"sk-top-container\"><div class=\"sk-text-repr-fallback\"><pre>Pipeline(steps=[(&#x27;tfidf&#x27;, TfidfVectorizer()), (&#x27;clf&#x27;, MultinomialNB())])</pre><b>In a Jupyter environment, please rerun this cell to show the HTML representation or trust the notebook. <br />On GitHub, the HTML representation is unable to render, please try loading this page with nbviewer.org.</b></div><div class=\"sk-container\" hidden><div class=\"sk-item sk-dashed-wrapped\"><div class=\"sk-label-container\"><div class=\"sk-label sk-toggleable\"><input class=\"sk-toggleable__control sk-hidden--visually\" id=\"sk-estimator-id-7\" type=\"checkbox\" ><label for=\"sk-estimator-id-7\" class=\"sk-toggleable__label sk-toggleable__label-arrow\">Pipeline</label><div class=\"sk-toggleable__content\"><pre>Pipeline(steps=[(&#x27;tfidf&#x27;, TfidfVectorizer()), (&#x27;clf&#x27;, MultinomialNB())])</pre></div></div></div><div class=\"sk-serial\"><div class=\"sk-item\"><div class=\"sk-estimator sk-toggleable\"><input class=\"sk-toggleable__control sk-hidden--visually\" id=\"sk-estimator-id-8\" type=\"checkbox\" ><label for=\"sk-estimator-id-8\" class=\"sk-toggleable__label sk-toggleable__label-arrow\">TfidfVectorizer</label><div class=\"sk-toggleable__content\"><pre>TfidfVectorizer()</pre></div></div></div><div class=\"sk-item\"><div class=\"sk-estimator sk-toggleable\"><input class=\"sk-toggleable__control sk-hidden--visually\" id=\"sk-estimator-id-9\" type=\"checkbox\" ><label for=\"sk-estimator-id-9\" class=\"sk-toggleable__label sk-toggleable__label-arrow\">MultinomialNB</label><div class=\"sk-toggleable__content\"><pre>MultinomialNB()</pre></div></div></div></div></div></div></div>"
      ],
      "text/plain": [
       "Pipeline(steps=[('tfidf', TfidfVectorizer()), ('clf', MultinomialNB())])"
      ]
     },
     "execution_count": 22,
     "metadata": {},
     "output_type": "execute_result"
    }
   ],
   "source": [
    "from sklearn.feature_extraction.text import TfidfVectorizer\n",
    "from sklearn.naive_bayes import MultinomialNB\n",
    "from sklearn.pipeline import Pipeline\n",
    "\n",
    "model_0 = Pipeline([\n",
    "    (\"tfidf\", TfidfVectorizer()),\n",
    "    (\"clf\", MultinomialNB())\n",
    "])\n",
    "\n",
    "model_0.fit(train_features, train_classes)"
   ]
  },
  {
   "cell_type": "code",
   "execution_count": null,
   "metadata": {
    "id": "ZCzAyXBp_pRH"
   },
   "outputs": [],
   "source": [
    "preds = model_0.predict(val_features)"
   ]
  },
  {
   "cell_type": "code",
   "execution_count": null,
   "metadata": {
    "id": "ngpg708JCPWk"
   },
   "outputs": [],
   "source": [
    "import torch"
   ]
  },
  {
   "cell_type": "code",
   "execution_count": null,
   "metadata": {
    "id": "JYFD0OfWCOES"
   },
   "outputs": [],
   "source": [
    "model_1 = torch.load('/content/drive/MyDrive/model_1.pth')\n",
    "model_2 = torch.load('/content/drive/MyDrive/model_2.pth')\n",
    "model_3 = torch.load('/content/drive/MyDrive/model_3.pth')"
   ]
  },
  {
   "cell_type": "code",
   "execution_count": 42,
   "metadata": {
    "colab": {
     "base_uri": "https://localhost:8080/"
    },
    "id": "MYGJPtOUCDzQ",
    "outputId": "f51b8976-e127-43e2-9f0c-cb63641e6873",
    "scrolled": true
   },
   "outputs": [
    {
     "data": {
      "application/vnd.jupyter.widget-view+json": {
       "model_id": "bfef3e76802f4b10aedc7d56e77eb121",
       "version_major": 2,
       "version_minor": 0
      },
      "text/plain": [
       "vocab.json:   0%|          | 0.00/899k [00:00<?, ?B/s]"
      ]
     },
     "metadata": {},
     "output_type": "display_data"
    },
    {
     "data": {
      "application/vnd.jupyter.widget-view+json": {
       "model_id": "59a2fee6126546c38e9a9ed3cf98ca20",
       "version_major": 2,
       "version_minor": 0
      },
      "text/plain": [
       "merges.txt:   0%|          | 0.00/456k [00:00<?, ?B/s]"
      ]
     },
     "metadata": {},
     "output_type": "display_data"
    },
    {
     "data": {
      "application/vnd.jupyter.widget-view+json": {
       "model_id": "47d85e3c56eb4996b33380ff03a1a00e",
       "version_major": 2,
       "version_minor": 0
      },
      "text/plain": [
       "tokenizer.json:   0%|          | 0.00/1.36M [00:00<?, ?B/s]"
      ]
     },
     "metadata": {},
     "output_type": "display_data"
    },
    {
     "data": {
      "application/vnd.jupyter.widget-view+json": {
       "model_id": "b365aff8ef76482a883fc0bc28fe8a6a",
       "version_major": 2,
       "version_minor": 0
      },
      "text/plain": [
       "config.json:   0%|          | 0.00/481 [00:00<?, ?B/s]"
      ]
     },
     "metadata": {},
     "output_type": "display_data"
    },
    {
     "ename": "NameError",
     "evalue": "name 'model_1' is not defined",
     "output_type": "error",
     "traceback": [
      "\u001b[0;31m---------------------------------------------------------------------------\u001b[0m",
      "\u001b[0;31mNameError\u001b[0m                                 Traceback (most recent call last)",
      "Cell \u001b[0;32mIn[42], line 12\u001b[0m\n\u001b[1;32m      9\u001b[0m tokenizer \u001b[38;5;241m=\u001b[39m RobertaTokenizer\u001b[38;5;241m.\u001b[39mfrom_pretrained(\u001b[38;5;124m'\u001b[39m\u001b[38;5;124mroberta-base\u001b[39m\u001b[38;5;124m'\u001b[39m)\n\u001b[1;32m     11\u001b[0m device \u001b[38;5;241m=\u001b[39m torch\u001b[38;5;241m.\u001b[39mdevice(\u001b[38;5;124m'\u001b[39m\u001b[38;5;124mcuda\u001b[39m\u001b[38;5;124m'\u001b[39m \u001b[38;5;28;01mif\u001b[39;00m torch\u001b[38;5;241m.\u001b[39mcuda\u001b[38;5;241m.\u001b[39mis_available() \u001b[38;5;28;01melse\u001b[39;00m \u001b[38;5;124m'\u001b[39m\u001b[38;5;124mcpu\u001b[39m\u001b[38;5;124m'\u001b[39m)\n\u001b[0;32m---> 12\u001b[0m \u001b[43mmodel_1\u001b[49m\u001b[38;5;241m.\u001b[39mto(device)\n\u001b[1;32m     13\u001b[0m model_2\u001b[38;5;241m.\u001b[39mto(device)\n\u001b[1;32m     14\u001b[0m model_3\u001b[38;5;241m.\u001b[39mto(device)\n",
      "\u001b[0;31mNameError\u001b[0m: name 'model_1' is not defined"
     ]
    }
   ],
   "source": [
    "import torch\n",
    "from transformers import RobertaTokenizer, RobertaForSequenceClassification\n",
    "from torch.utils.data import DataLoader, Dataset\n",
    "from sklearn.model_selection import train_test_split\n",
    "import torch.nn as nn\n",
    "import torch.optim as optim\n",
    "from tqdm import tqdm\n",
    "\n",
    "tokenizer = RobertaTokenizer.from_pretrained('roberta-base')\n",
    "\n",
    "device = torch.device('cuda' if torch.cuda.is_available() else 'cpu')\n",
    "model_1.to(device)\n",
    "model_2.to(device)\n",
    "model_3.to(device)\n",
    "\n",
    "model_1.eval()\n",
    "model_2.eval()\n",
    "model_3.eval()\n",
    "\n",
    "class CustomRegressionDataset(Dataset):\n",
    "    def __init__(self, texts, labels, tokenizer, max_length):\n",
    "        self.texts = texts\n",
    "        self.labels = labels\n",
    "        self.tokenizer = tokenizer\n",
    "        self.max_length = max_length\n",
    "\n",
    "    def __len__(self):\n",
    "        return len(self.texts)\n",
    "\n",
    "    def __getitem__(self, idx):\n",
    "        text = str(self.texts[idx])\n",
    "        label = float(self.labels[idx])\n",
    "        encoding = self.tokenizer.encode_plus(\n",
    "            text,\n",
    "            add_special_tokens=True,\n",
    "            max_length=self.max_length,\n",
    "            return_token_type_ids=False,\n",
    "            padding='max_length',\n",
    "            truncation=True,\n",
    "            return_attention_mask=True,\n",
    "            return_tensors='pt'\n",
    "        )\n",
    "        return {\n",
    "            'input_ids': encoding['input_ids'].flatten(),\n",
    "            'attention_mask': encoding['attention_mask'].flatten(),\n",
    "            'labels': torch.tensor(label, dtype=torch.float32)\n",
    "        }\n",
    "\n",
    "val_texts = val_content\n",
    "\n",
    "val_dataset = CustomRegressionDataset(val_texts, val_labels, tokenizer, max_length=128)\n",
    "val_loader = DataLoader(val_dataset, batch_size=1)\n",
    "\n",
    "val_loss = 0.0\n",
    "\n",
    "cnt = 0\n",
    "\n",
    "with torch.no_grad():\n",
    "    for batch in val_loader:\n",
    "        input_ids = batch['input_ids'].to(device)\n",
    "        attention_mask = batch['attention_mask'].to(device)\n",
    "        labels = batch['labels'].to(device)\n",
    "\n",
    "        if val_classes[cnt] == 0:\n",
    "          outputs = model_1(input_ids=input_ids, attention_mask=attention_mask, labels=labels)\n",
    "          loss = outputs.loss\n",
    "        if val_classes[cnt] == 1:\n",
    "          outputs = model_2(input_ids=input_ids, attention_mask=attention_mask, labels=labels)\n",
    "          loss = outputs.loss\n",
    "        if val_classes[cnt] == 2:\n",
    "          outputs = model_3(input_ids=input_ids, attention_mask=attention_mask, labels=labels)\n",
    "          loss = outputs.loss\n",
    "\n",
    "        val_loss += loss.item()\n",
    "        cnt += 1\n",
    "        # print(cnt)\n",
    "\n",
    "average_val_loss = val_loss / len(val_loader)\n",
    "print(f\"Validation Loss: {average_val_loss}\")"
   ]
  },
  {
   "cell_type": "code",
   "execution_count": null,
   "metadata": {},
   "outputs": [],
   "source": []
  }
 ],
 "metadata": {
  "accelerator": "GPU",
  "colab": {
   "gpuType": "T4",
   "provenance": []
  },
  "kernelspec": {
   "display_name": "Python 3 (ipykernel)",
   "language": "python",
   "name": "python3"
  },
  "language_info": {
   "codemirror_mode": {
    "name": "ipython",
    "version": 3
   },
   "file_extension": ".py",
   "mimetype": "text/x-python",
   "name": "python",
   "nbconvert_exporter": "python",
   "pygments_lexer": "ipython3",
   "version": "3.10.13"
  }
 },
 "nbformat": 4,
 "nbformat_minor": 4
}
