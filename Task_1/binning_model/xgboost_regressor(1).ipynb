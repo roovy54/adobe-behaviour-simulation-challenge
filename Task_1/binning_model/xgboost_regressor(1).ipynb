{
  "nbformat": 4,
  "nbformat_minor": 0,
  "metadata": {
    "colab": {
      "provenance": []
    },
    "kernelspec": {
      "name": "python3",
      "display_name": "Python 3"
    },
    "language_info": {
      "name": "python"
    }
  },
  "cells": [
    {
      "cell_type": "code",
      "source": [
        "import pandas as pd\n",
        "import numpy as np\n",
        "import ast\n",
        "import pandas as pd\n",
        "import xgboost as xgb\n",
        "from sklearn.model_selection import train_test_split\n",
        "from sklearn.metrics import accuracy_score\n",
        "from sklearn.preprocessing import QuantileTransformer\n",
        "from sklearn.feature_extraction.text import TfidfVectorizer\n",
        "import matplotlib.pyplot as plt\n",
        "\n",
        "# train_full_class_df = pd.read_csv(\"/content/drive/MyDrive/train_new.csv\")\n",
        "train_df = pd.read_csv(\"/content/drive/MyDrive/test_new.csv\")\n",
        "# real_test_df = pd.read_excel(\"/content/drive/MyDrive/behaviour_simulation_test_company.xlsx\")\n",
        "val_df = pd.read_csv(\"/content/drive/MyDrive/val_pipeline.csv\")\n",
        "\n",
        "#val_df = pd.read_csv(\"/content/drive/MyDrive/behaviour_simulation_test_company_new.csv\")"
      ],
      "metadata": {
        "id": "1rh0YEvxmtR7"
      },
      "execution_count": 572,
      "outputs": []
    },
    {
      "cell_type": "code",
      "source": [
        "train_df = train_df[train_df['likes'] > 9000]\n",
        "val_df = val_df[val_df['likes'] > 9000]"
      ],
      "metadata": {
        "id": "IFJXO8F1Ro3j"
      },
      "execution_count": 573,
      "outputs": []
    },
    {
      "cell_type": "code",
      "source": [
        "train_text = []\n",
        "val_text = []\n",
        "\n",
        "for index, row in train_df.iterrows():\n",
        "  stri = f\"\"\"\n",
        "  username: {row['username']},\n",
        "  company: {row['inferred company']},\n",
        "  image url status: {row['image_url_status']},\n",
        "  video url status: {row['video_thumbnail_status']},\n",
        "  gif url status: {row['gif_thumbnail_status']}\n",
        "  \"\"\"\n",
        "  train_text.append(stri)\n",
        "\n",
        "for index, row in val_df.iterrows():\n",
        "  stri = f\"\"\"\n",
        "  username: {row['username']},\n",
        "  company: {row['inferred company']},\n",
        "  image url status: {row['image_url_status']},\n",
        "  video url status: {row['video_thumbnail_status']},\n",
        "  gif url status: {row['gif_thumbnail_status']}\n",
        "  \"\"\"\n",
        "  val_text.append(stri)"
      ],
      "metadata": {
        "id": "4urLAfY3V8c6"
      },
      "execution_count": 574,
      "outputs": []
    },
    {
      "cell_type": "code",
      "source": [
        "train_df = train_df.drop(columns=['image_url', 'video_thumbnail_url', 'video_url',\n",
        "                    'gif_thumbnail_url', 'gif_url', 'is_url_active', 'date', 'media', 'Unnamed: 0', 'text_status', 'image_url_status', 'video_url_status', 'video_thumbnail_status','gif_thumbnail_status', 'gif_url_status', 'inferred company'])\n",
        "\n",
        "train_df['video_bitrate'] = train_df['video_bitrate'].replace(\"Does not exist\", 0)\n",
        "train_df['video_bitrate'] = train_df['video_bitrate'].replace(\"0\", 0)\n",
        "train_df['video_duration'] = train_df['video_duration'].replace(\"Does not exist\", 0)\n",
        "train_df['video_duration'] = train_df['video_duration'].replace(\"0\", 0)\n",
        "train_df['video_views'] = train_df['video_views'].replace(\"Does not exist\", 0)\n",
        "train_df['video_views'] = train_df['video_views'].replace(\"0\", 0)\n",
        "\n",
        "train_df['gif_bitrate'] = train_df['gif_bitrate'].replace(\"Does not exist\", 0)\n",
        "train_df['gif_bitrate'] = train_df['gif_bitrate'].replace(\"0\", 0)\n",
        "\n",
        "train_df['video_bitrate'] = train_df['video_bitrate'].astype(float)\n",
        "train_df['video_duration'] = train_df['video_duration'].astype(float)\n",
        "train_df['video_views'] = train_df['video_views'].astype(float)\n",
        "train_df['gif_bitrate'] = train_df['gif_bitrate'].astype(float)\n",
        "\n",
        "def convert_to_tuple(string):\n",
        "    return ast.literal_eval(string)\n",
        "\n",
        "train_df['image_size'] = train_df['image_size'].fillna('(0, 0)')\n",
        "train_df['image_size'] = train_df['image_size'].apply(convert_to_tuple)\n",
        "\n",
        "train_df[['image_heigth', 'image_width']] = pd.DataFrame(train_df['image_size'].tolist(), columns=['image_height', 'image_heigth'])\n",
        "\n",
        "train_df.drop('image_size', axis=1, inplace=True)\n",
        "train_df['languages'] = train_df['languages'].str.strip(\"[]\")\n",
        "train_df['languages'] = train_df['languages'].str.strip(\"'\")\n",
        "\n",
        "for language in train_df['languages'].unique():\n",
        "  if language != 'ENGLISH' and language != 'Unknown':\n",
        "    train_df['languages'] = train_df['languages'].replace(language, \"Another Language\")\n",
        "\n",
        "train_df = train_df.drop(columns=['username', 'content'])\n",
        "\n",
        "likes_list = train_df['likes']\n",
        "\n",
        "train_df = pd.get_dummies(train_df)\n",
        "len(train_df.columns)"
      ],
      "metadata": {
        "colab": {
          "base_uri": "https://localhost:8080/"
        },
        "id": "M2lf_Ai_CXwK",
        "outputId": "fa78831e-a25c-43ab-dc73-450aef560def"
      },
      "execution_count": 575,
      "outputs": [
        {
          "output_type": "execute_result",
          "data": {
            "text/plain": [
              "41"
            ]
          },
          "metadata": {},
          "execution_count": 575
        }
      ]
    },
    {
      "cell_type": "code",
      "source": [
        "train_df.columns"
      ],
      "metadata": {
        "colab": {
          "base_uri": "https://localhost:8080/"
        },
        "id": "EVKATh1fhqge",
        "outputId": "07662342-44bb-4028-c393-5c5dd0aab0a1"
      },
      "execution_count": 576,
      "outputs": [
        {
          "output_type": "execute_result",
          "data": {
            "text/plain": [
              "Index(['video_bitrate', 'video_duration', 'video_views', 'gif_bitrate', 'year',\n",
              "       'day_of_year', 'likes', 'emoji_count', 'hastag_count',\n",
              "       'uppercase_count', 'at_count', 'sentiment_score', 'subjectivity_score',\n",
              "       'word_count', 'image_heigth', 'image_width',\n",
              "       'languages_Another Language', 'languages_ENGLISH', 'languages_Unknown',\n",
              "       'month_April', 'month_August', 'month_December', 'month_February',\n",
              "       'month_January', 'month_July', 'month_June', 'month_March', 'month_May',\n",
              "       'month_November', 'month_October', 'month_September',\n",
              "       'day_of_week_Friday', 'day_of_week_Monday', 'day_of_week_Saturday',\n",
              "       'day_of_week_Sunday', 'day_of_week_Thursday', 'day_of_week_Tuesday',\n",
              "       'day_of_week_Wednesday', 'media_type_gif', 'media_type_image',\n",
              "       'media_type_video'],\n",
              "      dtype='object')"
            ]
          },
          "metadata": {},
          "execution_count": 576
        }
      ]
    },
    {
      "cell_type": "code",
      "source": [
        "val_df = val_df.drop(columns=['image_url', 'video_thumbnail_url', 'video_url',\n",
        "                    'gif_thumbnail_url', 'gif_url', 'is_url_active', 'date', 'media', 'Unnamed: 0', 'text_status', 'image_url_status', 'video_url_status', 'video_thumbnail_status','gif_thumbnail_status', 'gif_url_status', 'username', 'inferred company'])\n",
        "\n",
        "val_df['video_bitrate'] = val_df['video_bitrate'].replace(\"Does not exist\", 0)\n",
        "val_df['video_bitrate'] = val_df['video_bitrate'].replace(\"0\", 0)\n",
        "val_df['video_duration'] = val_df['video_duration'].replace(\"Does not exist\", 0)\n",
        "val_df['video_duration'] = val_df['video_duration'].replace(\"0\", 0)\n",
        "val_df['video_views'] = val_df['video_views'].replace(\"Does not exist\", 0)\n",
        "val_df['video_views'] = val_df['video_views'].replace(\"0\", 0)\n",
        "\n",
        "val_df['gif_bitrate'] = val_df['gif_bitrate'].replace(\"Does not exist\", 0)\n",
        "val_df['gif_bitrate'] = val_df['gif_bitrate'].replace(\"0    0\\nName: gif_bitrate, dtype: object\", 0)\n",
        "\n",
        "val_df['video_bitrate'] = val_df['video_bitrate'].astype(float)\n",
        "val_df['video_duration'] = val_df['video_duration'].astype(float)\n",
        "val_df['video_views'] = val_df['video_views'].astype(float)\n",
        "val_df['gif_bitrate'] = val_df['gif_bitrate'].astype(float)\n",
        "\n",
        "def convert_to_tuple(string):\n",
        "    return ast.literal_eval(string)\n",
        "\n",
        "val_df['image_size'] = val_df['image_size'].fillna('(0, 0)')\n",
        "val_df['image_size'] = val_df['image_size'].apply(convert_to_tuple)\n",
        "\n",
        "val_df[['image_heigth', 'image_width']] = pd.DataFrame(val_df['image_size'].tolist(), columns=['image_height', 'image_heigth'])\n",
        "\n",
        "val_df.drop('image_size', axis=1, inplace=True)\n",
        "val_df['languages'] = val_df['languages'].str.strip(\"[]\")\n",
        "val_df['languages'] = val_df['languages'].str.strip(\"'\")\n",
        "\n",
        "for language in val_df['languages'].unique():\n",
        "  if language != 'ENGLISH' and language != 'Unknown':\n",
        "    val_df['languages'] = val_df['languages'].replace(language, \"Another Language\")\n",
        "\n",
        "val_df = val_df.drop(columns=['content'])\n",
        "val_df = pd.get_dummies(val_df)\n",
        "\n",
        "if 'languages_Another Language' not in val_df.columns:\n",
        "  val_df['languages_Another Language'] = 0\n",
        "\n",
        "val_column_order = ['video_bitrate', 'video_duration', 'video_views', 'gif_bitrate', 'year',\n",
        "       'day_of_year', 'likes', 'emoji_count', 'hastag_count',\n",
        "       'uppercase_count', 'at_count', 'sentiment_score', 'subjectivity_score',\n",
        "       'word_count', 'image_heigth', 'image_width',\n",
        "       'languages_Another Language', 'languages_ENGLISH', 'languages_Unknown',\n",
        "       'month_April', 'month_August', 'month_December', 'month_February',\n",
        "       'month_January', 'month_July', 'month_June', 'month_March', 'month_May',\n",
        "       'month_November', 'month_October', 'month_September',\n",
        "       'day_of_week_Friday', 'day_of_week_Monday', 'day_of_week_Saturday',\n",
        "       'day_of_week_Sunday', 'day_of_week_Thursday', 'day_of_week_Tuesday',\n",
        "       'day_of_week_Wednesday', 'media_type_gif', 'media_type_image',\n",
        "       'media_type_video']\n",
        "\n",
        "val_df = val_df.reindex(columns=val_column_order)\n",
        "\n",
        "len(val_df.columns)"
      ],
      "metadata": {
        "colab": {
          "base_uri": "https://localhost:8080/"
        },
        "id": "BehnnIEUCmT-",
        "outputId": "fecf7f1a-b363-4864-d037-7ba869a12767"
      },
      "execution_count": 577,
      "outputs": [
        {
          "output_type": "execute_result",
          "data": {
            "text/plain": [
              "41"
            ]
          },
          "metadata": {},
          "execution_count": 577
        }
      ]
    },
    {
      "cell_type": "code",
      "source": [
        "loaded_model = xgb.Booster()\n",
        "loaded_model.load_model('/content/drive/MyDrive/xg_boost_outlier_score_model.bin')"
      ],
      "metadata": {
        "id": "yOMDi6yXDKyu"
      },
      "execution_count": 578,
      "outputs": []
    },
    {
      "cell_type": "code",
      "source": [
        "train_df_likes = train_df['likes'].values\n",
        "train_df = train_df.drop(columns=['likes'])\n",
        "val_df_likes = val_df['likes'].values\n",
        "val_df = val_df.drop(columns=['likes'])"
      ],
      "metadata": {
        "id": "dGTbLGLEDdKk"
      },
      "execution_count": 579,
      "outputs": []
    },
    {
      "cell_type": "code",
      "source": [
        "max(train_df_likes), max(val_df_likes)"
      ],
      "metadata": {
        "colab": {
          "base_uri": "https://localhost:8080/"
        },
        "id": "9hEnTMNLRUxT",
        "outputId": "7679f499-ad9e-4594-9eed-c4f62035fe96"
      },
      "execution_count": 580,
      "outputs": [
        {
          "output_type": "execute_result",
          "data": {
            "text/plain": [
              "(389438, 288909)"
            ]
          },
          "metadata": {},
          "execution_count": 580
        }
      ]
    },
    {
      "cell_type": "code",
      "source": [
        "X = train_df\n",
        "y = train_df_likes\n",
        "dtrain = xgb.DMatrix(data=X, label=y)\n",
        "predictions_train = loaded_model.predict(dtrain)\n",
        "\n",
        "X = val_df\n",
        "# y = val_df_likes\n",
        "dtest = xgb.DMatrix(data=X)\n",
        "predictions_test = loaded_model.predict(dtest)"
      ],
      "metadata": {
        "id": "CemvAw_xDvMJ"
      },
      "execution_count": 581,
      "outputs": []
    },
    {
      "cell_type": "code",
      "source": [
        "train_df['outlier_score'] = predictions_train\n",
        "val_df['outlier_score'] = predictions_test"
      ],
      "metadata": {
        "id": "zfF3XEGuHisp"
      },
      "execution_count": 582,
      "outputs": []
    },
    {
      "cell_type": "code",
      "source": [
        "import xgboost as xgb\n",
        "from sklearn.model_selection import train_test_split\n",
        "from sklearn.metrics import mean_squared_error\n",
        "from sklearn.preprocessing import QuantileTransformer\n",
        "from xgboost import XGBRegressor\n",
        "from sklearn.model_selection import GridSearchCV\n",
        "from sklearn.linear_model import LinearRegression\n",
        "from sklearn.feature_extraction.text import TfidfVectorizer\n",
        "from sklearn.svm import SVR\n",
        "from sklearn.tree import DecisionTreeRegressor\n",
        "from sklearn.ensemble import RandomForestRegressor\n",
        "from sklearn.ensemble import GradientBoostingRegressor\n",
        "from sklearn.neural_network import MLPRegressor\n",
        "\n",
        "X_train, y_train = train_df, train_df_likes\n",
        "X_test, y_test = val_df, val_df_likes\n",
        "\n",
        "quantile_transformer = QuantileTransformer(output_distribution='normal')\n",
        "y_transformed_train = quantile_transformer.fit_transform(y_train.reshape(-1, 1)).flatten()\n",
        "y_transformed_test = quantile_transformer.transform(y_test.reshape(-1, 1)).flatten()\n",
        "\n",
        "vectorizer = TfidfVectorizer()\n",
        "X_train_text = vectorizer.fit_transform(train_text)\n",
        "X_test_text = vectorizer.transform(val_text)\n",
        "\n",
        "params = {\n",
        "    'learning_rate': 0.1,\n",
        "    'max_depth': 3,\n",
        "    'objective': 'reg:squarederror'\n",
        "}\n",
        "\n",
        "dtrain = xgb.DMatrix(X_train, label=y_transformed_train)\n",
        "dtest = xgb.DMatrix(X_test)\n",
        "\n",
        "num_round = 100\n",
        "model = xgb.train(params, dtrain, num_round)\n",
        "\n",
        "train_predictions = model.predict(dtrain)\n",
        "text_regressor = LinearRegression()\n",
        "text_regressor.fit(X_train_text, y_transformed_train)\n",
        "train_text_predictions = text_regressor.predict(X_train_text)\n",
        "train_combined_features = np.column_stack((train_text_predictions, train_predictions))\n",
        "meta_model = LinearRegression()\n",
        "meta_model.fit(train_combined_features, y_transformed_train)\n",
        "\n",
        "test_predictions = model.predict(dtest)\n",
        "test_text_predictions = text_regressor.predict(X_test_text)\n",
        "test_combined_features = np.column_stack((test_text_predictions, test_predictions))\n",
        "predictions = meta_model.predict(test_combined_features)\n",
        "\n",
        "y_pred_inverse = quantile_transformer.inverse_transform(predictions.reshape(-1, 1)).flatten()\n",
        "\n",
        "mse = mean_squared_error(y_pred_inverse, y_test)\n",
        "print(f\"Root Mean Squared Error (MSE): {np.sqrt(mse)}\")"
      ],
      "metadata": {
        "id": "c_jDmUnHH2JX",
        "colab": {
          "base_uri": "https://localhost:8080/"
        },
        "outputId": "b910f426-a3ba-4f45-9ef4-dd28ed08f2c7"
      },
      "execution_count": 583,
      "outputs": [
        {
          "output_type": "stream",
          "name": "stderr",
          "text": [
            "/usr/local/lib/python3.10/dist-packages/sklearn/preprocessing/_data.py:2627: UserWarning: n_quantiles (1000) is greater than the total number of samples (766). n_quantiles is set to n_samples.\n",
            "  warnings.warn(\n"
          ]
        },
        {
          "output_type": "stream",
          "name": "stdout",
          "text": [
            "Root Mean Squared Error (MSE): 31384.428118316726\n"
          ]
        }
      ]
    },
    {
      "cell_type": "code",
      "source": [
        "# import math\n",
        "# val_df['likes'] = [round(num) for num in y_pred_inverse]\n",
        "# max(y_pred_inverse)\n",
        "# val_df.head()\n",
        "# real_test_df['likes'] = val_df['likes']\n",
        "# real_test_df.to_csv('/content/drive/MyDrive/company.csv')"
      ],
      "metadata": {
        "id": "PytHnd_dTnlF"
      },
      "execution_count": 584,
      "outputs": []
    },
    {
      "cell_type": "code",
      "source": [
        "from sklearn.metrics import r2_score\n",
        "r2_score(y_test, y_pred_inverse)"
      ],
      "metadata": {
        "id": "Go86GFgOJCHQ",
        "colab": {
          "base_uri": "https://localhost:8080/"
        },
        "outputId": "5c49a567-7648-4767-ac48-0fc81b62b956"
      },
      "execution_count": 585,
      "outputs": [
        {
          "output_type": "execute_result",
          "data": {
            "text/plain": [
              "-0.07215467773455586"
            ]
          },
          "metadata": {},
          "execution_count": 585
        }
      ]
    },
    {
      "cell_type": "code",
      "source": [
        "var1 = y_test\n",
        "var2 = y_pred_inverse\n",
        "sorted_indices = np.argsort(var1)\n",
        "sorted_var1 = var1[sorted_indices]\n",
        "sorted_var2 = var2[sorted_indices]"
      ],
      "metadata": {
        "id": "6wO9jiF4JQS3"
      },
      "execution_count": 586,
      "outputs": []
    },
    {
      "cell_type": "code",
      "source": [
        "indices = np.arange(len(sorted_var1))\n",
        "\n",
        "# Plot\n",
        "plt.scatter(indices, sorted_var2, label='Actual', alpha = 0.2)\n",
        "plt.scatter(indices, sorted_var1, label='Predicted', alpha = 0.2)\n",
        "\n",
        "# Labels and Title\n",
        "plt.xlabel('Indices')\n",
        "plt.ylabel('Values')\n",
        "plt.title('Predicted vs Actual Values')\n",
        "\n",
        "# Legend\n",
        "plt.legend()\n",
        "\n",
        "# Show plot\n",
        "plt.show()"
      ],
      "metadata": {
        "id": "oYhB5EJQJSqL",
        "colab": {
          "base_uri": "https://localhost:8080/",
          "height": 472
        },
        "outputId": "df37b131-60d7-4f86-ebdf-661934220e12"
      },
      "execution_count": 587,
      "outputs": [
        {
          "output_type": "display_data",
          "data": {
            "text/plain": [
              "<Figure size 640x480 with 1 Axes>"
            ],
            "image/png": "[encoded data removed]"
          },
          "metadata": {}
        }
      ]
    },
    {
      "cell_type": "code",
      "source": [
        "from joblib import dump, load\n",
        "\n",
        "dump(model, \"xgboost_9000_to_inf.joblib\")\n",
        "loaded_model = load(\"xgboost_9000_to_inf.joblib\")\n",
        "loaded_test_predictions = loaded_model.predict(dtest)\n",
        "\n",
        "dump(text_regressor, \"text_regressor_9000_to_inf.joblib\")\n",
        "loaded_model = load(\"text_regressor_9000_to_inf.joblib\")\n",
        "loaded_test_text_predictions = loaded_model.predict(X_test_text)\n",
        "\n",
        "dump(meta_model, \"meta_model_9000_to_inf.joblib\")\n",
        "loaded_model = load(\"meta_model_9000_to_inf.joblib\")\n",
        "loaded_test_combined_predictions = loaded_model.predict(test_combined_features)\n",
        "\n",
        "test_predictions == loaded_test_predictions, predictions == loaded_test_combined_predictions, test_text_predictions == loaded_test_text_predictions"
      ],
      "metadata": {
        "colab": {
          "base_uri": "https://localhost:8080/"
        },
        "id": "XqP_vLS4rtiT",
        "outputId": "2b4468ee-4b2b-48d7-d8ba-d8479759c4b9"
      },
      "execution_count": 588,
      "outputs": [
        {
          "output_type": "execute_result",
          "data": {
            "text/plain": [
              "(array([ True,  True,  True,  True,  True,  True,  True,  True,  True,\n",
              "         True,  True,  True,  True,  True,  True,  True,  True,  True,\n",
              "         True,  True,  True,  True,  True,  True,  True,  True,  True,\n",
              "         True,  True,  True,  True,  True,  True,  True,  True,  True,\n",
              "         True,  True,  True,  True,  True,  True,  True,  True,  True,\n",
              "         True,  True,  True,  True,  True,  True,  True,  True,  True,\n",
              "         True,  True,  True,  True,  True,  True,  True,  True,  True,\n",
              "         True,  True,  True,  True,  True,  True,  True,  True,  True,\n",
              "         True,  True,  True,  True,  True,  True,  True,  True,  True,\n",
              "         True,  True,  True,  True,  True,  True,  True,  True,  True,\n",
              "         True,  True,  True,  True,  True,  True,  True,  True,  True,\n",
              "         True,  True,  True,  True,  True,  True,  True,  True,  True,\n",
              "         True,  True,  True,  True,  True,  True,  True,  True,  True,\n",
              "         True,  True,  True,  True,  True,  True,  True,  True,  True,\n",
              "         True,  True,  True,  True,  True,  True,  True,  True,  True,\n",
              "         True,  True,  True,  True,  True,  True,  True,  True,  True,\n",
              "         True,  True,  True,  True,  True,  True,  True,  True,  True,\n",
              "         True,  True,  True,  True,  True,  True,  True,  True,  True,\n",
              "         True,  True,  True,  True,  True,  True,  True,  True,  True,\n",
              "         True,  True,  True,  True,  True,  True,  True,  True,  True,\n",
              "         True,  True,  True,  True,  True,  True,  True,  True,  True,\n",
              "         True,  True,  True,  True,  True,  True,  True,  True,  True,\n",
              "         True,  True,  True,  True,  True,  True,  True,  True,  True,\n",
              "         True,  True,  True,  True,  True,  True,  True,  True,  True,\n",
              "         True,  True,  True,  True,  True,  True,  True,  True,  True,\n",
              "         True,  True,  True,  True,  True,  True,  True,  True,  True,\n",
              "         True,  True,  True,  True,  True,  True,  True,  True,  True,\n",
              "         True,  True,  True,  True,  True,  True,  True,  True,  True,\n",
              "         True,  True,  True,  True,  True,  True,  True,  True,  True,\n",
              "         True,  True,  True,  True,  True,  True,  True,  True,  True,\n",
              "         True,  True,  True,  True,  True,  True,  True,  True,  True,\n",
              "         True,  True,  True,  True,  True,  True,  True,  True,  True,\n",
              "         True,  True,  True,  True,  True,  True,  True,  True,  True,\n",
              "         True,  True,  True,  True,  True,  True,  True,  True,  True,\n",
              "         True,  True,  True,  True,  True,  True,  True,  True,  True,\n",
              "         True,  True,  True,  True,  True,  True,  True,  True,  True,\n",
              "         True,  True,  True,  True,  True,  True,  True,  True,  True,\n",
              "         True,  True,  True,  True,  True,  True,  True,  True,  True,\n",
              "         True,  True,  True,  True,  True,  True,  True,  True,  True,\n",
              "         True,  True,  True,  True,  True,  True,  True,  True,  True,\n",
              "         True,  True,  True,  True,  True,  True,  True,  True,  True,\n",
              "         True,  True,  True,  True,  True,  True,  True,  True,  True]),\n",
              " array([ True,  True,  True,  True,  True,  True,  True,  True,  True,\n",
              "         True,  True,  True,  True,  True,  True,  True,  True,  True,\n",
              "         True,  True,  True,  True,  True,  True,  True,  True,  True,\n",
              "         True,  True,  True,  True,  True,  True,  True,  True,  True,\n",
              "         True,  True,  True,  True,  True,  True,  True,  True,  True,\n",
              "         True,  True,  True,  True,  True,  True,  True,  True,  True,\n",
              "         True,  True,  True,  True,  True,  True,  True,  True,  True,\n",
              "         True,  True,  True,  True,  True,  True,  True,  True,  True,\n",
              "         True,  True,  True,  True,  True,  True,  True,  True,  True,\n",
              "         True,  True,  True,  True,  True,  True,  True,  True,  True,\n",
              "         True,  True,  True,  True,  True,  True,  True,  True,  True,\n",
              "         True,  True,  True,  True,  True,  True,  True,  True,  True,\n",
              "         True,  True,  True,  True,  True,  True,  True,  True,  True,\n",
              "         True,  True,  True,  True,  True,  True,  True,  True,  True,\n",
              "         True,  True,  True,  True,  True,  True,  True,  True,  True,\n",
              "         True,  True,  True,  True,  True,  True,  True,  True,  True,\n",
              "         True,  True,  True,  True,  True,  True,  True,  True,  True,\n",
              "         True,  True,  True,  True,  True,  True,  True,  True,  True,\n",
              "         True,  True,  True,  True,  True,  True,  True,  True,  True,\n",
              "         True,  True,  True,  True,  True,  True,  True,  True,  True,\n",
              "         True,  True,  True,  True,  True,  True,  True,  True,  True,\n",
              "         True,  True,  True,  True,  True,  True,  True,  True,  True,\n",
              "         True,  True,  True,  True,  True,  True,  True,  True,  True,\n",
              "         True,  True,  True,  True,  True,  True,  True,  True,  True,\n",
              "         True,  True,  True,  True,  True,  True,  True,  True,  True,\n",
              "         True,  True,  True,  True,  True,  True,  True,  True,  True,\n",
              "         True,  True,  True,  True,  True,  True,  True,  True,  True,\n",
              "         True,  True,  True,  True,  True,  True,  True,  True,  True,\n",
              "         True,  True,  True,  True,  True,  True,  True,  True,  True,\n",
              "         True,  True,  True,  True,  True,  True,  True,  True,  True,\n",
              "         True,  True,  True,  True,  True,  True,  True,  True,  True,\n",
              "         True,  True,  True,  True,  True,  True,  True,  True,  True,\n",
              "         True,  True,  True,  True,  True,  True,  True,  True,  True,\n",
              "         True,  True,  True,  True,  True,  True,  True,  True,  True,\n",
              "         True,  True,  True,  True,  True,  True,  True,  True,  True,\n",
              "         True,  True,  True,  True,  True,  True,  True,  True,  True,\n",
              "         True,  True,  True,  True,  True,  True,  True,  True,  True,\n",
              "         True,  True,  True,  True,  True,  True,  True,  True,  True,\n",
              "         True,  True,  True,  True,  True,  True,  True,  True,  True,\n",
              "         True,  True,  True,  True,  True,  True,  True,  True,  True,\n",
              "         True,  True,  True,  True,  True,  True,  True,  True,  True,\n",
              "         True,  True,  True,  True,  True,  True,  True,  True,  True]),\n",
              " array([ True,  True,  True,  True,  True,  True,  True,  True,  True,\n",
              "         True,  True,  True,  True,  True,  True,  True,  True,  True,\n",
              "         True,  True,  True,  True,  True,  True,  True,  True,  True,\n",
              "         True,  True,  True,  True,  True,  True,  True,  True,  True,\n",
              "         True,  True,  True,  True,  True,  True,  True,  True,  True,\n",
              "         True,  True,  True,  True,  True,  True,  True,  True,  True,\n",
              "         True,  True,  True,  True,  True,  True,  True,  True,  True,\n",
              "         True,  True,  True,  True,  True,  True,  True,  True,  True,\n",
              "         True,  True,  True,  True,  True,  True,  True,  True,  True,\n",
              "         True,  True,  True,  True,  True,  True,  True,  True,  True,\n",
              "         True,  True,  True,  True,  True,  True,  True,  True,  True,\n",
              "         True,  True,  True,  True,  True,  True,  True,  True,  True,\n",
              "         True,  True,  True,  True,  True,  True,  True,  True,  True,\n",
              "         True,  True,  True,  True,  True,  True,  True,  True,  True,\n",
              "         True,  True,  True,  True,  True,  True,  True,  True,  True,\n",
              "         True,  True,  True,  True,  True,  True,  True,  True,  True,\n",
              "         True,  True,  True,  True,  True,  True,  True,  True,  True,\n",
              "         True,  True,  True,  True,  True,  True,  True,  True,  True,\n",
              "         True,  True,  True,  True,  True,  True,  True,  True,  True,\n",
              "         True,  True,  True,  True,  True,  True,  True,  True,  True,\n",
              "         True,  True,  True,  True,  True,  True,  True,  True,  True,\n",
              "         True,  True,  True,  True,  True,  True,  True,  True,  True,\n",
              "         True,  True,  True,  True,  True,  True,  True,  True,  True,\n",
              "         True,  True,  True,  True,  True,  True,  True,  True,  True,\n",
              "         True,  True,  True,  True,  True,  True,  True,  True,  True,\n",
              "         True,  True,  True,  True,  True,  True,  True,  True,  True,\n",
              "         True,  True,  True,  True,  True,  True,  True,  True,  True,\n",
              "         True,  True,  True,  True,  True,  True,  True,  True,  True,\n",
              "         True,  True,  True,  True,  True,  True,  True,  True,  True,\n",
              "         True,  True,  True,  True,  True,  True,  True,  True,  True,\n",
              "         True,  True,  True,  True,  True,  True,  True,  True,  True,\n",
              "         True,  True,  True,  True,  True,  True,  True,  True,  True,\n",
              "         True,  True,  True,  True,  True,  True,  True,  True,  True,\n",
              "         True,  True,  True,  True,  True,  True,  True,  True,  True,\n",
              "         True,  True,  True,  True,  True,  True,  True,  True,  True,\n",
              "         True,  True,  True,  True,  True,  True,  True,  True,  True,\n",
              "         True,  True,  True,  True,  True,  True,  True,  True,  True,\n",
              "         True,  True,  True,  True,  True,  True,  True,  True,  True,\n",
              "         True,  True,  True,  True,  True,  True,  True,  True,  True,\n",
              "         True,  True,  True,  True,  True,  True,  True,  True,  True,\n",
              "         True,  True,  True,  True,  True,  True,  True,  True,  True,\n",
              "         True,  True,  True,  True,  True,  True,  True,  True,  True]))"
            ]
          },
          "metadata": {},
          "execution_count": 588
        }
      ]
    }
  ]
}