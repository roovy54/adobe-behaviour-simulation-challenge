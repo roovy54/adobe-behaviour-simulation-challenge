{
  "nbformat": 4,
  "nbformat_minor": 0,
  "metadata": {
    "colab": {
      "provenance": []
    },
    "kernelspec": {
      "name": "python3",
      "display_name": "Python 3"
    },
    "language_info": {
      "name": "python"
    }
  },
  "cells": [
    {
      "cell_type": "code",
      "source": [
        "import pandas as pd\n",
        "import numpy as np\n",
        "import ast\n",
        "import pandas as pd\n",
        "import xgboost as xgb\n",
        "from sklearn.model_selection import train_test_split\n",
        "from sklearn.metrics import accuracy_score\n",
        "from sklearn.preprocessing import QuantileTransformer\n",
        "from sklearn.feature_extraction.text import TfidfVectorizer\n",
        "\n",
        "# train_full_class_df = pd.read_csv(\"/content/drive/MyDrive/train_new.csv\")\n",
        "train_df = pd.read_csv(\"/content/drive/MyDrive/test_new.csv\")\n",
        "val_df = pd.read_csv(\"/content/drive/MyDrive/val_pipeline.csv\")"
      ],
      "metadata": {
        "id": "1rh0YEvxmtR7"
      },
      "execution_count": 90,
      "outputs": []
    },
    {
      "cell_type": "code",
      "source": [
        "train_text = []\n",
        "val_text = []\n",
        "\n",
        "for index, row in train_df.iterrows():\n",
        "  stri = f\"\"\"\n",
        "  username: {row['username']},\n",
        "  company: {row['inferred company']},\n",
        "  image url status: {row['image_url_status']},\n",
        "  video url status: {row['video_thumbnail_status']},\n",
        "  gif url status: {row['gif_thumbnail_status']}\n",
        "  \"\"\"\n",
        "  train_text.append(stri)\n",
        "\n",
        "for index, row in val_df.iterrows():\n",
        "  stri = f\"\"\"\n",
        "  username: {row['username']},\n",
        "  company: {row['inferred company']},\n",
        "  image url status: {row['image_url_status']},\n",
        "  video url status: {row['video_thumbnail_status']},\n",
        "  gif url status: {row['gif_thumbnail_status']}\n",
        "  \"\"\"\n",
        "  val_text.append(stri)"
      ],
      "metadata": {
        "id": "4urLAfY3V8c6"
      },
      "execution_count": 91,
      "outputs": []
    },
    {
      "cell_type": "code",
      "source": [
        "train_df = train_df.drop(columns=['image_url', 'video_thumbnail_url', 'video_url',\n",
        "                    'gif_thumbnail_url', 'gif_url', 'is_url_active', 'date', 'media', 'Unnamed: 0', 'text_status', 'image_url_status', 'video_url_status', 'video_thumbnail_status','gif_thumbnail_status', 'gif_url_status', 'inferred company'])\n",
        "\n",
        "train_df['video_bitrate'] = train_df['video_bitrate'].replace(\"Does not exist\", 0)\n",
        "train_df['video_bitrate'] = train_df['video_bitrate'].replace(\"0\", 0)\n",
        "train_df['video_duration'] = train_df['video_duration'].replace(\"Does not exist\", 0)\n",
        "train_df['video_duration'] = train_df['video_duration'].replace(\"0\", 0)\n",
        "train_df['video_views'] = train_df['video_views'].replace(\"Does not exist\", 0)\n",
        "train_df['video_views'] = train_df['video_views'].replace(\"0\", 0)\n",
        "\n",
        "train_df['gif_bitrate'] = train_df['gif_bitrate'].replace(\"Does not exist\", 0)\n",
        "train_df['gif_bitrate'] = train_df['gif_bitrate'].replace(\"0\", 0)\n",
        "\n",
        "train_df['video_bitrate'] = train_df['video_bitrate'].astype(float)\n",
        "train_df['video_duration'] = train_df['video_duration'].astype(float)\n",
        "train_df['video_views'] = train_df['video_views'].astype(float)\n",
        "train_df['gif_bitrate'] = train_df['gif_bitrate'].astype(float)\n",
        "\n",
        "def convert_to_tuple(string):\n",
        "    return ast.literal_eval(string)\n",
        "\n",
        "train_df['image_size'] = train_df['image_size'].fillna('(0, 0)')\n",
        "train_df['image_size'] = train_df['image_size'].apply(convert_to_tuple)\n",
        "\n",
        "train_df[['image_heigth', 'image_width']] = pd.DataFrame(train_df['image_size'].tolist(), columns=['image_height', 'image_heigth'])\n",
        "\n",
        "train_df.drop('image_size', axis=1, inplace=True)\n",
        "train_df['languages'] = train_df['languages'].str.strip(\"[]\")\n",
        "train_df['languages'] = train_df['languages'].str.strip(\"'\")\n",
        "\n",
        "for language in train_df['languages'].unique():\n",
        "  if language != 'ENGLISH' and language != 'Unknown':\n",
        "    train_df['languages'] = train_df['languages'].replace(language, \"Another Language\")\n",
        "\n",
        "train_df = train_df.drop(columns=['username', 'content'])\n",
        "\n",
        "likes_list = train_df['likes']\n",
        "\n",
        "train_df = pd.get_dummies(train_df)\n",
        "len(train_df.columns)"
      ],
      "metadata": {
        "colab": {
          "base_uri": "https://localhost:8080/"
        },
        "id": "M2lf_Ai_CXwK",
        "outputId": "27270922-7040-47ec-e339-25331528b9b4"
      },
      "execution_count": 92,
      "outputs": [
        {
          "output_type": "execute_result",
          "data": {
            "text/plain": [
              "41"
            ]
          },
          "metadata": {},
          "execution_count": 92
        }
      ]
    },
    {
      "cell_type": "code",
      "source": [
        "val_df = val_df.drop(columns=['image_url', 'video_thumbnail_url', 'video_url',\n",
        "                    'gif_thumbnail_url', 'gif_url', 'is_url_active', 'date', 'media', 'Unnamed: 0', 'text_status', 'image_url_status', 'video_url_status', 'video_thumbnail_status','gif_thumbnail_status', 'gif_url_status', 'username', 'inferred company'])\n",
        "\n",
        "val_df['video_bitrate'] = val_df['video_bitrate'].replace(\"Does not exist\", 0)\n",
        "val_df['video_bitrate'] = val_df['video_bitrate'].replace(\"0\", 0)\n",
        "val_df['video_duration'] = val_df['video_duration'].replace(\"Does not exist\", 0)\n",
        "val_df['video_duration'] = val_df['video_duration'].replace(\"0\", 0)\n",
        "val_df['video_views'] = val_df['video_views'].replace(\"Does not exist\", 0)\n",
        "val_df['video_views'] = val_df['video_views'].replace(\"0\", 0)\n",
        "\n",
        "val_df['gif_bitrate'] = val_df['gif_bitrate'].replace(\"Does not exist\", 0)\n",
        "val_df['gif_bitrate'] = val_df['gif_bitrate'].replace(\"0\", 0)\n",
        "\n",
        "val_df['video_bitrate'] = val_df['video_bitrate'].astype(float)\n",
        "val_df['video_duration'] = val_df['video_duration'].astype(float)\n",
        "val_df['video_views'] = val_df['video_views'].astype(float)\n",
        "val_df['gif_bitrate'] = val_df['gif_bitrate'].astype(float)\n",
        "\n",
        "def convert_to_tuple(string):\n",
        "    return ast.literal_eval(string)\n",
        "\n",
        "val_df['image_size'] = val_df['image_size'].fillna('(0, 0)')\n",
        "val_df['image_size'] = val_df['image_size'].apply(convert_to_tuple)\n",
        "\n",
        "val_df[['image_heigth', 'image_width']] = pd.DataFrame(val_df['image_size'].tolist(), columns=['image_height', 'image_heigth'])\n",
        "\n",
        "val_df.drop('image_size', axis=1, inplace=True)\n",
        "val_df['languages'] = val_df['languages'].str.strip(\"[]\")\n",
        "val_df['languages'] = val_df['languages'].str.strip(\"'\")\n",
        "\n",
        "for language in val_df['languages'].unique():\n",
        "  if language != 'ENGLISH' and language != 'Unknown':\n",
        "    val_df['languages'] = val_df['languages'].replace(language, \"Another Language\")\n",
        "\n",
        "val_df = val_df.drop(columns=['content'])\n",
        "likes_list = val_df['likes']\n",
        "\n",
        "val_df = pd.get_dummies(val_df)\n",
        "len(val_df.columns)"
      ],
      "metadata": {
        "colab": {
          "base_uri": "https://localhost:8080/"
        },
        "id": "BehnnIEUCmT-",
        "outputId": "0716c174-b618-402d-e48f-bf15b4135fd6"
      },
      "execution_count": 93,
      "outputs": [
        {
          "output_type": "execute_result",
          "data": {
            "text/plain": [
              "41"
            ]
          },
          "metadata": {},
          "execution_count": 93
        }
      ]
    },
    {
      "cell_type": "code",
      "source": [
        "loaded_model = xgb.Booster()\n",
        "loaded_model.load_model('/content/drive/MyDrive/xg_boost_outlier_score_model.bin')"
      ],
      "metadata": {
        "id": "yOMDi6yXDKyu"
      },
      "execution_count": 94,
      "outputs": []
    },
    {
      "cell_type": "code",
      "source": [
        "train_df_likes = train_df['likes'].values\n",
        "train_df = train_df.drop(columns=['likes'])\n",
        "val_df_likes = val_df['likes'].values\n",
        "val_df = val_df.drop(columns=['likes'])"
      ],
      "metadata": {
        "id": "dGTbLGLEDdKk"
      },
      "execution_count": 95,
      "outputs": []
    },
    {
      "cell_type": "code",
      "source": [
        "X = train_df\n",
        "y = train_df_likes\n",
        "dtrain = xgb.DMatrix(data=X, label=y)\n",
        "predictions_train = loaded_model.predict(dtrain)\n",
        "\n",
        "X = val_df\n",
        "y = val_df_likes\n",
        "dtest = xgb.DMatrix(data=X, label=y)\n",
        "predictions_test = loaded_model.predict(dtest)"
      ],
      "metadata": {
        "id": "CemvAw_xDvMJ"
      },
      "execution_count": 96,
      "outputs": []
    },
    {
      "cell_type": "code",
      "source": [
        "train_df['outlier_score'] = predictions_train\n",
        "val_df['outlier_score'] = predictions_test"
      ],
      "metadata": {
        "id": "zfF3XEGuHisp"
      },
      "execution_count": 97,
      "outputs": []
    },
    {
      "cell_type": "code",
      "source": [
        "import xgboost as xgb\n",
        "from sklearn.model_selection import train_test_split\n",
        "from sklearn.metrics import mean_squared_error\n",
        "from sklearn.preprocessing import QuantileTransformer\n",
        "from xgboost import XGBRegressor\n",
        "from sklearn.model_selection import GridSearchCV\n",
        "from sklearn.linear_model import LinearRegression\n",
        "from sklearn.feature_extraction.text import TfidfVectorizer\n",
        "\n",
        "X_train, y_train = train_df, train_df_likes\n",
        "X_test, y_test = val_df, val_df_likes\n",
        "\n",
        "quantile_transformer = QuantileTransformer(output_distribution='normal')\n",
        "y_transformed_train = quantile_transformer.fit_transform(y_train.reshape(-1, 1)).flatten()\n",
        "y_transformed_test = quantile_transformer.transform(y_test.reshape(-1, 1)).flatten()\n",
        "\n",
        "vectorizer = TfidfVectorizer()\n",
        "X_train_text = vectorizer.fit_transform(train_text)\n",
        "X_test_text = vectorizer.transform(val_text)\n",
        "\n",
        "params = {\n",
        "    'learning_rate': 0.1,\n",
        "    'max_depth': 3,\n",
        "    'objective': 'reg:squarederror'\n",
        "}\n",
        "\n",
        "dtrain = xgb.DMatrix(X_train, label=y_transformed_train)\n",
        "dtest = xgb.DMatrix(X_test, label=y_transformed_test)\n",
        "\n",
        "num_round = 100\n",
        "model = xgb.train(params, dtrain, num_round)\n",
        "\n",
        "train_predictions = model.predict(dtrain)\n",
        "text_regressor = LinearRegression()\n",
        "text_regressor.fit(X_train_text, y_transformed_train)\n",
        "train_text_predictions = text_regressor.predict(X_train_text)\n",
        "train_combined_features = np.column_stack((train_text_predictions, train_predictions))\n",
        "meta_model = LinearRegression()\n",
        "meta_model.fit(train_combined_features, y_transformed_train)\n",
        "\n",
        "test_predictions = model.predict(dtest)\n",
        "test_text_predictions = text_regressor.predict(X_test_text)\n",
        "test_combined_features = np.column_stack((test_text_predictions, test_predictions))\n",
        "predictions = meta_model.predict(test_combined_features)\n",
        "\n",
        "y_pred_inverse = quantile_transformer.inverse_transform(predictions.reshape(-1, 1)).flatten()\n",
        "\n",
        "mse = mean_squared_error(y_pred_inverse, y_test)\n",
        "print(f\"Root Mean Squared Error (MSE): {np.sqrt(mse)}\")"
      ],
      "metadata": {
        "colab": {
          "base_uri": "https://localhost:8080/"
        },
        "id": "c_jDmUnHH2JX",
        "outputId": "9078b1e4-2849-42ad-abfa-5fc466211f7c"
      },
      "execution_count": 98,
      "outputs": [
        {
          "output_type": "stream",
          "name": "stdout",
          "text": [
            "Root Mean Squared Error (MSE): 4103.009313415427\n"
          ]
        }
      ]
    },
    {
      "cell_type": "code",
      "source": [
        "from sklearn.metrics import r2_score\n",
        "r2_score(y_test, y_pred_inverse)"
      ],
      "metadata": {
        "colab": {
          "base_uri": "https://localhost:8080/"
        },
        "id": "Go86GFgOJCHQ",
        "outputId": "76e48e19-ae84-4787-b831-3c524c863d7c"
      },
      "execution_count": 99,
      "outputs": [
        {
          "output_type": "execute_result",
          "data": {
            "text/plain": [
              "0.1447938670994734"
            ]
          },
          "metadata": {},
          "execution_count": 99
        }
      ]
    },
    {
      "cell_type": "code",
      "source": [
        "var1 = y_test\n",
        "var2 = y_pred_inverse\n",
        "sorted_indices = np.argsort(var1)\n",
        "sorted_var1 = var1[sorted_indices]\n",
        "sorted_var2 = var2[sorted_indices]"
      ],
      "metadata": {
        "id": "6wO9jiF4JQS3"
      },
      "execution_count": 100,
      "outputs": []
    },
    {
      "cell_type": "code",
      "source": [
        "import matplotlib.pyplot as plt\n",
        "indices = range(len(var1))\n",
        "plt.scatter(indices, sorted_var1, label='Predicted')\n",
        "plt.scatter(indices, sorted_var2, label='Actual')"
      ],
      "metadata": {
        "colab": {
          "base_uri": "https://localhost:8080/",
          "height": 449
        },
        "id": "oYhB5EJQJSqL",
        "outputId": "bf854d8b-218f-494b-dd72-767c4a0faab2"
      },
      "execution_count": 101,
      "outputs": [
        {
          "output_type": "execute_result",
          "data": {
            "text/plain": [
              "<matplotlib.collections.PathCollection at 0x7966d29da7d0>"
            ]
          },
          "metadata": {},
          "execution_count": 101
        },
        {
          "output_type": "display_data",
          "data": {
            "text/plain": [
              "<Figure size 640x480 with 1 Axes>"
            ],
            "image/png": "[encoded data removed]"
          },
          "metadata": {}
        }
      ]
    }
  ]
}